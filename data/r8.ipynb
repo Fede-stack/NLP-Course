{
 "cells": [
  {
   "cell_type": "code",
   "execution_count": 1,
   "id": "ac2dbb46",
   "metadata": {},
   "outputs": [
    {
     "name": "stderr",
     "output_type": "stream",
     "text": [
      "/Users/federico.ravenda/anaconda3/envs/fastm/lib/python3.9/site-packages/tqdm/auto.py:21: TqdmWarning: IProgress not found. Please update jupyter and ipywidgets. See https://ipywidgets.readthedocs.io/en/stable/user_install.html\n",
      "  from .autonotebook import tqdm as notebook_tqdm\n"
     ]
    }
   ],
   "source": [
    "import re\n",
    "import pandas as pd\n",
    "import numpy as np\n",
    "import matplotlib.pyplot as plt\n",
    "from scipy.stats import multivariate_normal\n",
    "import random\n",
    "plt.style.use('ggplot')\n",
    "import tensorflow as tf\n",
    "#import tensorflow_probability as tfp\n",
    "from sklearn.cluster import KMeans, DBSCAN\n",
    "from IPython import display\n",
    "from time import sleep\n",
    "import sklearn\n",
    "from sklearn import preprocessing\n",
    "# from sklearn.manifold import TSNE\n",
    "import string\n",
    "import nltk\n",
    "from nltk.stem.porter import PorterStemmer\n",
    "from nltk.stem import WordNetLemmatizer\n",
    "from nltk.tokenize import word_tokenize\n",
    "from nltk import FreqDist\n",
    "from nltk.tokenize import word_tokenize\n",
    "from nltk.corpus import stopwords\n",
    "from sklearn.feature_extraction.text import TfidfVectorizer\n",
    "\n",
    "from tqdm import tqdm\n",
    "from sklearn.metrics import silhouette_score, adjusted_rand_score, completeness_score\n",
    "from sentence_transformers import SentenceTransformer\n",
    "from sklearn.decomposition import PCA\n",
    "import operator\n",
    "#from wordcloud import WordCloud, STOPWORDS\n",
    "from sklearn.metrics.pairwise import cosine_similarity\n",
    "from scipy import stats\n",
    "import heapq\n",
    "from gensim.models.coherencemodel import CoherenceModel\n",
    "import random\n",
    "import math\n",
    "#import spacy\n",
    "import datetime\n",
    "from nltk import bigrams\n",
    "from collections import Counter\n",
    "from itertools import permutations, combinations\n",
    "from sklearn.linear_model import LogisticRegression\n",
    "from sklearn.preprocessing import LabelEncoder\n",
    "from sklearn.datasets import fetch_20newsgroups\n",
    "#import fasttext\n",
    "from sklearn.metrics import confusion_matrix, adjusted_rand_score, rand_score\n",
    "#import seaborn as sns\n",
    "\n",
    "# import tensorflow as tf\n",
    "# import keras\n",
    "# import tensorflow_probability as tfp\n",
    "# from keras.layers import Input, Concatenate, Dense, Dropout\n",
    "# from keras.models import Model\n",
    "# from keras.optimizers import Adam\n",
    "import fasttext\n",
    "from sklearn.metrics import accuracy_score\n",
    "\n",
    "from xgboost import XGBClassifier\n",
    "import lightgbm as lgb\n",
    "from sklearn.ensemble import RandomForestClassifier, ExtraTreesClassifier\n",
    "from lightgbm import LGBMClassifier\n",
    "from catboost import CatBoostClassifier"
   ]
  },
  {
   "cell_type": "code",
   "execution_count": 2,
   "id": "4e4bdd6f",
   "metadata": {},
   "outputs": [],
   "source": [
    "test = pd.read_csv('r8-test-stemmed.csv')\n",
    "train = pd.read_csv('r8-train-stemmed.csv')"
   ]
  },
  {
   "cell_type": "code",
   "execution_count": 3,
   "id": "cf4b5273",
   "metadata": {},
   "outputs": [],
   "source": [
    "docs = [train.text.values.tolist() + test.text.values.tolist()]\n",
    "labels = [train.intent.values.tolist() + test.intent.values.tolist()]"
   ]
  },
  {
   "cell_type": "code",
   "execution_count": 4,
   "id": "7143176a",
   "metadata": {},
   "outputs": [],
   "source": [
    "docs = docs[0]\n",
    "labels = labels[0]"
   ]
  },
  {
   "cell_type": "code",
   "execution_count": 6,
   "id": "643a02c0",
   "metadata": {},
   "outputs": [
    {
     "data": {
      "text/plain": [
       "16698"
      ]
     },
     "execution_count": 6,
     "metadata": {},
     "output_type": "execute_result"
    }
   ],
   "source": [
    "from sklearn.feature_extraction.text import TfidfVectorizer, CountVectorizer\n",
    "\n",
    "vectorizer = CountVectorizer(binary=True, min_df=0.)#, tokenizer = LemmaTokenizer()) 25\n",
    "# vectorizer = TfidfVectorizer(stop_words='english', min_df = .02, max_df = .95)#, tokenizer = LemmaTokenizer()) # to reduce the vocabulary size\n",
    "binary_matrix = vectorizer.fit_transform(docs).toarray()\n",
    "len(vectorizer.get_feature_names_out())"
   ]
  },
  {
   "cell_type": "code",
   "execution_count": null,
   "id": "56c2b821",
   "metadata": {},
   "outputs": [],
   "source": [
    "# pd.DataFrame(np.column_stack((docs, np.repeat('train', len(docs))))).to_csv('corpus_20newss.tsv', header=None, index = False)"
   ]
  },
  {
   "cell_type": "code",
   "execution_count": null,
   "id": "e9554151",
   "metadata": {},
   "outputs": [],
   "source": [
    "# vocab = []\n",
    "# for doc in docs:\n",
    "#     for word in doc.split(' '):\n",
    "#         if word not in vocab: \n",
    "#             vocab.append(word)"
   ]
  },
  {
   "cell_type": "code",
   "execution_count": null,
   "id": "d7e78fda",
   "metadata": {},
   "outputs": [],
   "source": [
    "# file = open('vocabulary20.txt','w')\n",
    "# file.writelines(vocab)\n",
    "# file.close()"
   ]
  },
  {
   "cell_type": "code",
   "execution_count": 7,
   "id": "71da1885",
   "metadata": {},
   "outputs": [
    {
     "data": {
      "text/plain": [
       "66.96842447477621"
      ]
     },
     "execution_count": 7,
     "metadata": {},
     "output_type": "execute_result"
    }
   ],
   "source": [
    "np.array([len(doc.split(' ')) for doc in docs]).mean()\n",
    "np.array([len(doc.split(' ')) for doc in docs]).std()"
   ]
  },
  {
   "cell_type": "code",
   "execution_count": 9,
   "id": "58c8a041",
   "metadata": {},
   "outputs": [],
   "source": [
    "from sklearn.feature_extraction.text import TfidfVectorizer, CountVectorizer\n",
    "\n",
    "vectorizer = CountVectorizer(binary=True, min_df = 10)#, tokenizer = LemmaTokenizer()) 25\n",
    "# vectorizer = TfidfVectorizer(stop_words='english', min_df = .02, max_df = .95)#, tokenizer = LemmaTokenizer()) # to reduce the vocabulary size\n",
    "binary_matrix = vectorizer.fit_transform(docs).toarray()\n",
    "binary_df = pd.DataFrame(binary_matrix, columns = vectorizer.get_feature_names_out())\n",
    "binary_df = binary_df.loc[:, list(binary_df.columns)]"
   ]
  },
  {
   "cell_type": "code",
   "execution_count": null,
   "id": "a7540da8",
   "metadata": {},
   "outputs": [],
   "source": [
    "binary_df"
   ]
  },
  {
   "cell_type": "code",
   "execution_count": null,
   "id": "bb22d341",
   "metadata": {},
   "outputs": [],
   "source": [
    "# liss = list(binary_df.columns)\n",
    "# file = open('columns_20fetch.txt','w')\n",
    "# for item in liss:\n",
    "#     file.write(item+\"\\n\")\n",
    "# file.close()"
   ]
  },
  {
   "cell_type": "code",
   "execution_count": null,
   "id": "6f47e661",
   "metadata": {},
   "outputs": [],
   "source": [
    "# file_path = \"corpus_20fetch.txt\"\n",
    "\n",
    "# # Open the file in write mode\n",
    "# with open(file_path, \"w\", encoding=\"utf-8\") as file:\n",
    "#     # Write each document to the file, one line at a time\n",
    "#     file.write(' '.join(docs))"
   ]
  },
  {
   "cell_type": "code",
   "execution_count": null,
   "id": "17aa0529",
   "metadata": {},
   "outputs": [],
   "source": [
    "# Imposta i parametri di addestramento\n",
    "# dimension = 100  # Cambia questo valore a seconda delle tue esigenze\n",
    "# epoch = 100\n",
    "\n",
    "# # Addestramento del modello FastText\n",
    "# nlp = fasttext.train_unsupervised('corpus_20fetch.txt', dim=dimension, epoch=epoch)\n",
    "# nlp.save_model('prova.bin')"
   ]
  },
  {
   "cell_type": "code",
   "execution_count": 10,
   "id": "7f73d375",
   "metadata": {},
   "outputs": [
    {
     "name": "stderr",
     "output_type": "stream",
     "text": [
      "Warning : `load_model` does not return WordVectorModel or SupervisedModel any more, but a `FastText` object which is very similar.\n"
     ]
    }
   ],
   "source": [
    "words_to_consider = np.array(list(binary_df.columns))#.reshape(-1, 1)\n",
    "nlp = fasttext.load_model('fasttext_20fetch.bin')"
   ]
  },
  {
   "cell_type": "code",
   "execution_count": 11,
   "id": "75063ff2",
   "metadata": {},
   "outputs": [],
   "source": [
    "def generate_word_embeddings(word_list):\n",
    "    word_embeddings = []\n",
    "    for word in word_list:\n",
    "        token = nlp.get_word_vector(word)\n",
    "        word_embeddings.append(token)\n",
    "\n",
    "    return word_embeddings\n",
    "\n",
    "ww = [str(w) for w in words_to_consider]\n",
    "word_embeddings = generate_word_embeddings(ww)"
   ]
  },
  {
   "cell_type": "code",
   "execution_count": null,
   "id": "aee6103e",
   "metadata": {},
   "outputs": [],
   "source": [
    "# cosines = []\n",
    "# for i, word in enumerate(word_embeddings):\n",
    "#     for j, word_to_compared in enumerate(word_embeddings):\n",
    "#         if i != j:\n",
    "#             cosines.append([words_to_consider[i], words_to_consider[j],cosine_similarity([word], [word_to_compared])[0][0]])"
   ]
  },
  {
   "cell_type": "code",
   "execution_count": null,
   "id": "9bf06a08",
   "metadata": {},
   "outputs": [],
   "source": [
    "# cosines_df = pd.DataFrame(cosines, columns = ['Node1', 'Node2', 'cosine_similarity'])\n",
    "# cosines_df"
   ]
  },
  {
   "cell_type": "code",
   "execution_count": null,
   "id": "b38f1046",
   "metadata": {},
   "outputs": [],
   "source": [
    "# pivot_table = pd.pivot_table(cosines_df, values='cosine_similarity', index='Node1', columns='Node2')\n",
    "# pivot_table = pivot_table.fillna(0)\n",
    "# pivot_table\n",
    "# pivot_table.t0_csv('pivot_fetch2.csv')"
   ]
  },
  {
   "cell_type": "code",
   "execution_count": null,
   "id": "d9694fc3",
   "metadata": {},
   "outputs": [],
   "source": [
    "pivot_table = pd.read_csv('pivot_fetch.csv')\n",
    "pivot_table.drop('Node1', axis = 1, inplace = True)\n",
    "pivot_table = pivot_table.set_index(pivot_table.columns)\n",
    "pivot_table = pivot_table.set_index(pivot_table.index)"
   ]
  },
  {
   "cell_type": "code",
   "execution_count": null,
   "id": "b23d9ad2",
   "metadata": {},
   "outputs": [],
   "source": [
    "n_clusters =  20"
   ]
  },
  {
   "cell_type": "code",
   "execution_count": null,
   "id": "a94cd7e2",
   "metadata": {},
   "outputs": [],
   "source": [
    "def find_seed_words(top_N, first_K):\n",
    "    mean_df = pd.DataFrame()\n",
    "\n",
    "    for index, row in pivot_table.iterrows():\n",
    "        mean_value = row.sort_values(ascending=False)[:first_K].mean()\n",
    "        mean_df.loc[index, 'mean'] = mean_value\n",
    "\n",
    "    mean_df = mean_df.sort_values('mean', ascending=False).iloc[:top_N]\n",
    "    return list(mean_df.index)\n",
    "seed_words = find_seed_words(350, 15)#350, 15"
   ]
  },
  {
   "cell_type": "code",
   "execution_count": null,
   "id": "40343f8b",
   "metadata": {},
   "outputs": [],
   "source": [
    "embeddings = pivot_table.loc[seed_words, seed_words]"
   ]
  },
  {
   "cell_type": "code",
   "execution_count": null,
   "id": "0848d1f3",
   "metadata": {},
   "outputs": [],
   "source": [
    "# from sklearn.decomposition import PCA\n",
    "# umap = UMAP(n_components=20, random_state = 0) \n",
    "# umap.fit(embeddings)\n",
    "# embeddings_umap = umap.transform(embeddings)"
   ]
  },
  {
   "cell_type": "code",
   "execution_count": null,
   "id": "a09da235",
   "metadata": {},
   "outputs": [],
   "source": [
    "kmeans = KMeans(n_clusters=n_clusters, random_state=0)\n",
    "kmeans_ = kmeans.fit(embeddings.values)\n",
    "cluster_kmeans = kmeans_.labels_"
   ]
  },
  {
   "cell_type": "code",
   "execution_count": null,
   "id": "abb93652",
   "metadata": {
    "scrolled": true
   },
   "outputs": [],
   "source": [
    "plt.hist(cluster_kmeans, bins = n_clusters)"
   ]
  },
  {
   "cell_type": "code",
   "execution_count": null,
   "id": "93b7f7dc",
   "metadata": {},
   "outputs": [],
   "source": [
    "cluster_dict = {}\n",
    "for i, clus in enumerate(cluster_kmeans):\n",
    "    if clus not in cluster_dict:\n",
    "        cluster_dict[clus] = []\n",
    "    cluster_dict[clus].append(seed_words[i])"
   ]
  },
  {
   "cell_type": "code",
   "execution_count": null,
   "id": "9f31f36f",
   "metadata": {},
   "outputs": [],
   "source": [
    "n_combinations = 3\n",
    "matching_docs = {}\n",
    "\n",
    "# Iterazione sui documenti\n",
    "for idx, doc in enumerate(docs):\n",
    "    word_counts = {cluster: [] for cluster in cluster_dict.keys()}  # Inizializzazione parole per cluster\n",
    "\n",
    "    # Conteggio delle parole del documento presenti in ogni cluster\n",
    "    for cluster, word_list in cluster_dict.items():\n",
    "        for word in word_list:\n",
    "            if word.lower() in doc.lower():\n",
    "                word_counts[cluster].append(word)\n",
    "\n",
    "    # Verifica se il documento contiene almeno tre parole di uno stesso cluster\n",
    "    for cluster, words in word_counts.items():\n",
    "        if len(words) >= n_combinations:\n",
    "            if idx in matching_docs:\n",
    "                matching_docs[idx][cluster] = words\n",
    "            else:\n",
    "                matching_docs[idx] = {cluster: words}"
   ]
  },
  {
   "cell_type": "code",
   "execution_count": null,
   "id": "85fdcf63",
   "metadata": {},
   "outputs": [],
   "source": [
    "def return_input2(triplet):\n",
    "    vector = np.zeros(binary_df.shape[1])\n",
    "    for word in triplet:\n",
    "        vector[word_to_consider[word]] = 1\n",
    "    return vector\n",
    "\n",
    "def return_random_triplets(matching, K):\n",
    "    combinations_words = list(combinations(matching, n_combinations))\n",
    "    return random.sample(combinations_words, k=min(K, len(combinations_words)))"
   ]
  },
  {
   "cell_type": "code",
   "execution_count": null,
   "id": "7c989752",
   "metadata": {},
   "outputs": [],
   "source": [
    "word_to_consider = {}\n",
    "for i, word in enumerate(list(binary_df.columns)):\n",
    "    word_to_consider[word] = i"
   ]
  },
  {
   "cell_type": "code",
   "execution_count": null,
   "id": "fe60b87a",
   "metadata": {},
   "outputs": [],
   "source": [
    "K = 5\n",
    "input1 = []\n",
    "input2 = []\n",
    "out = []\n",
    "yy = []\n",
    "idx_corp = []\n",
    "for key in matching_docs: #key sono gli indici del dataset\n",
    "    for value in matching_docs[key]:\n",
    "        list_triplets = return_random_triplets(matching_docs[key][value], K) # triplette random\n",
    "        for i in range(len(list_triplets)): #triplette per ciascun cluster\n",
    "            \n",
    "            idx_corp.append(key)\n",
    "            input1.append(np.array(binary_df.iloc[key, :]))\n",
    "            input2.append(return_input2(list(list_triplets[i])))\n",
    "            out.append(value)"
   ]
  },
  {
   "cell_type": "code",
   "execution_count": null,
   "id": "3e2ed010",
   "metadata": {},
   "outputs": [],
   "source": [
    "import keras\n",
    "input1 = np.array(input1, dtype=np.float32)\n",
    "input2 = np.array(input2, dtype=np.float32)\n",
    "out = keras.utils.to_categorical(np.array(out), dtype=np.float32)\n",
    "inputs_stack = np.column_stack((input1, input2))"
   ]
  },
  {
   "cell_type": "code",
   "execution_count": null,
   "id": "b8ffe500",
   "metadata": {},
   "outputs": [],
   "source": [
    "input1.shape"
   ]
  },
  {
   "cell_type": "code",
   "execution_count": null,
   "id": "1c1edcba",
   "metadata": {},
   "outputs": [],
   "source": [
    "plt.hist(out.argmax(axis = 1), n_clusters)"
   ]
  },
  {
   "cell_type": "code",
   "execution_count": null,
   "id": "d830d7e9",
   "metadata": {},
   "outputs": [],
   "source": [
    "from imblearn.under_sampling import RandomUnderSampler\n",
    "class_counts = Counter(out.argmax(axis=1))\n",
    "min_class_count = min(class_counts.values())\n",
    "desired_count = 2 * min_class_count\n",
    "\n",
    "sampling_strategy = {cls: min(count, desired_count) for cls, count in class_counts.items()}\n",
    "\n",
    "rus = RandomUnderSampler(sampling_strategy=sampling_strategy, random_state=42)\n",
    "X_resampled, y_resampled = rus.fit_resample(inputs_stack, out)"
   ]
  },
  {
   "cell_type": "code",
   "execution_count": null,
   "id": "a2da8377",
   "metadata": {},
   "outputs": [],
   "source": [
    "plt.hist(y_resampled.argmax(axis = 1), n_clusters)"
   ]
  },
  {
   "cell_type": "code",
   "execution_count": null,
   "id": "db26458b",
   "metadata": {},
   "outputs": [],
   "source": [
    "X_resampled.shape"
   ]
  },
  {
   "cell_type": "markdown",
   "id": "6ad67c9e",
   "metadata": {},
   "source": [
    "## Explainable Topic Modelling"
   ]
  },
  {
   "cell_type": "code",
   "execution_count": null,
   "id": "73a5121b",
   "metadata": {},
   "outputs": [],
   "source": [
    "X_pred = np.eye(binary_df.shape[1])\n",
    "X_pred1 = np.zeros((binary_df.shape[1], binary_df.shape[1]))"
   ]
  },
  {
   "cell_type": "code",
   "execution_count": null,
   "id": "661e4ba2",
   "metadata": {},
   "outputs": [],
   "source": [
    "lgbm_clf = lgb.LGBMClassifier(seed = 0, random_state=0, )\n",
    "xgb_clf = XGBClassifier(random_state=0)\n",
    "cat_clf = CatBoostClassifier(verbose = False, random_seed=0)#BalancedAccuracy\n",
    "rf_clf = RandomForestClassifier(n_jobs=-1, random_state=0, n_estimators = 1000 ) \n",
    "et_clf = ExtraTreesClassifier(random_state=0, n_estimators = 500, n_jobs = -1)"
   ]
  },
  {
   "cell_type": "code",
   "execution_count": null,
   "id": "08fde254",
   "metadata": {},
   "outputs": [],
   "source": [
    "from sklearn.neural_network import MLPClassifier\n",
    "mlp = MLPClassifier(hidden_layer_sizes=512, random_state=0)"
   ]
  },
  {
   "cell_type": "code",
   "execution_count": null,
   "id": "bb3182f1",
   "metadata": {},
   "outputs": [],
   "source": [
    "list_of_models = [lgbm_clf, xgb_clf, cat_clf, rf_clf, et_clf, mlp]"
   ]
  },
  {
   "cell_type": "code",
   "execution_count": null,
   "id": "386cdfea",
   "metadata": {},
   "outputs": [],
   "source": [
    "def extract_topic_representations(predictions):\n",
    "    sorted_indices = np.argsort(predictions, axis=0)[::-1]\n",
    "    top_10_indices = sorted_indices[:25, :]\n",
    "    topic_representations = [np.array(list(binary_df.columns))[list(top_10_indices[:, i_col])] for i_col in range(n_clusters) ]\n",
    "    return topic_representations"
   ]
  },
  {
   "cell_type": "code",
   "execution_count": null,
   "id": "326e29e8",
   "metadata": {},
   "outputs": [],
   "source": [
    "def calculate_topic_diversity(topics):\n",
    "    # Creazione di una lista di tutte le parole nei topic\n",
    "    all_words = [word for topic in topics for word in topic]\n",
    "\n",
    "    # Calcolo del numero totale di parole considerate\n",
    "    total_words = len(all_words)\n",
    "\n",
    "    # Calcolo del numero di parole uniche\n",
    "    unique_words = len(set(all_words))\n",
    "\n",
    "    # Calcolo della diversità dei topic\n",
    "    diversity_score = unique_words / total_words\n",
    "\n",
    "    return diversity_score\n",
    "\n",
    "def create_cm(actual, predicted):\n",
    "    cm = confusion_matrix(actual, predicted)\n",
    "\n",
    "    # Define labels for the matrix\n",
    "    labels = np.unique(actual)\n",
    "\n",
    "    # Create figure and axis\n",
    "    fig, ax = plt.subplots(figsize=(15, 10))\n",
    "\n",
    "    # Create heatmap\n",
    "    heatmap = ax.imshow(cm, cmap='Blues')\n",
    "\n",
    "    # Set ticks and tick labels\n",
    "    ax.set_xticks(np.arange(len(labels)))\n",
    "    ax.set_yticks(np.arange(len(labels)))\n",
    "    ax.set_xticklabels(labels)\n",
    "    ax.set_yticklabels(labels)\n",
    "\n",
    "    # Loop over data dimensions and create text annotations\n",
    "    for i in range(len(labels)):\n",
    "        for j in range(len(labels)):\n",
    "            text = ax.text(j, i, cm[i, j], ha='center', va='center', color='black')\n",
    "\n",
    "    # Add colorbar\n",
    "    cbar = ax.figure.colorbar(heatmap, ax=ax)\n",
    "    # Remove grid\n",
    "    ax.grid(False)\n",
    "    # Set labels and title\n",
    "    ax.set_xlabel(\"Predicted\")\n",
    "    ax.set_ylabel(\"Actual\")\n",
    "    ax.set_title(\"Confusion Matrix\")\n",
    "\n",
    "    # Display the plot\n",
    "    plt.show()"
   ]
  },
  {
   "cell_type": "code",
   "execution_count": null,
   "id": "fa2f9625",
   "metadata": {},
   "outputs": [],
   "source": [
    "# predictions = clf.predict(np.column_stack((binary_df.values, binary_df.values)))\n",
    "clf = MLPClassifier(random_state=0)\n",
    "clf = RandomForestClassifier()\n",
    "#clf = list_of_models[0]\n",
    "clf.fit(X_resampled, np.argmax(y_resampled, axis = 1))\n",
    "#predictions_prob = clf.predict_proba(np.column_stack((binary_df.values, np.zeros(binary_df.values.shape))))\n",
    "predictions_prob = clf.predict_proba(np.column_stack((binary_df.values, binary_df.values)))\n",
    "#predictions_prob = clf.predict_proba(np.column_stack((np.zeros(binary_df.values.shape), binary_df.values)))\n",
    "predictions = predictions_prob.argmax(axis = 1)"
   ]
  },
  {
   "cell_type": "code",
   "execution_count": null,
   "id": "235777f3",
   "metadata": {},
   "outputs": [],
   "source": [
    "cm = confusion_matrix(labels, predictions)\n",
    "max_ind = np.argmax(cm, axis = 1)\n",
    "print(cm.max(axis = 1).sum())\n",
    "print((cm.max(axis = 1)/cm.sum(axis = 1)).mean())\n",
    "print(adjusted_rand_score(labels, predictions))\n",
    "print(rand_score(labels, predictions))"
   ]
  },
  {
   "cell_type": "code",
   "execution_count": null,
   "id": "511fba13",
   "metadata": {},
   "outputs": [],
   "source": [
    "sklearn.metrics.homogeneity_completeness_v_measure(labels,predictions)"
   ]
  },
  {
   "cell_type": "code",
   "execution_count": 259,
   "id": "5b884660",
   "metadata": {},
   "outputs": [
    {
     "data": {
      "image/png": "[encoded data removed]",
      "text/plain": [
       "<Figure size 1500x1000 with 2 Axes>"
      ]
     },
     "metadata": {},
     "output_type": "display_data"
    }
   ],
   "source": [
    "create_cm(labels, predictions)"
   ]
  },
  {
   "cell_type": "code",
   "execution_count": 58,
   "id": "612a97da",
   "metadata": {},
   "outputs": [
    {
     "name": "stdout",
     "output_type": "stream",
     "text": [
      "Adjusted Rand Index: 0.16511909010314918\n",
      "Normalized Mutual Information: 0.306027154710265\n",
      "Homogeneity: 0.2958512379563395\n",
      "Completeness: 0.31692801530145986\n",
      "V-Measure: 0.306027154710265\n",
      "Fowlkes-Mallows Index: 0.21733596996194052\n"
     ]
    }
   ],
   "source": [
    "from sklearn.metrics import adjusted_rand_score, normalized_mutual_info_score\n",
    "from sklearn.metrics import homogeneity_score, completeness_score, v_measure_score\n",
    "from sklearn.metrics import fowlkes_mallows_score\n",
    "\n",
    "# Assuming 'labels' are your true labels and 'predictions' are your cluster assignments\n",
    "adjusted_rand = adjusted_rand_score(labels, predictions)\n",
    "nmi = normalized_mutual_info_score(labels, predictions)\n",
    "homogeneity = homogeneity_score(labels, predictions)\n",
    "completeness = completeness_score(labels, predictions)\n",
    "v_measure = v_measure_score(labels, predictions)\n",
    "fowlkes_mallows = fowlkes_mallows_score(labels, predictions)\n",
    "\n",
    "print(f\"Adjusted Rand Index: {adjusted_rand}\")\n",
    "print(f\"Normalized Mutual Information: {nmi}\")\n",
    "print(f\"Homogeneity: {homogeneity}\")\n",
    "print(f\"Completeness: {completeness}\")\n",
    "print(f\"V-Measure: {v_measure}\")\n",
    "print(f\"Fowlkes-Mallows Index: {fowlkes_mallows}\")\n"
   ]
  },
  {
   "cell_type": "code",
   "execution_count": 61,
   "id": "cbcdf9e0",
   "metadata": {},
   "outputs": [
    {
     "name": "stdout",
     "output_type": "stream",
     "text": [
      "Adjusted Rand Index: 0.22404715517159332\n",
      "Normalized Mutual Information: 0.3723036508160047\n",
      "Homogeneity: 0.3700291226818596\n",
      "Completeness: 0.3746063144421856\n",
      "V-Measure: 0.3723036508160047\n",
      "Fowlkes-Mallows Index: 0.2647186815418154\n"
     ]
    }
   ],
   "source": [
    "predictions = kmeans_se.labels_\n",
    "adjusted_rand = adjusted_rand_score(labels, predictions)\n",
    "nmi = normalized_mutual_info_score(labels, predictions)\n",
    "homogeneity = homogeneity_score(labels, predictions)\n",
    "completeness = completeness_score(labels, predictions)\n",
    "v_measure = v_measure_score(labels, predictions)\n",
    "fowlkes_mallows = fowlkes_mallows_score(labels, predictions)\n",
    "\n",
    "print(f\"Adjusted Rand Index: {adjusted_rand}\")\n",
    "print(f\"Normalized Mutual Information: {nmi}\")\n",
    "print(f\"Homogeneity: {homogeneity}\")\n",
    "print(f\"Completeness: {completeness}\")\n",
    "print(f\"V-Measure: {v_measure}\")\n",
    "print(f\"Fowlkes-Mallows Index: {fowlkes_mallows}\")"
   ]
  },
  {
   "cell_type": "code",
   "execution_count": 95,
   "id": "9cbbbf1d",
   "metadata": {},
   "outputs": [
    {
     "name": "stdout",
     "output_type": "stream",
     "text": [
      "xxx\n",
      "Topic Coherence C_NPMI: 0.04144686963987655\n",
      "Topic Coherence C_UCI: -0.9847516032507532\n",
      "Topic Coherence C_V: 0.5793191994628846\n",
      "Topic diveristy is: 0.946\n"
     ]
    }
   ],
   "source": [
    "clf = list_of_models[3]\n",
    "clf.fit(X_resampled, np.argmax(y_resampled, axis = 1))\n",
    "# clf.fit(inputs_stack, np.argmax(out, axis = 1))\n",
    "predictions = clf.predict_proba(np.column_stack((X_pred, X_pred)))\n",
    "topic_representations = extract_topic_representations(predictions)\n",
    "documents = [doc.split() for doc in docs]\n",
    "dictionary = corpora.Dictionary(documents)\n",
    "corpus = [dictionary.doc2bow(doc) for doc in documents]\n",
    "print('xxx')\n",
    "cm = CoherenceModel(topics=topic_representations, texts = documents, dictionary = dictionary, coherence='c_npmi')\n",
    "coherence_npmi = cm.get_coherence()\n",
    "print(f'Topic Coherence C_NPMI: {coherence_npmi}')\n",
    "cm = CoherenceModel(topics=topic_representations, texts = documents, dictionary = dictionary, coherence='c_uci')\n",
    "coherence_uci = cm.get_coherence()\n",
    "print(f'Topic Coherence C_UCI: {coherence_uci}')\n",
    "cm = CoherenceModel(topics=topic_representations, texts = documents, dictionary = dictionary, coherence='c_v')\n",
    "coherence_cv = cm.get_coherence()\n",
    "print(f'Topic Coherence C_V: {coherence_cv}')\n",
    "coherence_div = calculate_topic_diversity(topic_representations)\n",
    "print('Topic diveristy is: {}'.format(calculate_topic_diversity(topic_representations)))"
   ]
  },
  {
   "cell_type": "code",
   "execution_count": 126,
   "id": "4e9b3821",
   "metadata": {},
   "outputs": [
    {
     "name": "stderr",
     "output_type": "stream",
     "text": [
      "huggingface/tokenizers: The current process just got forked, after parallelism has already been used. Disabling parallelism to avoid deadlocks...\n",
      "To disable this warning, you can either:\n",
      "\t- Avoid using `tokenizers` before the fork if possible\n",
      "\t- Explicitly set the environment variable TOKENIZERS_PARALLELISM=(true | false)\n",
      "huggingface/tokenizers: The current process just got forked, after parallelism has already been used. Disabling parallelism to avoid deadlocks...\n",
      "To disable this warning, you can either:\n",
      "\t- Avoid using `tokenizers` before the fork if possible\n",
      "\t- Explicitly set the environment variable TOKENIZERS_PARALLELISM=(true | false)\n",
      "huggingface/tokenizers: The current process just got forked, after parallelism has already been used. Disabling parallelism to avoid deadlocks...\n",
      "To disable this warning, you can either:\n",
      "\t- Avoid using `tokenizers` before the fork if possible\n",
      "\t- Explicitly set the environment variable TOKENIZERS_PARALLELISM=(true | false)\n",
      "huggingface/tokenizers: The current process just got forked, after parallelism has already been used. Disabling parallelism to avoid deadlocks...\n",
      "To disable this warning, you can either:\n",
      "\t- Avoid using `tokenizers` before the fork if possible\n",
      "\t- Explicitly set the environment variable TOKENIZERS_PARALLELISM=(true | false)\n",
      "huggingface/tokenizers: The current process just got forked, after parallelism has already been used. Disabling parallelism to avoid deadlocks...\n",
      "To disable this warning, you can either:\n",
      "\t- Avoid using `tokenizers` before the fork if possible\n",
      "\t- Explicitly set the environment variable TOKENIZERS_PARALLELISM=(true | false)\n",
      "huggingface/tokenizers: The current process just got forked, after parallelism has already been used. Disabling parallelism to avoid deadlocks...\n",
      "To disable this warning, you can either:\n",
      "\t- Avoid using `tokenizers` before the fork if possible\n",
      "\t- Explicitly set the environment variable TOKENIZERS_PARALLELISM=(true | false)\n",
      "huggingface/tokenizers: The current process just got forked, after parallelism has already been used. Disabling parallelism to avoid deadlocks...\n",
      "To disable this warning, you can either:\n",
      "\t- Avoid using `tokenizers` before the fork if possible\n",
      "\t- Explicitly set the environment variable TOKENIZERS_PARALLELISM=(true | false)\n",
      "huggingface/tokenizers: The current process just got forked, after parallelism has already been used. Disabling parallelism to avoid deadlocks...\n",
      "To disable this warning, you can either:\n",
      "\t- Avoid using `tokenizers` before the fork if possible\n",
      "\t- Explicitly set the environment variable TOKENIZERS_PARALLELISM=(true | false)\n",
      "huggingface/tokenizers: The current process just got forked, after parallelism has already been used. Disabling parallelism to avoid deadlocks...\n",
      "To disable this warning, you can either:\n",
      "\t- Avoid using `tokenizers` before the fork if possible\n",
      "\t- Explicitly set the environment variable TOKENIZERS_PARALLELISM=(true | false)\n",
      "huggingface/tokenizers: The current process just got forked, after parallelism has already been used. Disabling parallelism to avoid deadlocks...\n",
      "To disable this warning, you can either:\n",
      "\t- Avoid using `tokenizers` before the fork if possible\n",
      "\t- Explicitly set the environment variable TOKENIZERS_PARALLELISM=(true | false)\n",
      "huggingface/tokenizers: The current process just got forked, after parallelism has already been used. Disabling parallelism to avoid deadlocks...\n",
      "To disable this warning, you can either:\n",
      "\t- Avoid using `tokenizers` before the fork if possible\n",
      "\t- Explicitly set the environment variable TOKENIZERS_PARALLELISM=(true | false)\n"
     ]
    },
    {
     "name": "stdout",
     "output_type": "stream",
     "text": [
      "Topic Coherence C_NPMI: 0.13457255774367968\n"
     ]
    }
   ],
   "source": [
    "def extract_topic_representations(predictions):\n",
    "    sorted_indices = np.argsort(predictions, axis=0)[::-1]\n",
    "    top_10_indices = sorted_indices[:10, :]\n",
    "    topic_representations = [np.array(list(binary_df.columns))[list(top_10_indices[:, i_col])] for i_col in range(n_clusters) ]\n",
    "    return topic_representations\n",
    "predictions = clf.predict_proba(np.column_stack((X_pred, X_pred)))\n",
    "topic_representations = extract_topic_representations(predictions)\n",
    "cm = CoherenceModel(topics=topic_representations, texts = documents, dictionary = dictionary, coherence='c_npmi')\n",
    "coherence_npmi = cm.get_coherence()\n",
    "print(f'Topic Coherence C_NPMI: {coherence_npmi}')"
   ]
  },
  {
   "cell_type": "code",
   "execution_count": 135,
   "id": "0eb26350",
   "metadata": {},
   "outputs": [
    {
     "name": "stdout",
     "output_type": "stream",
     "text": [
      "['treatment' 'court' 'bike' 'heaven' 'running' 'patient' 'orbit'\n",
      " 'constitution' 'circuit' 'site']\n",
      "['brand' 'address' 'steering' 'resistor' 'great' 'sale' 'crime' 'wire'\n",
      " 'hockey' 'proof']\n",
      "['fact' 'claim' 'place' 'state' 'clipper' 'rear' 'sexuality' 'objective'\n",
      " 'problem' 'secure']\n",
      "['people' 'wiring' 'works' 'card' 'message' 'format' 'voltage' 'posted'\n",
      " 'color' 'serial']\n",
      "['national' 'eternal' 'true' 'transformer' 'riding' 'shaw' 'professor'\n",
      " 'father' 'lord' 'clinical']\n",
      "['morality' 'federal' 'institute' 'real' 'doctrine' 'read' 'disk'\n",
      " 'medicine' 'long' 'solar']\n",
      "['advance' 'memory' 'sexual' 'security' 'access' 'spirit' 'pitcher'\n",
      " 'shipping' 'display' 'religion']\n",
      "['find' 'horizontal' 'correct' 'mail' 'constitutional' 'file' 'genocide'\n",
      " 'post' 'contact' 'money']\n",
      "['satellite' 'chronic' 'president' 'standard' 'interface' 'sense' 'love'\n",
      " 'person' 'therapy' 'statement']\n",
      "['note' 'graphics' 'encryption' 'point' 'pulse' 'monitor' 'shuttle'\n",
      " 'extermination' 'university' 'catholic']\n",
      "['version' 'board' 'reading' 'mission' 'church' 'left' 'sell' 'check'\n",
      " 'season' 'pitch']\n",
      "['motif' 'existence' 'list' 'scoring' 'driver' 'idea' 'escrow' 'chip'\n",
      " 'planet' 'faith']\n",
      "['disease' 'system' 'life' 'hear' 'remember' 'doctor' 'discussion' 'faith'\n",
      " 'price' 'york']\n",
      "['computer' 'mode' 'space' 'homosexuality' 'article' 'code' 'thought'\n",
      " 'phone' 'launch' 'stuff']\n",
      "['work' 'amendment' 'government' 'medical' 'diet' 'fast' 'question'\n",
      " 'manager' 'drive' 'science']\n",
      "['homosexual' 'answer' 'player' 'moon' 'police' 'live' 'vertical' 'wheel'\n",
      " 'fire' 'selling']\n",
      "['window' 'play' 'pretty' 'heat' 'send' 'baseball' 'application' 'server'\n",
      " 'motorcycle' 'condition']\n",
      "['engine' 'exist' 'religious' 'corner' 'algorithm' 'holy' 'port' 'data'\n",
      " 'hardware' 'offer']\n",
      "['interested' 'privacy' 'reason' 'thee' 'hope' 'call' 'country' 'kind'\n",
      " 'game' 'hard']\n",
      "['program' 'team' 'earth' 'fine' 'front' 'encrypt' 'anonymous' 'machine'\n",
      " 'cryptography' 'support']\n"
     ]
    }
   ],
   "source": [
    "import random\n",
    "\n",
    "def swap_words_in_arrays(arrays, swap_percentage):\n",
    "    # Calcola il numero totale di parole e il numero di parole da scambiare\n",
    "    total_words = sum(len(arr) for arr in arrays)\n",
    "    words_to_swap = int(total_words * swap_percentage / 100)\n",
    "\n",
    "    # Crea una lista di tutte le parole con i loro indici di array e posizione\n",
    "    all_words = [(word, array_idx, word_idx) for array_idx, arr in enumerate(arrays) for word_idx, word in enumerate(arr)]\n",
    "\n",
    "    # Esegue gli scambi\n",
    "    for _ in range(words_to_swap):\n",
    "        # Seleziona due parole casuali da scambiare\n",
    "        word1, word2 = random.sample(all_words, 2)\n",
    "\n",
    "        # Scambia le parole\n",
    "        arrays[word1[1]][word1[2]], arrays[word2[1]][word2[2]] = arrays[word2[1]][word2[2]], arrays[word1[1]][word1[2]]\n",
    "\n",
    "    return arrays\n",
    "\n",
    "# Scambia il 10% delle parole\n",
    "swap_percentage = 100\n",
    "modified_arrays = swap_words_in_arrays(topic_representations, swap_percentage)\n",
    "\n",
    "# Stampa gli array modificati\n",
    "for arr in modified_arrays:\n",
    "    print(arr)\n"
   ]
  },
  {
   "cell_type": "code",
   "execution_count": 136,
   "id": "158ff7d5",
   "metadata": {},
   "outputs": [
    {
     "name": "stderr",
     "output_type": "stream",
     "text": [
      "huggingface/tokenizers: The current process just got forked, after parallelism has already been used. Disabling parallelism to avoid deadlocks...\n",
      "To disable this warning, you can either:\n",
      "\t- Avoid using `tokenizers` before the fork if possible\n",
      "\t- Explicitly set the environment variable TOKENIZERS_PARALLELISM=(true | false)\n",
      "huggingface/tokenizers: The current process just got forked, after parallelism has already been used. Disabling parallelism to avoid deadlocks...\n",
      "To disable this warning, you can either:\n",
      "\t- Avoid using `tokenizers` before the fork if possible\n",
      "\t- Explicitly set the environment variable TOKENIZERS_PARALLELISM=(true | false)\n",
      "huggingface/tokenizers: The current process just got forked, after parallelism has already been used. Disabling parallelism to avoid deadlocks...\n",
      "To disable this warning, you can either:\n",
      "\t- Avoid using `tokenizers` before the fork if possible\n",
      "\t- Explicitly set the environment variable TOKENIZERS_PARALLELISM=(true | false)\n",
      "huggingface/tokenizers: The current process just got forked, after parallelism has already been used. Disabling parallelism to avoid deadlocks...\n",
      "To disable this warning, you can either:\n",
      "\t- Avoid using `tokenizers` before the fork if possible\n",
      "\t- Explicitly set the environment variable TOKENIZERS_PARALLELISM=(true | false)\n",
      "huggingface/tokenizers: The current process just got forked, after parallelism has already been used. Disabling parallelism to avoid deadlocks...\n",
      "To disable this warning, you can either:\n",
      "\t- Avoid using `tokenizers` before the fork if possible\n",
      "\t- Explicitly set the environment variable TOKENIZERS_PARALLELISM=(true | false)\n",
      "huggingface/tokenizers: The current process just got forked, after parallelism has already been used. Disabling parallelism to avoid deadlocks...\n",
      "To disable this warning, you can either:\n",
      "\t- Avoid using `tokenizers` before the fork if possible\n",
      "\t- Explicitly set the environment variable TOKENIZERS_PARALLELISM=(true | false)\n",
      "huggingface/tokenizers: The current process just got forked, after parallelism has already been used. Disabling parallelism to avoid deadlocks...\n",
      "To disable this warning, you can either:\n",
      "\t- Avoid using `tokenizers` before the fork if possible\n",
      "\t- Explicitly set the environment variable TOKENIZERS_PARALLELISM=(true | false)\n",
      "huggingface/tokenizers: The current process just got forked, after parallelism has already been used. Disabling parallelism to avoid deadlocks...\n",
      "To disable this warning, you can either:\n",
      "\t- Avoid using `tokenizers` before the fork if possible\n",
      "\t- Explicitly set the environment variable TOKENIZERS_PARALLELISM=(true | false)\n",
      "huggingface/tokenizers: The current process just got forked, after parallelism has already been used. Disabling parallelism to avoid deadlocks...\n",
      "To disable this warning, you can either:\n",
      "\t- Avoid using `tokenizers` before the fork if possible\n",
      "\t- Explicitly set the environment variable TOKENIZERS_PARALLELISM=(true | false)\n",
      "huggingface/tokenizers: The current process just got forked, after parallelism has already been used. Disabling parallelism to avoid deadlocks...\n",
      "To disable this warning, you can either:\n",
      "\t- Avoid using `tokenizers` before the fork if possible\n",
      "\t- Explicitly set the environment variable TOKENIZERS_PARALLELISM=(true | false)\n",
      "huggingface/tokenizers: The current process just got forked, after parallelism has already been used. Disabling parallelism to avoid deadlocks...\n",
      "To disable this warning, you can either:\n",
      "\t- Avoid using `tokenizers` before the fork if possible\n",
      "\t- Explicitly set the environment variable TOKENIZERS_PARALLELISM=(true | false)\n"
     ]
    },
    {
     "name": "stdout",
     "output_type": "stream",
     "text": [
      "Topic Coherence C_NPMI: -0.1934593413675254\n"
     ]
    }
   ],
   "source": [
    "cm = CoherenceModel(topics=modified_arrays, texts = documents, dictionary = dictionary, coherence='c_npmi')\n",
    "coherence_npmi = cm.get_coherence()\n",
    "print(f'Topic Coherence C_NPMI: {coherence_npmi}')"
   ]
  },
  {
   "cell_type": "code",
   "execution_count": 137,
   "id": "089b75ed",
   "metadata": {},
   "outputs": [],
   "source": [
    "def extract_topic_representations(predictions):\n",
    "    sorted_indices = np.argsort(predictions, axis=0)[::-1]\n",
    "    top_10_indices = sorted_indices[:10, :]\n",
    "    topic_representations = [np.array(list(binary_df.columns))[list(top_10_indices[:, i_col])] for i_col in range(n_clusters) ]\n",
    "    return topic_representations, top_10_indices"
   ]
  },
  {
   "cell_type": "code",
   "execution_count": 138,
   "id": "a97a875d",
   "metadata": {},
   "outputs": [],
   "source": [
    "li = [topic.tolist() for topic in topic_representations]\n",
    "embeddings_topics = np.array([model.encode(words) for words in li])"
   ]
  },
  {
   "cell_type": "code",
   "execution_count": 53,
   "id": "3c092b2c",
   "metadata": {},
   "outputs": [],
   "source": [
    "# cosine similarity approach\n",
    "# predictions = []\n",
    "# for embedding in embeddings_se:\n",
    "#     cos = []\n",
    "#     for i, emb in enumerate(embeddings_topics): \n",
    "#         pp = np.average(emb[:10], weights=weights[i, :10], axis = 0)\n",
    "#         cos.append(cosine_similarity([embedding, pp])[0][1])\n",
    "#     predictions.append(np.array(cos).argmax())"
   ]
  },
  {
   "cell_type": "code",
   "execution_count": 139,
   "id": "b5ffeb47",
   "metadata": {},
   "outputs": [],
   "source": [
    "from sklearn.decomposition import PCA\n",
    "pca = PCA(n_components = 20)\n",
    "embs = pca.fit_transform(np.row_stack((embeddings_topics.mean(axis = 1), embeddings_se)))\n",
    "embs_topics = embs[:20]\n",
    "embs = embs[20:]"
   ]
  },
  {
   "cell_type": "code",
   "execution_count": 106,
   "id": "d2cce422",
   "metadata": {},
   "outputs": [],
   "source": [
    "# from sklearn.semi_supervised import LabelSpreading\n",
    "# label_prop_model = LabelSpreading(alpha= .1,max_iter = 60, n_jobs=-1)\n",
    "# final_data = np.row_stack((embs_topics, embs))\n",
    "# y_labs = np.concatenate((np.repeat(np.arange(20), 25), np.repeat(-1, len(embeddings_se))))\n",
    "# label_prop_model.fit(final_data, y_labs)\n",
    "# predictions = label_prop_model.predict(final_data)[20*25:]"
   ]
  },
  {
   "cell_type": "code",
   "execution_count": 282,
   "id": "2feb7bbf",
   "metadata": {},
   "outputs": [],
   "source": [
    "predictions = []\n",
    "for embedding in embs: #embeddings_se\n",
    "    cos = []\n",
    "    for emb in embs_topics:#embeddings_topics: \n",
    "        cos.append(cosine_similarity([embedding, emb[:30]])[0][1])\n",
    "    predictions.append(np.array(cos).argmax())"
   ]
  },
  {
   "cell_type": "code",
   "execution_count": 283,
   "id": "56bf9091",
   "metadata": {},
   "outputs": [
    {
     "name": "stdout",
     "output_type": "stream",
     "text": [
      "0.2125893307147112\n",
      "(0.31929009110460105, 0.3444540841431276, 0.33139507662380047)\n"
     ]
    }
   ],
   "source": [
    "print(adjusted_rand_score(labels, predictions))\n",
    "print(sklearn.metrics.homogeneity_completeness_v_measure(labels,predictions))"
   ]
  },
  {
   "cell_type": "code",
   "execution_count": 140,
   "id": "b87e65bd",
   "metadata": {},
   "outputs": [],
   "source": [
    "from sklearn.semi_supervised import LabelSpreading\n",
    "label_prop_model = LabelSpreading(alpha= .1,max_iter = 60, n_jobs=-1)\n",
    "final_data = np.row_stack((embs_topics, embs))\n",
    "y_labs = np.concatenate((np.arange(20), np.repeat(-1, len(embeddings_se))))\n",
    "label_prop_model.fit(final_data, y_labs)\n",
    "predictions = label_prop_model.predict(final_data)[20:]"
   ]
  },
  {
   "cell_type": "code",
   "execution_count": 141,
   "id": "bc5441b4",
   "metadata": {},
   "outputs": [
    {
     "name": "stdout",
     "output_type": "stream",
     "text": [
      "0.15770756541334316\n",
      "(0.27959528975934234, 0.3507432840172176, 0.31115395505114496)\n"
     ]
    }
   ],
   "source": [
    "print(adjusted_rand_score(labels, predictions))\n",
    "print(sklearn.metrics.homogeneity_completeness_v_measure(labels,predictions))"
   ]
  },
  {
   "cell_type": "code",
   "execution_count": 142,
   "id": "8139c869",
   "metadata": {},
   "outputs": [
    {
     "data": {
      "text/plain": [
       "0.529622471053804"
      ]
     },
     "execution_count": 142,
     "metadata": {},
     "output_type": "execute_result"
    }
   ],
   "source": [
    "cm = confusion_matrix(labels, predictions)\n",
    "(cm.max(axis = 1)/cm.sum(axis = 1)).mean()"
   ]
  },
  {
   "cell_type": "code",
   "execution_count": null,
   "id": "99d28959",
   "metadata": {},
   "outputs": [],
   "source": [
    "0.4244, 0.417, 0.409, 0.3876, 0.331, 0.2973,0.281\n",
    "0.0345, 0.0246, 0.0209, -0.090, -0.176, -0.186,-0.191"
   ]
  },
  {
   "cell_type": "code",
   "execution_count": 150,
   "id": "6d133110",
   "metadata": {},
   "outputs": [
    {
     "data": {
      "text/plain": [
       "(17412,)"
      ]
     },
     "execution_count": 150,
     "metadata": {},
     "output_type": "execute_result"
    }
   ],
   "source": [
    "predictions.shape\n",
    "#len(labels)"
   ]
  },
  {
   "cell_type": "code",
   "execution_count": 114,
   "id": "0c9953a3",
   "metadata": {},
   "outputs": [
    {
     "name": "stderr",
     "output_type": "stream",
     "text": [
      "Batches: 100%|████████████████████████████████| 544/544 [01:09<00:00,  7.79it/s]\n",
      "/Users/federico.ravenda/anaconda3/envs/fastm/lib/python3.9/site-packages/sklearn/cluster/_kmeans.py:1416: FutureWarning: The default value of `n_init` will change from 10 to 'auto' in 1.4. Set the value of `n_init` explicitly to suppress the warning\n",
      "  super()._check_params_vs_input(X, default_n_init=10)\n"
     ]
    },
    {
     "name": "stdout",
     "output_type": "stream",
     "text": [
      "0.12140329767821155\n",
      "(0.23906105270438105, 0.24183383268348535, 0.24043944894202804)\n"
     ]
    }
   ],
   "source": [
    "# from sentence_transformers import SentenceTransformer\n",
    "\n",
    "# Carica il modello\n",
    "model_rob = SentenceTransformer('distilbert-base-nli-stsb-mean-tokens')\n",
    "# Calcola gli embeddings\n",
    "embeddings_se_rob = model_rob.encode(docs, show_progress_bar=True)\n",
    "\n",
    "kmeans_se_rob = KMeans(n_clusters=20, random_state=0)\n",
    "kmeans_se_rob.fit_transform(embeddings_se_rob)\n",
    "print(adjusted_rand_score(labels, kmeans_se_rob.labels_))\n",
    "print(sklearn.metrics.homogeneity_completeness_v_measure(labels, kmeans_se_rob.labels_))"
   ]
  },
  {
   "cell_type": "code",
   "execution_count": 115,
   "id": "b64bcb02",
   "metadata": {},
   "outputs": [
    {
     "data": {
      "text/plain": [
       "0.3222545745424443"
      ]
     },
     "execution_count": 115,
     "metadata": {},
     "output_type": "execute_result"
    }
   ],
   "source": [
    "cm = confusion_matrix(labels, kmeans_se_rob.labels_)\n",
    "max_ind = np.argmax(cm, axis = 1)\n",
    "(cm.max(axis = 1)/cm.sum(axis = 1)).mean()"
   ]
  },
  {
   "cell_type": "code",
   "execution_count": null,
   "id": "c4d25e82",
   "metadata": {},
   "outputs": [],
   "source": [
    "(0.3700291226818596, 0.3746063144421856, 0.3723036508160047)"
   ]
  },
  {
   "cell_type": "code",
   "execution_count": null,
   "id": "c3e8ee9c",
   "metadata": {},
   "outputs": [],
   "source": [
    "# Carica il modello\n",
    "import torch\n",
    "from transformers import BertTokenizer, BertModel\n",
    "\n",
    "tokenizer = BertTokenizer.from_pretrained('bert-base-uncased')\n",
    "model = BertModel.from_pretrained('bert-base-uncased')\n",
    "inputs = tokenizer(docs, padding=True, truncation=True, return_tensors=\"pt\")\n",
    "with torch.no_grad():\n",
    "    outputs = model(**inputs)\n",
    "    \n",
    "embeddings_se = outputs.last_hidden_state.mean(dim=1)\n",
    "# Calcola gli embeddings\n",
    "embeddings_se = model.encode(docs, show_progress_bar=True)\n",
    "kmeans_se = KMeans(n_clusters=20, random_state=0)\n",
    "kmeans_se.fit_transform(embeddings_se)\n",
    "adjusted_rand_score(labels, kmeans_se.labels_)"
   ]
  },
  {
   "cell_type": "code",
   "execution_count": 133,
   "id": "7a75526f",
   "metadata": {},
   "outputs": [
    {
     "name": "stderr",
     "output_type": "stream",
     "text": [
      "Batches: 100%|████████████████████████████████| 544/544 [00:40<00:00, 13.30it/s]\n"
     ]
    }
   ],
   "source": [
    "from sentence_transformers import SentenceTransformer\n",
    "\n",
    "# Carica il modello\n",
    "model = SentenceTransformer('all-miniLM-L6-v2')\n",
    "# Calcola gli embeddings\n",
    "embeddings_se = model.encode(docs, show_progress_bar=True)"
   ]
  },
  {
   "cell_type": "code",
   "execution_count": null,
   "id": "088da90a",
   "metadata": {},
   "outputs": [
    {
     "name": "stderr",
     "output_type": "stream",
     "text": [
      "OMP: Info #276: omp_set_nested routine deprecated, please use omp_set_max_active_levels instead.\n"
     ]
    }
   ],
   "source": [
    "# from umap import UMAP\n",
    "# umap_ = UMAP(n_components=5)\n",
    "# embeddings_umap = umap_.fit_transform(embeddings_se)"
   ]
  },
  {
   "cell_type": "code",
   "execution_count": 110,
   "id": "ce7f88be",
   "metadata": {},
   "outputs": [
    {
     "name": "stderr",
     "output_type": "stream",
     "text": [
      "/Users/federico.ravenda/anaconda3/envs/fastm/lib/python3.9/site-packages/sklearn/cluster/_kmeans.py:1416: FutureWarning: The default value of `n_init` will change from 10 to 'auto' in 1.4. Set the value of `n_init` explicitly to suppress the warning\n",
      "  super()._check_params_vs_input(X, default_n_init=10)\n"
     ]
    },
    {
     "name": "stdout",
     "output_type": "stream",
     "text": [
      "7658\n",
      "0.4403173873045078\n",
      "0.22404715517159332\n",
      "0.9231145224319255\n",
      "(0.3700291226818596, 0.3746063144421856, 0.3723036508160047)\n"
     ]
    }
   ],
   "source": [
    "kmeans_se = KMeans(n_clusters=20, random_state=0)\n",
    "kmeans_se.fit_transform(embeddings_se)\n",
    "cm = confusion_matrix(labels, kmeans_se.labels_)\n",
    "max_ind = np.argmax(cm, axis = 1)\n",
    "print(cm.max(axis = 1).sum())\n",
    "print(cm.max(axis = 1).sum() / (len(labels)))\n",
    "print(adjusted_rand_score(labels, kmeans_se.labels_))\n",
    "print(rand_score(labels, kmeans_se.labels_))\n",
    "print(sklearn.metrics.homogeneity_completeness_v_measure(labels, kmeans_se.labels_))"
   ]
  },
  {
   "cell_type": "code",
   "execution_count": 111,
   "id": "1249802d",
   "metadata": {},
   "outputs": [
    {
     "data": {
      "text/plain": [
       "0.43488460764564374"
      ]
     },
     "execution_count": 111,
     "metadata": {},
     "output_type": "execute_result"
    }
   ],
   "source": [
    "cm = confusion_matrix(labels, predictions)\n",
    "(cm.max(axis = 1)/cm.sum(axis = 1)).mean()"
   ]
  },
  {
   "cell_type": "code",
   "execution_count": 65,
   "id": "abdfc8a7",
   "metadata": {},
   "outputs": [
    {
     "data": {
      "text/plain": [
       "(0.3700291226818596, 0.3746063144421856, 0.3723036508160047)"
      ]
     },
     "execution_count": 65,
     "metadata": {},
     "output_type": "execute_result"
    }
   ],
   "source": [
    "sklearn.metrics.homogeneity_completeness_v_measure(labels, kmeans_se.labels_)"
   ]
  },
  {
   "cell_type": "code",
   "execution_count": 68,
   "id": "3ddfcbfe",
   "metadata": {},
   "outputs": [],
   "source": [
    "def calculate_acc(model): \n",
    "    embeddings_se = model.encode(docs, show_progress_bar=True)\n",
    "    kmeans_se = KMeans(n_clusters=20, random_state=0)\n",
    "    kmeans_se.fit_transform(embeddings_se)\n",
    "    pr = sklearn.metrics.homogeneity_completeness_v_measure(labels, kmeans_se.labels_)\n",
    "    print(pr)\n",
    "    return pr"
   ]
  },
  {
   "cell_type": "code",
   "execution_count": null,
   "id": "0ac49524",
   "metadata": {},
   "outputs": [],
   "source": []
  },
  {
   "cell_type": "code",
   "execution_count": 70,
   "id": "01c0cd75",
   "metadata": {},
   "outputs": [
    {
     "name": "stderr",
     "output_type": "stream",
     "text": [
      "No sentence-transformers model found with name /Users/federico.ravenda/.cache/torch/sentence_transformers/albert-base-v2. Creating a new one with MEAN pooling.\n"
     ]
    }
   ],
   "source": [
    "model_roberta = SentenceTransformer('stsb-roberta-base')\n",
    "model_distill = SentenceTransformer('distilbert-base-nli-stsb-mean-tokens')\n",
    "model_albert = SentenceTransformer('albert-base-v2')"
   ]
  },
  {
   "cell_type": "code",
   "execution_count": 71,
   "id": "82a129fb",
   "metadata": {},
   "outputs": [
    {
     "name": "stderr",
     "output_type": "stream",
     "text": [
      "Batches: 100%|████████████████████████████████| 544/544 [02:19<00:00,  3.90it/s]\n",
      "/Users/federico.ravenda/anaconda3/envs/fastm/lib/python3.9/site-packages/sklearn/cluster/_kmeans.py:1416: FutureWarning: The default value of `n_init` will change from 10 to 'auto' in 1.4. Set the value of `n_init` explicitly to suppress the warning\n",
      "  super()._check_params_vs_input(X, default_n_init=10)\n"
     ]
    },
    {
     "name": "stdout",
     "output_type": "stream",
     "text": [
      "(0.21815364660038777, 0.2197913371088113, 0.21896942979166792)\n"
     ]
    },
    {
     "data": {
      "text/plain": [
       "(0.21815364660038777, 0.2197913371088113, 0.21896942979166792)"
      ]
     },
     "execution_count": 71,
     "metadata": {},
     "output_type": "execute_result"
    }
   ],
   "source": [
    "calculate_acc(model_roberta)"
   ]
  },
  {
   "cell_type": "code",
   "execution_count": 72,
   "id": "b2f47072",
   "metadata": {},
   "outputs": [
    {
     "name": "stderr",
     "output_type": "stream",
     "text": [
      "Batches: 100%|████████████████████████████████| 544/544 [01:08<00:00,  7.92it/s]\n",
      "/Users/federico.ravenda/anaconda3/envs/fastm/lib/python3.9/site-packages/sklearn/cluster/_kmeans.py:1416: FutureWarning: The default value of `n_init` will change from 10 to 'auto' in 1.4. Set the value of `n_init` explicitly to suppress the warning\n",
      "  super()._check_params_vs_input(X, default_n_init=10)\n"
     ]
    },
    {
     "name": "stdout",
     "output_type": "stream",
     "text": [
      "(0.23906105270438105, 0.24183383268348535, 0.24043944894202804)\n"
     ]
    },
    {
     "data": {
      "text/plain": [
       "(0.23906105270438105, 0.24183383268348535, 0.24043944894202804)"
      ]
     },
     "execution_count": 72,
     "metadata": {},
     "output_type": "execute_result"
    }
   ],
   "source": [
    "calculate_acc(model_distill)"
   ]
  },
  {
   "cell_type": "code",
   "execution_count": 73,
   "id": "126d9d11",
   "metadata": {},
   "outputs": [
    {
     "name": "stderr",
     "output_type": "stream",
     "text": [
      "Batches: 100%|████████████████████████████████| 544/544 [04:07<00:00,  2.20it/s]\n",
      "/Users/federico.ravenda/anaconda3/envs/fastm/lib/python3.9/site-packages/sklearn/cluster/_kmeans.py:1416: FutureWarning: The default value of `n_init` will change from 10 to 'auto' in 1.4. Set the value of `n_init` explicitly to suppress the warning\n",
      "  super()._check_params_vs_input(X, default_n_init=10)\n"
     ]
    },
    {
     "name": "stdout",
     "output_type": "stream",
     "text": [
      "(0.26225959090702583, 0.26467538523038536, 0.2634619503245085)\n"
     ]
    },
    {
     "data": {
      "text/plain": [
       "(0.26225959090702583, 0.26467538523038536, 0.2634619503245085)"
      ]
     },
     "execution_count": 73,
     "metadata": {},
     "output_type": "execute_result"
    }
   ],
   "source": [
    "calculate_acc(model_albert)"
   ]
  },
  {
   "cell_type": "code",
   "execution_count": null,
   "id": "3c845453",
   "metadata": {},
   "outputs": [],
   "source": []
  },
  {
   "cell_type": "code",
   "execution_count": null,
   "id": "f9ae4e45",
   "metadata": {},
   "outputs": [],
   "source": []
  },
  {
   "cell_type": "code",
   "execution_count": 82,
   "id": "1136a908",
   "metadata": {},
   "outputs": [],
   "source": [
    "train = fetch_20newsgroups(subset='train',  remove=('headers', 'footers', 'quotes'))\n",
    "labels_train = train['target']\n",
    "test = fetch_20newsgroups(subset='test',  remove=('headers', 'footers', 'quotes'))\n",
    "labels_test = test['target']"
   ]
  },
  {
   "cell_type": "code",
   "execution_count": 85,
   "id": "20ef20f6",
   "metadata": {},
   "outputs": [
    {
     "name": "stderr",
     "output_type": "stream",
     "text": [
      "Batches: 100%|████████████████████████████████| 354/354 [01:44<00:00,  3.38it/s]\n",
      "Batches: 100%|████████████████████████████████| 236/236 [01:07<00:00,  3.48it/s]\n"
     ]
    }
   ],
   "source": [
    "model = SentenceTransformer('all-miniLM-L6-v2')\n",
    "# Calcola gli embeddings\n",
    "embeddings_se_train = model.encode(train['data'], show_progress_bar=True)\n",
    "embeddings_se_test = model.encode(test['data'], show_progress_bar=True)"
   ]
  },
  {
   "cell_type": "code",
   "execution_count": 86,
   "id": "a193efdf",
   "metadata": {},
   "outputs": [],
   "source": [
    "y_train = np.array(labels_train)\n",
    "y_test = np.array(labels_test)"
   ]
  },
  {
   "cell_type": "code",
   "execution_count": 402,
   "id": "63f50c5f",
   "metadata": {},
   "outputs": [
    {
     "data": {
      "text/plain": [
       "array([11, 16,  5,  8,  7,  8, 11, 12,  9, 15, 17, 13,  7,  9,  5,  0, 15,\n",
       "       13,  3,  3, 19,  4,  3, 11, 10, 18, 19,  8, 17,  3, 18, 19, 15, 14,\n",
       "       12,  8, 10,  5,  3, 15,  4, 14, 15, 11, 16,  0,  7,  5,  6, 15],\n",
       "      dtype=int32)"
      ]
     },
     "execution_count": 402,
     "metadata": {},
     "output_type": "execute_result"
    }
   ],
   "source": [
    "kmeans_se.labels_[:50]"
   ]
  },
  {
   "cell_type": "code",
   "execution_count": 403,
   "id": "4836b78a",
   "metadata": {},
   "outputs": [
    {
     "data": {
      "text/plain": [
       "array([ 3, 14,  9, 14, 14, 14,  3, 15, 18,  9,  5,  6,  1,  5,  4, 14,  9,\n",
       "       17, 16, 15, 12, 12, 16,  3, 10, 18,  2, 14,  9, 18, 17, 12,  8,  4,\n",
       "       12, 14,  5,  4, 16, 18,  4, 18, 12,  3, 14, 14, 18, 11, 19,  1])"
      ]
     },
     "execution_count": 403,
     "metadata": {},
     "output_type": "execute_result"
    }
   ],
   "source": [
    "predictions[:50]"
   ]
  },
  {
   "cell_type": "code",
   "execution_count": 74,
   "id": "30358652",
   "metadata": {},
   "outputs": [
    {
     "name": "stdout",
     "output_type": "stream",
     "text": [
      "544/544 [==============================] - 1s 2ms/step\n"
     ]
    }
   ],
   "source": [
    "predsss = model.predict([embeddings_se, predictions_prob])"
   ]
  },
  {
   "cell_type": "code",
   "execution_count": 75,
   "id": "9944e552",
   "metadata": {},
   "outputs": [
    {
     "name": "stdout",
     "output_type": "stream",
     "text": [
      "7653\n",
      "0.44002989880404786\n"
     ]
    },
    {
     "data": {
      "text/plain": [
       "0.2240030295778343"
      ]
     },
     "execution_count": 75,
     "metadata": {},
     "output_type": "execute_result"
    }
   ],
   "source": [
    "\n",
    "cm = confusion_matrix(labels, predsss.argmax(axis = 1))\n",
    "max_ind = np.argmax(cm, axis = 1)\n",
    "print(cm.max(axis = 1).sum())\n",
    "print(cm.max(axis = 1).sum() / (len(labels)))\n",
    "adjusted_rand_score(labels, predsss.argmax(axis = 1))"
   ]
  },
  {
   "cell_type": "code",
   "execution_count": 432,
   "id": "b9718bf4",
   "metadata": {},
   "outputs": [
    {
     "name": "stdout",
     "output_type": "stream",
     "text": [
      "7685\n",
      "0.4418698252069917\n"
     ]
    },
    {
     "data": {
      "text/plain": [
       "0.2247473372320349"
      ]
     },
     "execution_count": 432,
     "metadata": {},
     "output_type": "execute_result"
    }
   ],
   "source": [
    "\n",
    "cm = confusion_matrix(labels, predsss.argmax(axis = 1))\n",
    "max_ind = np.argmax(cm, axis = 1)\n",
    "print(cm.max(axis = 1).sum())\n",
    "print(cm.max(axis = 1).sum() / (len(labels)))\n",
    "adjusted_rand_score(labels, predsss.argmax(axis = 1))"
   ]
  },
  {
   "cell_type": "code",
   "execution_count": null,
   "id": "801f7765",
   "metadata": {},
   "outputs": [],
   "source": [
    "save_npmi = []\n",
    "save_uci = []\n",
    "save_cv = []\n",
    "save_div = []"
   ]
  },
  {
   "cell_type": "code",
   "execution_count": null,
   "id": "242dfc04",
   "metadata": {},
   "outputs": [],
   "source": [
    "save_npmi.append(coherence_npmi)\n",
    "save_uci.append(coherence_uci)\n",
    "save_cv.append(coherence_cv)\n",
    "save_div.append(calculate_topic_diversity(topic_representations))"
   ]
  },
  {
   "cell_type": "code",
   "execution_count": null,
   "id": "0a156b75",
   "metadata": {},
   "outputs": [],
   "source": [
    "for jjj in range(9): \n",
    "    K = 15\n",
    "    input1 = []\n",
    "    input2 = []\n",
    "    out = []\n",
    "    idx_corp = []\n",
    "    for key in matching_docs: #key sono gli indici del dataset\n",
    "        for value in matching_docs[key]:\n",
    "            list_triplets = return_random_triplets(matching_docs[key][value], K) # triplette random\n",
    "            for i in range(len(list_triplets)): #triplette per ciascun cluster\n",
    "                idx_corp.append(key)\n",
    "                input1.append(np.array(binary_df.iloc[key, :]))\n",
    "                input2.append(return_input2(list(list_triplets[i])))\n",
    "                out.append(value)\n",
    "    \n",
    "    input1 = np.array(input1, dtype=np.float32)\n",
    "    input2 = np.array(input2, dtype=np.float32)\n",
    "    out = keras.utils.to_categorical(np.array(out), dtype=np.float32)\n",
    "    inputs_stack = np.column_stack((input1, input2))\n",
    "    \n",
    "    class_counts = Counter(out.argmax(axis=1))\n",
    "    min_class_count = min(class_counts.values())\n",
    "\n",
    "    desired_count = 5 * min_class_count\n",
    "\n",
    "    sampling_strategy = {cls: min(count, desired_count) for cls, count in class_counts.items()}\n",
    "\n",
    "    rus = RandomUnderSampler(sampling_strategy=sampling_strategy, random_state=42)\n",
    "    X_resampled, y_resampled = rus.fit_resample(inputs_stack, out)\n",
    "    \n",
    "    clf = list_of_models[3]\n",
    "    clf.fit(X_resampled, np.argmax(y_resampled, axis = 1))\n",
    "    predictions = clf.predict_proba(np.column_stack((X_pred, X_pred)))\n",
    "    print('Checkpoint 1')\n",
    "    topic_representations = extract_topic_representations(predictions)\n",
    "    print('Checkpoint 2')\n",
    "    documents = [doc.split() for doc in docs]\n",
    "    dictionary = corpora.Dictionary(documents)\n",
    "    corpus = [dictionary.doc2bow(doc) for doc in documents]\n",
    "    print('Checkpoint 3')\n",
    "    cm = CoherenceModel(topics=topic_representations, texts = documents, dictionary = dictionary, coherence='c_npmi')\n",
    "    coherence_npmi = cm.get_coherence()\n",
    "    print(f'Topic Coherence C_NPMI: {coherence_npmi}')\n",
    "    cm = CoherenceModel(topics=topic_representations, texts = documents, dictionary = dictionary, coherence='c_uci')\n",
    "    coherence_uci = cm.get_coherence()\n",
    "    print(f'Topic Coherence C_UCI: {coherence_uci}')\n",
    "    cm = CoherenceModel(topics=topic_representations, texts = documents, dictionary = dictionary, coherence='c_v')\n",
    "    coherence_cv = cm.get_coherence()\n",
    "    print(f'Topic Coherence C_v: {coherence_cv}')\n",
    "    print('Topic diveristy is: {}'.format(calculate_topic_diversity(topic_representations)))\n",
    "    \n",
    "    save_npmi.append(coherence_npmi)\n",
    "    save_uci.append(coherence_uci)\n",
    "    save_cv.append(coherence_cv)\n",
    "    save_div.append(calculate_topic_diversity(topic_representations))"
   ]
  },
  {
   "cell_type": "code",
   "execution_count": null,
   "id": "3c544a94",
   "metadata": {},
   "outputs": [],
   "source": [
    "import numpy as np\n",
    "from scipy.stats import ttest_1samp\n",
    "\n",
    "def find_pvalue(sample):\n",
    "    ref = 0\n",
    "\n",
    "    t_stat, p_value = ttest_1samp(sample, ref)\n",
    "\n",
    "    print(f\"Valore t-statistico: {t_stat}\")\n",
    "    print(f\"p-value: {p_value}\")\n",
    "\n",
    "find_pvalue(save_npmi)"
   ]
  },
  {
   "cell_type": "code",
   "execution_count": null,
   "id": "cc9cac2a",
   "metadata": {},
   "outputs": [],
   "source": [
    "save_npmi"
   ]
  },
  {
   "cell_type": "code",
   "execution_count": null,
   "id": "8e1ed308",
   "metadata": {},
   "outputs": [],
   "source": [
    "pd.DataFrame(np.column_stack((save_npmi, save_uci, save_cv, save_div)),\n",
    "             columns = ['NPMI', 'UCI', 'CV', 'Diversity' ]).to_csv('fetch50res.csv')"
   ]
  },
  {
   "cell_type": "markdown",
   "id": "a8a52722",
   "metadata": {},
   "source": [
    "cluster 10\n",
    "{'target': 0.16234145441473732,\n",
    " 'params': {'K': 25.0,\n",
    "  'c': 1.0,\n",
    "  'first_K': 20.0,\n",
    "  'n_combinations': 3.0,\n",
    "  'sel_mod': 1.0,\n",
    "  'top_N': 226.07948188273363}}\n",
    "  \n",
    "cluster 20\n",
    "{'target': 0.16234145441473732,\n",
    " 'params': {'K': 25.0,\n",
    "  'c': 1.0,\n",
    "  'first_K': 20.0,\n",
    "  'n_combinations': 3.0,\n",
    "  'sel_mod': 1.0,\n",
    "  'top_N': 226.07948188273363}}"
   ]
  },
  {
   "cell_type": "code",
   "execution_count": null,
   "id": "b4bfe332",
   "metadata": {},
   "outputs": [],
   "source": [
    "# with undersampling\n",
    "clf = list_of_models[3]\n",
    "clf.fit(X_resampled, np.argmax(y_resampled, axis = 1))\n",
    "predictions = clf.predict(np.column_stack((binary_df.values, binary_df.values)))"
   ]
  },
  {
   "cell_type": "code",
   "execution_count": 143,
   "id": "37876a82",
   "metadata": {},
   "outputs": [],
   "source": [
    "predictions = clf.predict(np.column_stack((binary_df.values, binary_df.values)))\n",
    "predictions = clf.predict(np.column_stack((binary_df.values, np.zeros(binary_df.values.shape))))"
   ]
  },
  {
   "cell_type": "code",
   "execution_count": 148,
   "id": "440ac71d",
   "metadata": {},
   "outputs": [],
   "source": [
    "predictions = clf.predict_proba(np.column_stack((binary_df.values, np.zeros(binary_df.values.shape))))"
   ]
  },
  {
   "cell_type": "code",
   "execution_count": 72,
   "id": "da27e307",
   "metadata": {},
   "outputs": [],
   "source": [
    "import tensorflow_probability"
   ]
  },
  {
   "cell_type": "code",
   "execution_count": null,
   "id": "0b1b0288",
   "metadata": {},
   "outputs": [],
   "source": [
    "# no undersampling\n",
    "clf = list_of_models[0]\n",
    "clf.fit(np.column_stack((inputs_stack[:, :int(X_resampled.shape[1]/2)], inputs_stack[:, :int(X_resampled.shape[1]/2)])), np.argmax(out, axis = 1))\n",
    "predictions = clf.predict(np.column_stack((binary_df.values, binary_df.values)))"
   ]
  },
  {
   "cell_type": "code",
   "execution_count": 101,
   "id": "39ce99da",
   "metadata": {},
   "outputs": [],
   "source": [
    "def create_cm(actual, predicted):\n",
    "    cm = confusion_matrix(actual, predicted)\n",
    "\n",
    "    # Define labels for the matrix\n",
    "    labels = np.unique(actual)\n",
    "\n",
    "    # Create figure and axis\n",
    "    fig, ax = plt.subplots(figsize=(15, 10))\n",
    "\n",
    "    # Create heatmap\n",
    "    heatmap = ax.imshow(cm, cmap='Blues')\n",
    "\n",
    "    # Set ticks and tick labels\n",
    "    ax.set_xticks(np.arange(len(labels)))\n",
    "    ax.set_yticks(np.arange(len(labels)))\n",
    "    ax.set_xticklabels(labels)\n",
    "    ax.set_yticklabels(labels)\n",
    "\n",
    "    # Loop over data dimensions and create text annotations\n",
    "    for i in range(len(labels)):\n",
    "        for j in range(len(labels)):\n",
    "            text = ax.text(j, i, cm[i, j], ha='center', va='center', color='black')\n",
    "\n",
    "    # Add colorbar\n",
    "    cbar = ax.figure.colorbar(heatmap, ax=ax)\n",
    "    # Remove grid\n",
    "    ax.grid(False)\n",
    "    # Set labels and title\n",
    "    ax.set_xlabel(\"Predicted\")\n",
    "    ax.set_ylabel(\"Actual\")\n",
    "    ax.set_title(\"Confusion Matrix\")\n",
    "\n",
    "    # Display the plot\n",
    "    plt.show()"
   ]
  },
  {
   "cell_type": "code",
   "execution_count": 98,
   "id": "6037e819",
   "metadata": {},
   "outputs": [
    {
     "data": {
      "text/plain": [
       "0.16514013041454273"
      ]
     },
     "execution_count": 98,
     "metadata": {},
     "output_type": "execute_result"
    }
   ],
   "source": [
    "adjusted_rand_score(labels, predictions)"
   ]
  },
  {
   "cell_type": "code",
   "execution_count": null,
   "id": "565626dd",
   "metadata": {},
   "outputs": [],
   "source": []
  },
  {
   "cell_type": "code",
   "execution_count": null,
   "id": "f56f51c5",
   "metadata": {},
   "outputs": [],
   "source": []
  },
  {
   "cell_type": "code",
   "execution_count": null,
   "id": "38b220e4",
   "metadata": {},
   "outputs": [],
   "source": []
  },
  {
   "cell_type": "code",
   "execution_count": null,
   "id": "c291dc3b",
   "metadata": {},
   "outputs": [],
   "source": []
  },
  {
   "cell_type": "code",
   "execution_count": null,
   "id": "e82a1a27",
   "metadata": {},
   "outputs": [],
   "source": []
  },
  {
   "cell_type": "code",
   "execution_count": null,
   "id": "4ce41c82",
   "metadata": {},
   "outputs": [],
   "source": []
  },
  {
   "cell_type": "code",
   "execution_count": 105,
   "id": "e9ee181f",
   "metadata": {},
   "outputs": [
    {
     "data": {
      "image/png": "[encoded data removed]",
      "text/plain": [
       "<Figure size 1500x1000 with 2 Axes>"
      ]
     },
     "metadata": {},
     "output_type": "display_data"
    }
   ],
   "source": [
    "create_cm(labels, predictions)"
   ]
  },
  {
   "cell_type": "code",
   "execution_count": 107,
   "id": "53f0fa31",
   "metadata": {},
   "outputs": [
    {
     "name": "stdout",
     "output_type": "stream",
     "text": [
      "9615\n",
      "0.5528403863845446\n"
     ]
    }
   ],
   "source": [
    "cm = confusion_matrix(labels, predictions)\n",
    "max_ind = np.argmax(cm, axis = 1)\n",
    "print(cm.max(axis = 1).sum())\n",
    "print(cm.max(axis = 1).sum() / (len(labels)))"
   ]
  },
  {
   "cell_type": "code",
   "execution_count": 109,
   "id": "7476d859",
   "metadata": {},
   "outputs": [
    {
     "data": {
      "text/plain": [
       "0.5485485290556497"
      ]
     },
     "execution_count": 109,
     "metadata": {},
     "output_type": "execute_result"
    }
   ],
   "source": [
    "(cm.max(axis = 1)/cm.sum(axis = 1)).mean()"
   ]
  },
  {
   "cell_type": "code",
   "execution_count": 172,
   "id": "bf7b7945",
   "metadata": {},
   "outputs": [
    {
     "data": {
      "text/plain": [
       "7658"
      ]
     },
     "execution_count": 172,
     "metadata": {},
     "output_type": "execute_result"
    }
   ],
   "source": [
    "cm = confusion_matrix(labels, kmeans_se.labels_)\n",
    "max_ind = np.argmax(cm, axis = 1)\n",
    "cm.max(axis = 1).sum()"
   ]
  },
  {
   "cell_type": "code",
   "execution_count": 173,
   "id": "0df1fe95",
   "metadata": {},
   "outputs": [
    {
     "data": {
      "text/plain": [
       "0.4403173873045078"
      ]
     },
     "execution_count": 173,
     "metadata": {},
     "output_type": "execute_result"
    }
   ],
   "source": [
    "cm.max(axis = 1).sum() / (len(labels))"
   ]
  },
  {
   "cell_type": "code",
   "execution_count": null,
   "id": "b0bc42ea",
   "metadata": {},
   "outputs": [],
   "source": []
  },
  {
   "cell_type": "code",
   "execution_count": 116,
   "id": "39315480",
   "metadata": {},
   "outputs": [],
   "source": [
    "doc_clean = [doc.split() for doc in docs]\n",
    "\n",
    "dictionary = corpora.Dictionary(doc_clean)\n",
    "doc_term_matrix = [dictionary.doc2bow(doc) for doc in doc_clean]\n",
    "\n",
    "# Creazione del modello LDA\n",
    "ldamodel = gensim.models.ldamodel.LdaModel(doc_term_matrix, num_topics=20, id2word = dictionary, passes=50)\n"
   ]
  },
  {
   "cell_type": "code",
   "execution_count": 117,
   "id": "c64f135f",
   "metadata": {},
   "outputs": [],
   "source": [
    "doc_topics = []\n",
    "for doc in doc_term_matrix:\n",
    "    # Ordina gli argomenti in base al punteggio e prendi l'argomento più alto\n",
    "    sorted_topics = sorted(ldamodel[doc], key=lambda x: -x[1])\n",
    "    dominant_topic = sorted_topics[0][0] if sorted_topics else None\n",
    "    doc_topics.append(dominant_topic)"
   ]
  },
  {
   "cell_type": "code",
   "execution_count": 62,
   "id": "73013107",
   "metadata": {},
   "outputs": [
    {
     "name": "stdout",
     "output_type": "stream",
     "text": [
      "0.14260793834365507\n",
      "0.8893218436060442\n"
     ]
    }
   ],
   "source": [
    "print(adjusted_rand_score(labels, doc_topics))\n",
    "print(rand_score(labels, doc_topics))"
   ]
  },
  {
   "cell_type": "code",
   "execution_count": 64,
   "id": "cf8ddc87",
   "metadata": {},
   "outputs": [
    {
     "data": {
      "text/plain": [
       "(0.2701921688610393, 0.30182433886167526, 0.2851336338412702)"
      ]
     },
     "execution_count": 64,
     "metadata": {},
     "output_type": "execute_result"
    }
   ],
   "source": [
    "sklearn.metrics.homogeneity_completeness_v_measure(labels, doc_topics)"
   ]
  },
  {
   "cell_type": "code",
   "execution_count": null,
   "id": "45e67bcf",
   "metadata": {},
   "outputs": [],
   "source": []
  },
  {
   "cell_type": "code",
   "execution_count": 118,
   "id": "b1d61165",
   "metadata": {},
   "outputs": [
    {
     "name": "stdout",
     "output_type": "stream",
     "text": [
      "7890\n",
      "0.45365685372585096\n"
     ]
    },
    {
     "data": {
      "text/plain": [
       "0.45894410933248075"
      ]
     },
     "execution_count": 118,
     "metadata": {},
     "output_type": "execute_result"
    }
   ],
   "source": [
    "cm = confusion_matrix(labels, doc_topics)\n",
    "max_ind = np.argmax(cm, axis = 1)\n",
    "print(cm.max(axis = 1).sum())\n",
    "print(cm.max(axis = 1).sum() / (len(labels)))\n",
    "(cm.max(axis = 1)/cm.sum(axis = 1)).mean()"
   ]
  },
  {
   "cell_type": "code",
   "execution_count": 114,
   "id": "5125a626",
   "metadata": {},
   "outputs": [
    {
     "data": {
      "image/png": "[encoded data removed]",
      "text/plain": [
       "<Figure size 1500x1000 with 2 Axes>"
      ]
     },
     "metadata": {},
     "output_type": "display_data"
    }
   ],
   "source": [
    "create_cm(labels, doc_topics)"
   ]
  },
  {
   "cell_type": "code",
   "execution_count": null,
   "id": "918a1156",
   "metadata": {},
   "outputs": [],
   "source": []
  },
  {
   "cell_type": "code",
   "execution_count": 62,
   "id": "a4c10a69",
   "metadata": {},
   "outputs": [],
   "source": [
    "def fed_to_BO(top_N, first_K, K, c, n_combinations):\n",
    "    top_N = round(top_N)\n",
    "    first_K = round(first_K)\n",
    "    K = round(K)\n",
    "    c = round(c)\n",
    "    n_combinations = round(n_combinations)\n",
    "#     sel_mod = round(sel_mod)\n",
    "    seed_words = find_seed_words(top_N, first_K)\n",
    "    embeddings = pivot_table.loc[seed_words, seed_words]\n",
    "    kmeans = KMeans(n_clusters=n_clusters, random_state=0)\n",
    "    kmeans_ = kmeans.fit(embeddings)\n",
    "    cluster_kmeans = kmeans_.labels_\n",
    "    cluster_dict = {}\n",
    "    for i, clus in enumerate(cluster_kmeans):\n",
    "        if clus not in cluster_dict:\n",
    "            cluster_dict[clus] = []\n",
    "        cluster_dict[clus].append(seed_words[i])\n",
    "        \n",
    "    matching_docs = {}\n",
    "\n",
    "    # Iterazione sui documenti\n",
    "    for idx, doc in enumerate(docs):\n",
    "        word_counts = {cluster: [] for cluster in cluster_dict.keys()}  # Inizializzazione parole per cluster\n",
    "\n",
    "        # Conteggio delle parole del documento presenti in ogni cluster\n",
    "        for cluster, word_list in cluster_dict.items():\n",
    "            for word in word_list:\n",
    "                if word.lower() in doc.lower():\n",
    "                    word_counts[cluster].append(word)\n",
    "\n",
    "        # Verifica se il documento contiene almeno tre parole di uno stesso cluster\n",
    "        for cluster, words in word_counts.items():\n",
    "            if len(words) >= n_combinations:\n",
    "                if idx in matching_docs:\n",
    "                    matching_docs[idx][cluster] = words\n",
    "                else:\n",
    "                    matching_docs[idx] = {cluster: words}\n",
    "    word_to_consider = {}\n",
    "    for i, word in enumerate(list(binary_df.columns)):\n",
    "        word_to_consider[word] = i\n",
    "        \n",
    "    np.random.seed(0)\n",
    "    input1 = []\n",
    "    input2 = []\n",
    "    out = []\n",
    " \n",
    "    idx_corp = []\n",
    "    for key in matching_docs: #key sono gli indici del dataset\n",
    "        for value in matching_docs[key]:\n",
    "            list_triplets = return_random_triplets(matching_docs[key][value], K) # triplette random\n",
    "            for i in range(len(list_triplets)): #triplette per ciascun cluster\n",
    "                \n",
    "                idx_corp.append(key)\n",
    "                input1.append(np.array(binary_df.iloc[key, :]))\n",
    "                input2.append(return_input2(list(list_triplets[i])))\n",
    "                out.append(value)\n",
    "    \n",
    "    input1 = np.array(input1, dtype=np.float32)\n",
    "    input2 = np.array(input2, dtype=np.float32)\n",
    "    out = keras.utils.to_categorical(np.array(out), dtype=np.float32)\n",
    "    inputs_stack = np.column_stack((input1, input2))\n",
    "    \n",
    "    class_counts = Counter(out.argmax(axis=1))\n",
    "    min_class_count = min(class_counts.values())\n",
    "\n",
    "    desired_count = c * min_class_count\n",
    "\n",
    "    sampling_strategy = {cls: min(count, desired_count) for cls, count in class_counts.items()}\n",
    "\n",
    "    rus = RandomUnderSampler(sampling_strategy=sampling_strategy, random_state=42)\n",
    "    X_resampled, y_resampled = rus.fit_resample(inputs_stack, out)\n",
    "    \n",
    "    clf = MLPClassifier(random_state=0)\n",
    "    clf.fit(X_resampled, np.argmax(y_resampled, axis = 1))\n",
    "    predictions_prob = clf.predict_proba(np.column_stack((binary_df.values, np.zeros(binary_df.values.shape))))\n",
    "    predictions = predictions_prob.argmax(axis = 1)\n",
    "    ari = adjusted_rand_score(labels, predictions)\n",
    "    return ari"
   ]
  },
  {
   "cell_type": "code",
   "execution_count": 63,
   "id": "8d8e6dbe",
   "metadata": {},
   "outputs": [],
   "source": [
    "pbounds = {\n",
    "    'top_N': (180, 350),\n",
    "    'first_K': (8, 18), \n",
    "    'K': (3, 10), \n",
    "    'c':(1, 3), \n",
    "    'n_combinations':(2, 4)\n",
    "}"
   ]
  },
  {
   "cell_type": "code",
   "execution_count": 64,
   "id": "e095997b",
   "metadata": {
    "scrolled": false
   },
   "outputs": [
    {
     "name": "stdout",
     "output_type": "stream",
     "text": [
      "|   iter    |  target   |     K     |     c     |  first_K  | n_comb... |   top_N   |\n",
      "-------------------------------------------------------------------------------------\n"
     ]
    },
    {
     "name": "stderr",
     "output_type": "stream",
     "text": [
      "/Users/federico.ravenda/anaconda3/envs/fastm/lib/python3.9/site-packages/sklearn/cluster/_kmeans.py:1416: FutureWarning: The default value of `n_init` will change from 10 to 'auto' in 1.4. Set the value of `n_init` explicitly to suppress the warning\n",
      "  super()._check_params_vs_input(X, default_n_init=10)\n"
     ]
    },
    {
     "name": "stdout",
     "output_type": "stream",
     "text": [
      "| \u001b[0m1        \u001b[0m | \u001b[0m0.1424   \u001b[0m | \u001b[0m6.842    \u001b[0m | \u001b[0m2.43     \u001b[0m | \u001b[0m14.03    \u001b[0m | \u001b[0m3.09     \u001b[0m | \u001b[0m252.0    \u001b[0m |\n"
     ]
    },
    {
     "name": "stderr",
     "output_type": "stream",
     "text": [
      "/Users/federico.ravenda/anaconda3/envs/fastm/lib/python3.9/site-packages/sklearn/cluster/_kmeans.py:1416: FutureWarning: The default value of `n_init` will change from 10 to 'auto' in 1.4. Set the value of `n_init` explicitly to suppress the warning\n",
      "  super()._check_params_vs_input(X, default_n_init=10)\n"
     ]
    },
    {
     "name": "stdout",
     "output_type": "stream",
     "text": [
      "| \u001b[0m2        \u001b[0m | \u001b[0m0.09642  \u001b[0m | \u001b[0m7.521    \u001b[0m | \u001b[0m1.875    \u001b[0m | \u001b[0m16.92    \u001b[0m | \u001b[0m3.927    \u001b[0m | \u001b[0m245.2    \u001b[0m |\n"
     ]
    },
    {
     "name": "stderr",
     "output_type": "stream",
     "text": [
      "/Users/federico.ravenda/anaconda3/envs/fastm/lib/python3.9/site-packages/sklearn/cluster/_kmeans.py:1416: FutureWarning: The default value of `n_init` will change from 10 to 'auto' in 1.4. Set the value of `n_init` explicitly to suppress the warning\n",
      "  super()._check_params_vs_input(X, default_n_init=10)\n"
     ]
    },
    {
     "name": "stdout",
     "output_type": "stream",
     "text": [
      "| \u001b[0m3        \u001b[0m | \u001b[0m0.1259   \u001b[0m | \u001b[0m8.542    \u001b[0m | \u001b[0m2.058    \u001b[0m | \u001b[0m13.68    \u001b[0m | \u001b[0m3.851    \u001b[0m | \u001b[0m192.1    \u001b[0m |\n"
     ]
    },
    {
     "name": "stderr",
     "output_type": "stream",
     "text": [
      "/Users/federico.ravenda/anaconda3/envs/fastm/lib/python3.9/site-packages/sklearn/cluster/_kmeans.py:1416: FutureWarning: The default value of `n_init` will change from 10 to 'auto' in 1.4. Set the value of `n_init` explicitly to suppress the warning\n",
      "  super()._check_params_vs_input(X, default_n_init=10)\n"
     ]
    },
    {
     "name": "stdout",
     "output_type": "stream",
     "text": [
      "| \u001b[0m4        \u001b[0m | \u001b[0m0.05219  \u001b[0m | \u001b[0m3.61     \u001b[0m | \u001b[0m1.04     \u001b[0m | \u001b[0m16.33    \u001b[0m | \u001b[0m3.556    \u001b[0m | \u001b[0m327.9    \u001b[0m |\n"
     ]
    },
    {
     "name": "stderr",
     "output_type": "stream",
     "text": [
      "/Users/federico.ravenda/anaconda3/envs/fastm/lib/python3.9/site-packages/sklearn/cluster/_kmeans.py:1416: FutureWarning: The default value of `n_init` will change from 10 to 'auto' in 1.4. Set the value of `n_init` explicitly to suppress the warning\n",
      "  super()._check_params_vs_input(X, default_n_init=10)\n"
     ]
    },
    {
     "name": "stdout",
     "output_type": "stream",
     "text": [
      "| \u001b[0m5        \u001b[0m | \u001b[0m0.127    \u001b[0m | \u001b[0m9.85     \u001b[0m | \u001b[0m2.598    \u001b[0m | \u001b[0m12.61    \u001b[0m | \u001b[0m3.561    \u001b[0m | \u001b[0m200.1    \u001b[0m |\n"
     ]
    },
    {
     "name": "stderr",
     "output_type": "stream",
     "text": [
      "/Users/federico.ravenda/anaconda3/envs/fastm/lib/python3.9/site-packages/sklearn/cluster/_kmeans.py:1416: FutureWarning: The default value of `n_init` will change from 10 to 'auto' in 1.4. Set the value of `n_init` explicitly to suppress the warning\n",
      "  super()._check_params_vs_input(X, default_n_init=10)\n"
     ]
    },
    {
     "name": "stdout",
     "output_type": "stream",
     "text": [
      "| \u001b[0m6        \u001b[0m | \u001b[0m0.1284   \u001b[0m | \u001b[0m7.479    \u001b[0m | \u001b[0m1.287    \u001b[0m | \u001b[0m17.45    \u001b[0m | \u001b[0m3.044    \u001b[0m | \u001b[0m250.5    \u001b[0m |\n"
     ]
    },
    {
     "name": "stderr",
     "output_type": "stream",
     "text": [
      "/Users/federico.ravenda/anaconda3/envs/fastm/lib/python3.9/site-packages/sklearn/cluster/_kmeans.py:1416: FutureWarning: The default value of `n_init` will change from 10 to 'auto' in 1.4. Set the value of `n_init` explicitly to suppress the warning\n",
      "  super()._check_params_vs_input(X, default_n_init=10)\n"
     ]
    },
    {
     "name": "stdout",
     "output_type": "stream",
     "text": [
      "| \u001b[0m7        \u001b[0m | \u001b[0m0.1394   \u001b[0m | \u001b[0m4.852    \u001b[0m | \u001b[0m2.548    \u001b[0m | \u001b[0m12.56    \u001b[0m | \u001b[0m3.137    \u001b[0m | \u001b[0m183.2    \u001b[0m |\n"
     ]
    },
    {
     "name": "stderr",
     "output_type": "stream",
     "text": [
      "/Users/federico.ravenda/anaconda3/envs/fastm/lib/python3.9/site-packages/sklearn/cluster/_kmeans.py:1416: FutureWarning: The default value of `n_init` will change from 10 to 'auto' in 1.4. Set the value of `n_init` explicitly to suppress the warning\n",
      "  super()._check_params_vs_input(X, default_n_init=10)\n"
     ]
    },
    {
     "name": "stdout",
     "output_type": "stream",
     "text": [
      "| \u001b[0m8        \u001b[0m | \u001b[0m0.1072   \u001b[0m | \u001b[0m7.323    \u001b[0m | \u001b[0m2.224    \u001b[0m | \u001b[0m14.17    \u001b[0m | \u001b[0m3.887    \u001b[0m | \u001b[0m295.9    \u001b[0m |\n"
     ]
    },
    {
     "name": "stderr",
     "output_type": "stream",
     "text": [
      "/Users/federico.ravenda/anaconda3/envs/fastm/lib/python3.9/site-packages/sklearn/cluster/_kmeans.py:1416: FutureWarning: The default value of `n_init` will change from 10 to 'auto' in 1.4. Set the value of `n_init` explicitly to suppress the warning\n",
      "  super()._check_params_vs_input(X, default_n_init=10)\n"
     ]
    },
    {
     "name": "stdout",
     "output_type": "stream",
     "text": [
      "| \u001b[0m9        \u001b[0m | \u001b[0m0.1329   \u001b[0m | \u001b[0m5.517    \u001b[0m | \u001b[0m1.874    \u001b[0m | \u001b[0m14.98    \u001b[0m | \u001b[0m2.12     \u001b[0m | \u001b[0m293.4    \u001b[0m |\n"
     ]
    },
    {
     "name": "stderr",
     "output_type": "stream",
     "text": [
      "/Users/federico.ravenda/anaconda3/envs/fastm/lib/python3.9/site-packages/sklearn/cluster/_kmeans.py:1416: FutureWarning: The default value of `n_init` will change from 10 to 'auto' in 1.4. Set the value of `n_init` explicitly to suppress the warning\n",
      "  super()._check_params_vs_input(X, default_n_init=10)\n"
     ]
    },
    {
     "name": "stdout",
     "output_type": "stream",
     "text": [
      "| \u001b[0m10       \u001b[0m | \u001b[0m0.103    \u001b[0m | \u001b[0m7.694    \u001b[0m | \u001b[0m1.421    \u001b[0m | \u001b[0m9.289    \u001b[0m | \u001b[0m2.631    \u001b[0m | \u001b[0m241.8    \u001b[0m |\n"
     ]
    },
    {
     "name": "stderr",
     "output_type": "stream",
     "text": [
      "/Users/federico.ravenda/anaconda3/envs/fastm/lib/python3.9/site-packages/sklearn/cluster/_kmeans.py:1416: FutureWarning: The default value of `n_init` will change from 10 to 'auto' in 1.4. Set the value of `n_init` explicitly to suppress the warning\n",
      "  super()._check_params_vs_input(X, default_n_init=10)\n"
     ]
    },
    {
     "name": "stdout",
     "output_type": "stream",
     "text": [
      "| \u001b[0m11       \u001b[0m | \u001b[0m0.1131   \u001b[0m | \u001b[0m6.939    \u001b[0m | \u001b[0m1.64     \u001b[0m | \u001b[0m15.25    \u001b[0m | \u001b[0m2.089    \u001b[0m | \u001b[0m258.1    \u001b[0m |\n"
     ]
    },
    {
     "name": "stderr",
     "output_type": "stream",
     "text": [
      "/Users/federico.ravenda/anaconda3/envs/fastm/lib/python3.9/site-packages/sklearn/cluster/_kmeans.py:1416: FutureWarning: The default value of `n_init` will change from 10 to 'auto' in 1.4. Set the value of `n_init` explicitly to suppress the warning\n",
      "  super()._check_params_vs_input(X, default_n_init=10)\n"
     ]
    },
    {
     "name": "stdout",
     "output_type": "stream",
     "text": [
      "| \u001b[0m12       \u001b[0m | \u001b[0m0.08452  \u001b[0m | \u001b[0m3.425    \u001b[0m | \u001b[0m2.641    \u001b[0m | \u001b[0m10.54    \u001b[0m | \u001b[0m3.994    \u001b[0m | \u001b[0m187.4    \u001b[0m |\n"
     ]
    },
    {
     "name": "stderr",
     "output_type": "stream",
     "text": [
      "/Users/federico.ravenda/anaconda3/envs/fastm/lib/python3.9/site-packages/sklearn/cluster/_kmeans.py:1416: FutureWarning: The default value of `n_init` will change from 10 to 'auto' in 1.4. Set the value of `n_init` explicitly to suppress the warning\n",
      "  super()._check_params_vs_input(X, default_n_init=10)\n"
     ]
    },
    {
     "name": "stdout",
     "output_type": "stream",
     "text": [
      "| \u001b[95m13       \u001b[0m | \u001b[95m0.1489   \u001b[0m | \u001b[95m6.713    \u001b[0m | \u001b[95m1.638    \u001b[0m | \u001b[95m15.01    \u001b[0m | \u001b[95m2.335    \u001b[0m | \u001b[95m251.0    \u001b[0m |\n"
     ]
    },
    {
     "name": "stderr",
     "output_type": "stream",
     "text": [
      "/Users/federico.ravenda/anaconda3/envs/fastm/lib/python3.9/site-packages/sklearn/cluster/_kmeans.py:1416: FutureWarning: The default value of `n_init` will change from 10 to 'auto' in 1.4. Set the value of `n_init` explicitly to suppress the warning\n",
      "  super()._check_params_vs_input(X, default_n_init=10)\n"
     ]
    },
    {
     "name": "stdout",
     "output_type": "stream",
     "text": [
      "| \u001b[0m14       \u001b[0m | \u001b[0m0.102    \u001b[0m | \u001b[0m3.865    \u001b[0m | \u001b[0m1.0      \u001b[0m | \u001b[0m14.7     \u001b[0m | \u001b[0m2.0      \u001b[0m | \u001b[0m251.9    \u001b[0m |\n"
     ]
    },
    {
     "name": "stderr",
     "output_type": "stream",
     "text": [
      "/Users/federico.ravenda/anaconda3/envs/fastm/lib/python3.9/site-packages/sklearn/cluster/_kmeans.py:1416: FutureWarning: The default value of `n_init` will change from 10 to 'auto' in 1.4. Set the value of `n_init` explicitly to suppress the warning\n",
      "  super()._check_params_vs_input(X, default_n_init=10)\n"
     ]
    },
    {
     "name": "stdout",
     "output_type": "stream",
     "text": [
      "| \u001b[0m15       \u001b[0m | \u001b[0m0.1326   \u001b[0m | \u001b[0m8.964    \u001b[0m | \u001b[0m2.03     \u001b[0m | \u001b[0m14.06    \u001b[0m | \u001b[0m2.164    \u001b[0m | \u001b[0m250.8    \u001b[0m |\n"
     ]
    },
    {
     "name": "stderr",
     "output_type": "stream",
     "text": [
      "/Users/federico.ravenda/anaconda3/envs/fastm/lib/python3.9/site-packages/sklearn/cluster/_kmeans.py:1416: FutureWarning: The default value of `n_init` will change from 10 to 'auto' in 1.4. Set the value of `n_init` explicitly to suppress the warning\n",
      "  super()._check_params_vs_input(X, default_n_init=10)\n"
     ]
    },
    {
     "name": "stdout",
     "output_type": "stream",
     "text": [
      "| \u001b[0m16       \u001b[0m | \u001b[0m0.1228   \u001b[0m | \u001b[0m6.818    \u001b[0m | \u001b[0m3.0      \u001b[0m | \u001b[0m14.74    \u001b[0m | \u001b[0m3.589    \u001b[0m | \u001b[0m249.8    \u001b[0m |\n"
     ]
    },
    {
     "name": "stderr",
     "output_type": "stream",
     "text": [
      "/Users/federico.ravenda/anaconda3/envs/fastm/lib/python3.9/site-packages/sklearn/cluster/_kmeans.py:1416: FutureWarning: The default value of `n_init` will change from 10 to 'auto' in 1.4. Set the value of `n_init` explicitly to suppress the warning\n",
      "  super()._check_params_vs_input(X, default_n_init=10)\n"
     ]
    },
    {
     "name": "stdout",
     "output_type": "stream",
     "text": [
      "| \u001b[0m17       \u001b[0m | \u001b[0m0.07497  \u001b[0m | \u001b[0m7.787    \u001b[0m | \u001b[0m1.843    \u001b[0m | \u001b[0m15.73    \u001b[0m | \u001b[0m2.0      \u001b[0m | \u001b[0m252.8    \u001b[0m |\n"
     ]
    },
    {
     "name": "stderr",
     "output_type": "stream",
     "text": [
      "/Users/federico.ravenda/anaconda3/envs/fastm/lib/python3.9/site-packages/sklearn/cluster/_kmeans.py:1416: FutureWarning: The default value of `n_init` will change from 10 to 'auto' in 1.4. Set the value of `n_init` explicitly to suppress the warning\n",
      "  super()._check_params_vs_input(X, default_n_init=10)\n"
     ]
    },
    {
     "name": "stdout",
     "output_type": "stream",
     "text": [
      "| \u001b[0m18       \u001b[0m | \u001b[0m0.1287   \u001b[0m | \u001b[0m6.362    \u001b[0m | \u001b[0m2.243    \u001b[0m | \u001b[0m13.66    \u001b[0m | \u001b[0m2.742    \u001b[0m | \u001b[0m251.5    \u001b[0m |\n"
     ]
    },
    {
     "name": "stderr",
     "output_type": "stream",
     "text": [
      "/Users/federico.ravenda/anaconda3/envs/fastm/lib/python3.9/site-packages/sklearn/cluster/_kmeans.py:1416: FutureWarning: The default value of `n_init` will change from 10 to 'auto' in 1.4. Set the value of `n_init` explicitly to suppress the warning\n",
      "  super()._check_params_vs_input(X, default_n_init=10)\n"
     ]
    },
    {
     "name": "stdout",
     "output_type": "stream",
     "text": [
      "| \u001b[0m19       \u001b[0m | \u001b[0m0.1366   \u001b[0m | \u001b[0m7.398    \u001b[0m | \u001b[0m1.91     \u001b[0m | \u001b[0m14.46    \u001b[0m | \u001b[0m2.961    \u001b[0m | \u001b[0m251.0    \u001b[0m |\n"
     ]
    },
    {
     "name": "stderr",
     "output_type": "stream",
     "text": [
      "/Users/federico.ravenda/anaconda3/envs/fastm/lib/python3.9/site-packages/sklearn/cluster/_kmeans.py:1416: FutureWarning: The default value of `n_init` will change from 10 to 'auto' in 1.4. Set the value of `n_init` explicitly to suppress the warning\n",
      "  super()._check_params_vs_input(X, default_n_init=10)\n"
     ]
    },
    {
     "name": "stdout",
     "output_type": "stream",
     "text": [
      "| \u001b[0m20       \u001b[0m | \u001b[0m0.1368   \u001b[0m | \u001b[0m6.345    \u001b[0m | \u001b[0m1.509    \u001b[0m | \u001b[0m15.0     \u001b[0m | \u001b[0m2.868    \u001b[0m | \u001b[0m250.6    \u001b[0m |\n"
     ]
    },
    {
     "name": "stderr",
     "output_type": "stream",
     "text": [
      "/Users/federico.ravenda/anaconda3/envs/fastm/lib/python3.9/site-packages/sklearn/cluster/_kmeans.py:1416: FutureWarning: The default value of `n_init` will change from 10 to 'auto' in 1.4. Set the value of `n_init` explicitly to suppress the warning\n",
      "  super()._check_params_vs_input(X, default_n_init=10)\n"
     ]
    },
    {
     "name": "stdout",
     "output_type": "stream",
     "text": [
      "| \u001b[0m21       \u001b[0m | \u001b[0m0.1316   \u001b[0m | \u001b[0m6.449    \u001b[0m | \u001b[0m1.928    \u001b[0m | \u001b[0m15.83    \u001b[0m | \u001b[0m2.215    \u001b[0m | \u001b[0m250.5    \u001b[0m |\n"
     ]
    },
    {
     "name": "stderr",
     "output_type": "stream",
     "text": [
      "/Users/federico.ravenda/anaconda3/envs/fastm/lib/python3.9/site-packages/sklearn/cluster/_kmeans.py:1416: FutureWarning: The default value of `n_init` will change from 10 to 'auto' in 1.4. Set the value of `n_init` explicitly to suppress the warning\n",
      "  super()._check_params_vs_input(X, default_n_init=10)\n"
     ]
    },
    {
     "name": "stdout",
     "output_type": "stream",
     "text": [
      "| \u001b[0m22       \u001b[0m | \u001b[0m0.1367   \u001b[0m | \u001b[0m8.316    \u001b[0m | \u001b[0m2.828    \u001b[0m | \u001b[0m12.96    \u001b[0m | \u001b[0m3.585    \u001b[0m | \u001b[0m252.3    \u001b[0m |\n"
     ]
    },
    {
     "name": "stderr",
     "output_type": "stream",
     "text": [
      "/Users/federico.ravenda/anaconda3/envs/fastm/lib/python3.9/site-packages/sklearn/cluster/_kmeans.py:1416: FutureWarning: The default value of `n_init` will change from 10 to 'auto' in 1.4. Set the value of `n_init` explicitly to suppress the warning\n",
      "  super()._check_params_vs_input(X, default_n_init=10)\n"
     ]
    },
    {
     "name": "stdout",
     "output_type": "stream",
     "text": [
      "| \u001b[0m23       \u001b[0m | \u001b[0m0.06973  \u001b[0m | \u001b[0m4.746    \u001b[0m | \u001b[0m2.219    \u001b[0m | \u001b[0m11.3     \u001b[0m | \u001b[0m2.904    \u001b[0m | \u001b[0m182.2    \u001b[0m |\n"
     ]
    },
    {
     "name": "stderr",
     "output_type": "stream",
     "text": [
      "/Users/federico.ravenda/anaconda3/envs/fastm/lib/python3.9/site-packages/sklearn/cluster/_kmeans.py:1416: FutureWarning: The default value of `n_init` will change from 10 to 'auto' in 1.4. Set the value of `n_init` explicitly to suppress the warning\n",
      "  super()._check_params_vs_input(X, default_n_init=10)\n"
     ]
    },
    {
     "name": "stdout",
     "output_type": "stream",
     "text": [
      "| \u001b[0m24       \u001b[0m | \u001b[0m0.1315   \u001b[0m | \u001b[0m7.587    \u001b[0m | \u001b[0m2.618    \u001b[0m | \u001b[0m13.47    \u001b[0m | \u001b[0m2.155    \u001b[0m | \u001b[0m252.2    \u001b[0m |\n"
     ]
    },
    {
     "name": "stderr",
     "output_type": "stream",
     "text": [
      "/Users/federico.ravenda/anaconda3/envs/fastm/lib/python3.9/site-packages/sklearn/cluster/_kmeans.py:1416: FutureWarning: The default value of `n_init` will change from 10 to 'auto' in 1.4. Set the value of `n_init` explicitly to suppress the warning\n",
      "  super()._check_params_vs_input(X, default_n_init=10)\n"
     ]
    },
    {
     "name": "stdout",
     "output_type": "stream",
     "text": [
      "| \u001b[0m25       \u001b[0m | \u001b[0m0.1333   \u001b[0m | \u001b[0m6.79     \u001b[0m | \u001b[0m2.738    \u001b[0m | \u001b[0m14.57    \u001b[0m | \u001b[0m2.164    \u001b[0m | \u001b[0m251.2    \u001b[0m |\n"
     ]
    },
    {
     "name": "stderr",
     "output_type": "stream",
     "text": [
      "/Users/federico.ravenda/anaconda3/envs/fastm/lib/python3.9/site-packages/sklearn/cluster/_kmeans.py:1416: FutureWarning: The default value of `n_init` will change from 10 to 'auto' in 1.4. Set the value of `n_init` explicitly to suppress the warning\n",
      "  super()._check_params_vs_input(X, default_n_init=10)\n"
     ]
    },
    {
     "name": "stdout",
     "output_type": "stream",
     "text": [
      "| \u001b[0m26       \u001b[0m | \u001b[0m0.1332   \u001b[0m | \u001b[0m5.843    \u001b[0m | \u001b[0m2.829    \u001b[0m | \u001b[0m13.04    \u001b[0m | \u001b[0m3.416    \u001b[0m | \u001b[0m183.4    \u001b[0m |\n"
     ]
    },
    {
     "name": "stderr",
     "output_type": "stream",
     "text": [
      "/Users/federico.ravenda/anaconda3/envs/fastm/lib/python3.9/site-packages/sklearn/cluster/_kmeans.py:1416: FutureWarning: The default value of `n_init` will change from 10 to 'auto' in 1.4. Set the value of `n_init` explicitly to suppress the warning\n",
      "  super()._check_params_vs_input(X, default_n_init=10)\n"
     ]
    },
    {
     "name": "stdout",
     "output_type": "stream",
     "text": [
      "| \u001b[0m27       \u001b[0m | \u001b[0m0.106    \u001b[0m | \u001b[0m4.202    \u001b[0m | \u001b[0m2.505    \u001b[0m | \u001b[0m13.81    \u001b[0m | \u001b[0m3.15     \u001b[0m | \u001b[0m184.0    \u001b[0m |\n"
     ]
    },
    {
     "name": "stderr",
     "output_type": "stream",
     "text": [
      "/Users/federico.ravenda/anaconda3/envs/fastm/lib/python3.9/site-packages/sklearn/cluster/_kmeans.py:1416: FutureWarning: The default value of `n_init` will change from 10 to 'auto' in 1.4. Set the value of `n_init` explicitly to suppress the warning\n",
      "  super()._check_params_vs_input(X, default_n_init=10)\n"
     ]
    },
    {
     "name": "stdout",
     "output_type": "stream",
     "text": [
      "| \u001b[0m28       \u001b[0m | \u001b[0m0.114    \u001b[0m | \u001b[0m8.07     \u001b[0m | \u001b[0m1.907    \u001b[0m | \u001b[0m12.71    \u001b[0m | \u001b[0m2.93     \u001b[0m | \u001b[0m251.2    \u001b[0m |\n"
     ]
    },
    {
     "name": "stderr",
     "output_type": "stream",
     "text": [
      "/Users/federico.ravenda/anaconda3/envs/fastm/lib/python3.9/site-packages/sklearn/cluster/_kmeans.py:1416: FutureWarning: The default value of `n_init` will change from 10 to 'auto' in 1.4. Set the value of `n_init` explicitly to suppress the warning\n",
      "  super()._check_params_vs_input(X, default_n_init=10)\n"
     ]
    },
    {
     "name": "stdout",
     "output_type": "stream",
     "text": [
      "| \u001b[0m29       \u001b[0m | \u001b[0m0.1325   \u001b[0m | \u001b[0m7.143    \u001b[0m | \u001b[0m3.0      \u001b[0m | \u001b[0m13.59    \u001b[0m | \u001b[0m4.0      \u001b[0m | \u001b[0m252.7    \u001b[0m |\n"
     ]
    },
    {
     "name": "stderr",
     "output_type": "stream",
     "text": [
      "/Users/federico.ravenda/anaconda3/envs/fastm/lib/python3.9/site-packages/sklearn/cluster/_kmeans.py:1416: FutureWarning: The default value of `n_init` will change from 10 to 'auto' in 1.4. Set the value of `n_init` explicitly to suppress the warning\n",
      "  super()._check_params_vs_input(X, default_n_init=10)\n"
     ]
    },
    {
     "name": "stdout",
     "output_type": "stream",
     "text": [
      "| \u001b[0m30       \u001b[0m | \u001b[0m0.1138   \u001b[0m | \u001b[0m7.532    \u001b[0m | \u001b[0m1.217    \u001b[0m | \u001b[0m14.98    \u001b[0m | \u001b[0m2.377    \u001b[0m | \u001b[0m249.4    \u001b[0m |\n"
     ]
    },
    {
     "name": "stderr",
     "output_type": "stream",
     "text": [
      "/Users/federico.ravenda/anaconda3/envs/fastm/lib/python3.9/site-packages/sklearn/cluster/_kmeans.py:1416: FutureWarning: The default value of `n_init` will change from 10 to 'auto' in 1.4. Set the value of `n_init` explicitly to suppress the warning\n",
      "  super()._check_params_vs_input(X, default_n_init=10)\n"
     ]
    },
    {
     "name": "stdout",
     "output_type": "stream",
     "text": [
      "| \u001b[0m31       \u001b[0m | \u001b[0m0.0672   \u001b[0m | \u001b[0m7.592    \u001b[0m | \u001b[0m2.621    \u001b[0m | \u001b[0m15.22    \u001b[0m | \u001b[0m3.787    \u001b[0m | \u001b[0m251.9    \u001b[0m |\n"
     ]
    },
    {
     "name": "stderr",
     "output_type": "stream",
     "text": [
      "/Users/federico.ravenda/anaconda3/envs/fastm/lib/python3.9/site-packages/sklearn/cluster/_kmeans.py:1416: FutureWarning: The default value of `n_init` will change from 10 to 'auto' in 1.4. Set the value of `n_init` explicitly to suppress the warning\n",
      "  super()._check_params_vs_input(X, default_n_init=10)\n"
     ]
    },
    {
     "name": "stdout",
     "output_type": "stream",
     "text": [
      "| \u001b[0m32       \u001b[0m | \u001b[0m0.106    \u001b[0m | \u001b[0m6.347    \u001b[0m | \u001b[0m2.51     \u001b[0m | \u001b[0m12.59    \u001b[0m | \u001b[0m2.731    \u001b[0m | \u001b[0m253.0    \u001b[0m |\n"
     ]
    },
    {
     "name": "stderr",
     "output_type": "stream",
     "text": [
      "/Users/federico.ravenda/anaconda3/envs/fastm/lib/python3.9/site-packages/sklearn/cluster/_kmeans.py:1416: FutureWarning: The default value of `n_init` will change from 10 to 'auto' in 1.4. Set the value of `n_init` explicitly to suppress the warning\n",
      "  super()._check_params_vs_input(X, default_n_init=10)\n"
     ]
    },
    {
     "name": "stdout",
     "output_type": "stream",
     "text": [
      "| \u001b[0m33       \u001b[0m | \u001b[0m0.1047   \u001b[0m | \u001b[0m7.782    \u001b[0m | \u001b[0m2.238    \u001b[0m | \u001b[0m14.75    \u001b[0m | \u001b[0m2.098    \u001b[0m | \u001b[0m250.4    \u001b[0m |\n"
     ]
    },
    {
     "name": "stderr",
     "output_type": "stream",
     "text": [
      "/Users/federico.ravenda/anaconda3/envs/fastm/lib/python3.9/site-packages/sklearn/cluster/_kmeans.py:1416: FutureWarning: The default value of `n_init` will change from 10 to 'auto' in 1.4. Set the value of `n_init` explicitly to suppress the warning\n",
      "  super()._check_params_vs_input(X, default_n_init=10)\n"
     ]
    },
    {
     "name": "stdout",
     "output_type": "stream",
     "text": [
      "| \u001b[95m34       \u001b[0m | \u001b[95m0.1587   \u001b[0m | \u001b[95m6.802    \u001b[0m | \u001b[95m1.349    \u001b[0m | \u001b[95m13.7     \u001b[0m | \u001b[95m2.269    \u001b[0m | \u001b[95m252.0    \u001b[0m |\n"
     ]
    },
    {
     "name": "stderr",
     "output_type": "stream",
     "text": [
      "/Users/federico.ravenda/anaconda3/envs/fastm/lib/python3.9/site-packages/sklearn/cluster/_kmeans.py:1416: FutureWarning: The default value of `n_init` will change from 10 to 'auto' in 1.4. Set the value of `n_init` explicitly to suppress the warning\n",
      "  super()._check_params_vs_input(X, default_n_init=10)\n"
     ]
    },
    {
     "name": "stdout",
     "output_type": "stream",
     "text": [
      "| \u001b[0m35       \u001b[0m | \u001b[0m0.1367   \u001b[0m | \u001b[0m7.273    \u001b[0m | \u001b[0m1.65     \u001b[0m | \u001b[0m14.15    \u001b[0m | \u001b[0m2.699    \u001b[0m | \u001b[0m251.3    \u001b[0m |\n"
     ]
    },
    {
     "name": "stderr",
     "output_type": "stream",
     "text": [
      "/Users/federico.ravenda/anaconda3/envs/fastm/lib/python3.9/site-packages/sklearn/cluster/_kmeans.py:1416: FutureWarning: The default value of `n_init` will change from 10 to 'auto' in 1.4. Set the value of `n_init` explicitly to suppress the warning\n",
      "  super()._check_params_vs_input(X, default_n_init=10)\n"
     ]
    },
    {
     "name": "stdout",
     "output_type": "stream",
     "text": [
      "| \u001b[0m36       \u001b[0m | \u001b[0m0.1452   \u001b[0m | \u001b[0m6.203    \u001b[0m | \u001b[0m1.797    \u001b[0m | \u001b[0m14.22    \u001b[0m | \u001b[0m2.193    \u001b[0m | \u001b[0m252.2    \u001b[0m |\n"
     ]
    },
    {
     "name": "stderr",
     "output_type": "stream",
     "text": [
      "/Users/federico.ravenda/anaconda3/envs/fastm/lib/python3.9/site-packages/sklearn/cluster/_kmeans.py:1416: FutureWarning: The default value of `n_init` will change from 10 to 'auto' in 1.4. Set the value of `n_init` explicitly to suppress the warning\n",
      "  super()._check_params_vs_input(X, default_n_init=10)\n"
     ]
    },
    {
     "name": "stdout",
     "output_type": "stream",
     "text": [
      "| \u001b[0m37       \u001b[0m | \u001b[0m0.1486   \u001b[0m | \u001b[0m6.464    \u001b[0m | \u001b[0m1.0      \u001b[0m | \u001b[0m14.22    \u001b[0m | \u001b[0m2.0      \u001b[0m | \u001b[0m251.6    \u001b[0m |\n"
     ]
    },
    {
     "name": "stderr",
     "output_type": "stream",
     "text": [
      "/Users/federico.ravenda/anaconda3/envs/fastm/lib/python3.9/site-packages/sklearn/cluster/_kmeans.py:1416: FutureWarning: The default value of `n_init` will change from 10 to 'auto' in 1.4. Set the value of `n_init` explicitly to suppress the warning\n",
      "  super()._check_params_vs_input(X, default_n_init=10)\n"
     ]
    },
    {
     "name": "stdout",
     "output_type": "stream",
     "text": [
      "| \u001b[0m38       \u001b[0m | \u001b[0m0.1364   \u001b[0m | \u001b[0m6.12     \u001b[0m | \u001b[0m1.597    \u001b[0m | \u001b[0m14.22    \u001b[0m | \u001b[0m3.161    \u001b[0m | \u001b[0m251.8    \u001b[0m |\n"
     ]
    },
    {
     "name": "stderr",
     "output_type": "stream",
     "text": [
      "/Users/federico.ravenda/anaconda3/envs/fastm/lib/python3.9/site-packages/sklearn/cluster/_kmeans.py:1416: FutureWarning: The default value of `n_init` will change from 10 to 'auto' in 1.4. Set the value of `n_init` explicitly to suppress the warning\n",
      "  super()._check_params_vs_input(X, default_n_init=10)\n"
     ]
    },
    {
     "name": "stdout",
     "output_type": "stream",
     "text": [
      "| \u001b[0m39       \u001b[0m | \u001b[0m0.1215   \u001b[0m | \u001b[0m8.919    \u001b[0m | \u001b[0m2.416    \u001b[0m | \u001b[0m12.68    \u001b[0m | \u001b[0m3.672    \u001b[0m | \u001b[0m253.3    \u001b[0m |\n"
     ]
    },
    {
     "name": "stderr",
     "output_type": "stream",
     "text": [
      "/Users/federico.ravenda/anaconda3/envs/fastm/lib/python3.9/site-packages/sklearn/cluster/_kmeans.py:1416: FutureWarning: The default value of `n_init` will change from 10 to 'auto' in 1.4. Set the value of `n_init` explicitly to suppress the warning\n",
      "  super()._check_params_vs_input(X, default_n_init=10)\n"
     ]
    },
    {
     "name": "stdout",
     "output_type": "stream",
     "text": [
      "| \u001b[0m40       \u001b[0m | \u001b[0m0.1138   \u001b[0m | \u001b[0m7.559    \u001b[0m | \u001b[0m1.576    \u001b[0m | \u001b[0m13.86    \u001b[0m | \u001b[0m2.884    \u001b[0m | \u001b[0m252.7    \u001b[0m |\n"
     ]
    },
    {
     "name": "stderr",
     "output_type": "stream",
     "text": [
      "/Users/federico.ravenda/anaconda3/envs/fastm/lib/python3.9/site-packages/sklearn/cluster/_kmeans.py:1416: FutureWarning: The default value of `n_init` will change from 10 to 'auto' in 1.4. Set the value of `n_init` explicitly to suppress the warning\n",
      "  super()._check_params_vs_input(X, default_n_init=10)\n"
     ]
    },
    {
     "name": "stdout",
     "output_type": "stream",
     "text": [
      "| \u001b[0m41       \u001b[0m | \u001b[0m0.1002   \u001b[0m | \u001b[0m6.103    \u001b[0m | \u001b[0m1.757    \u001b[0m | \u001b[0m15.27    \u001b[0m | \u001b[0m2.602    \u001b[0m | \u001b[0m251.5    \u001b[0m |\n"
     ]
    },
    {
     "name": "stderr",
     "output_type": "stream",
     "text": [
      "/Users/federico.ravenda/anaconda3/envs/fastm/lib/python3.9/site-packages/sklearn/cluster/_kmeans.py:1416: FutureWarning: The default value of `n_init` will change from 10 to 'auto' in 1.4. Set the value of `n_init` explicitly to suppress the warning\n",
      "  super()._check_params_vs_input(X, default_n_init=10)\n"
     ]
    },
    {
     "name": "stdout",
     "output_type": "stream",
     "text": [
      "| \u001b[0m42       \u001b[0m | \u001b[0m0.1435   \u001b[0m | \u001b[0m6.714    \u001b[0m | \u001b[0m1.911    \u001b[0m | \u001b[0m14.05    \u001b[0m | \u001b[0m2.132    \u001b[0m | \u001b[0m251.4    \u001b[0m |\n"
     ]
    },
    {
     "name": "stderr",
     "output_type": "stream",
     "text": [
      "/Users/federico.ravenda/anaconda3/envs/fastm/lib/python3.9/site-packages/sklearn/cluster/_kmeans.py:1416: FutureWarning: The default value of `n_init` will change from 10 to 'auto' in 1.4. Set the value of `n_init` explicitly to suppress the warning\n",
      "  super()._check_params_vs_input(X, default_n_init=10)\n"
     ]
    },
    {
     "name": "stdout",
     "output_type": "stream",
     "text": [
      "| \u001b[0m43       \u001b[0m | \u001b[0m0.08984  \u001b[0m | \u001b[0m6.135    \u001b[0m | \u001b[0m1.329    \u001b[0m | \u001b[0m13.8     \u001b[0m | \u001b[0m2.698    \u001b[0m | \u001b[0m251.1    \u001b[0m |\n"
     ]
    },
    {
     "name": "stderr",
     "output_type": "stream",
     "text": [
      "/Users/federico.ravenda/anaconda3/envs/fastm/lib/python3.9/site-packages/sklearn/cluster/_kmeans.py:1416: FutureWarning: The default value of `n_init` will change from 10 to 'auto' in 1.4. Set the value of `n_init` explicitly to suppress the warning\n",
      "  super()._check_params_vs_input(X, default_n_init=10)\n"
     ]
    },
    {
     "name": "stdout",
     "output_type": "stream",
     "text": [
      "| \u001b[0m44       \u001b[0m | \u001b[0m0.1219   \u001b[0m | \u001b[0m6.97     \u001b[0m | \u001b[0m1.419    \u001b[0m | \u001b[0m13.21    \u001b[0m | \u001b[0m2.823    \u001b[0m | \u001b[0m252.1    \u001b[0m |\n"
     ]
    },
    {
     "name": "stderr",
     "output_type": "stream",
     "text": [
      "/Users/federico.ravenda/anaconda3/envs/fastm/lib/python3.9/site-packages/sklearn/cluster/_kmeans.py:1416: FutureWarning: The default value of `n_init` will change from 10 to 'auto' in 1.4. Set the value of `n_init` explicitly to suppress the warning\n",
      "  super()._check_params_vs_input(X, default_n_init=10)\n"
     ]
    },
    {
     "name": "stdout",
     "output_type": "stream",
     "text": [
      "| \u001b[0m45       \u001b[0m | \u001b[0m0.1496   \u001b[0m | \u001b[0m7.735    \u001b[0m | \u001b[0m1.728    \u001b[0m | \u001b[0m13.84    \u001b[0m | \u001b[0m2.212    \u001b[0m | \u001b[0m251.8    \u001b[0m |\n"
     ]
    },
    {
     "name": "stderr",
     "output_type": "stream",
     "text": [
      "/Users/federico.ravenda/anaconda3/envs/fastm/lib/python3.9/site-packages/sklearn/cluster/_kmeans.py:1416: FutureWarning: The default value of `n_init` will change from 10 to 'auto' in 1.4. Set the value of `n_init` explicitly to suppress the warning\n",
      "  super()._check_params_vs_input(X, default_n_init=10)\n"
     ]
    },
    {
     "name": "stdout",
     "output_type": "stream",
     "text": [
      "| \u001b[0m46       \u001b[0m | \u001b[0m0.1321   \u001b[0m | \u001b[0m6.387    \u001b[0m | \u001b[0m2.321    \u001b[0m | \u001b[0m14.09    \u001b[0m | \u001b[0m3.485    \u001b[0m | \u001b[0m252.4    \u001b[0m |\n"
     ]
    },
    {
     "name": "stderr",
     "output_type": "stream",
     "text": [
      "/Users/federico.ravenda/anaconda3/envs/fastm/lib/python3.9/site-packages/sklearn/cluster/_kmeans.py:1416: FutureWarning: The default value of `n_init` will change from 10 to 'auto' in 1.4. Set the value of `n_init` explicitly to suppress the warning\n",
      "  super()._check_params_vs_input(X, default_n_init=10)\n"
     ]
    },
    {
     "name": "stdout",
     "output_type": "stream",
     "text": [
      "| \u001b[0m47       \u001b[0m | \u001b[0m0.1444   \u001b[0m | \u001b[0m7.246    \u001b[0m | \u001b[0m1.004    \u001b[0m | \u001b[0m14.46    \u001b[0m | \u001b[0m2.138    \u001b[0m | \u001b[0m251.1    \u001b[0m |\n"
     ]
    },
    {
     "name": "stderr",
     "output_type": "stream",
     "text": [
      "/Users/federico.ravenda/anaconda3/envs/fastm/lib/python3.9/site-packages/sklearn/cluster/_kmeans.py:1416: FutureWarning: The default value of `n_init` will change from 10 to 'auto' in 1.4. Set the value of `n_init` explicitly to suppress the warning\n",
      "  super()._check_params_vs_input(X, default_n_init=10)\n"
     ]
    },
    {
     "name": "stdout",
     "output_type": "stream",
     "text": [
      "| \u001b[0m48       \u001b[0m | \u001b[0m0.1015   \u001b[0m | \u001b[0m5.226    \u001b[0m | \u001b[0m2.32     \u001b[0m | \u001b[0m12.63    \u001b[0m | \u001b[0m3.921    \u001b[0m | \u001b[0m184.2    \u001b[0m |\n"
     ]
    },
    {
     "name": "stderr",
     "output_type": "stream",
     "text": [
      "/Users/federico.ravenda/anaconda3/envs/fastm/lib/python3.9/site-packages/sklearn/cluster/_kmeans.py:1416: FutureWarning: The default value of `n_init` will change from 10 to 'auto' in 1.4. Set the value of `n_init` explicitly to suppress the warning\n",
      "  super()._check_params_vs_input(X, default_n_init=10)\n"
     ]
    },
    {
     "name": "stdout",
     "output_type": "stream",
     "text": [
      "| \u001b[0m49       \u001b[0m | \u001b[0m0.144    \u001b[0m | \u001b[0m6.824    \u001b[0m | \u001b[0m1.562    \u001b[0m | \u001b[0m13.89    \u001b[0m | \u001b[0m2.213    \u001b[0m | \u001b[0m252.2    \u001b[0m |\n"
     ]
    },
    {
     "name": "stderr",
     "output_type": "stream",
     "text": [
      "/Users/federico.ravenda/anaconda3/envs/fastm/lib/python3.9/site-packages/sklearn/cluster/_kmeans.py:1416: FutureWarning: The default value of `n_init` will change from 10 to 'auto' in 1.4. Set the value of `n_init` explicitly to suppress the warning\n",
      "  super()._check_params_vs_input(X, default_n_init=10)\n"
     ]
    },
    {
     "name": "stdout",
     "output_type": "stream",
     "text": [
      "| \u001b[0m50       \u001b[0m | \u001b[0m0.1339   \u001b[0m | \u001b[0m5.672    \u001b[0m | \u001b[0m2.696    \u001b[0m | \u001b[0m13.47    \u001b[0m | \u001b[0m3.124    \u001b[0m | \u001b[0m182.8    \u001b[0m |\n"
     ]
    },
    {
     "name": "stderr",
     "output_type": "stream",
     "text": [
      "/Users/federico.ravenda/anaconda3/envs/fastm/lib/python3.9/site-packages/sklearn/cluster/_kmeans.py:1416: FutureWarning: The default value of `n_init` will change from 10 to 'auto' in 1.4. Set the value of `n_init` explicitly to suppress the warning\n",
      "  super()._check_params_vs_input(X, default_n_init=10)\n"
     ]
    },
    {
     "name": "stdout",
     "output_type": "stream",
     "text": [
      "| \u001b[0m51       \u001b[0m | \u001b[0m0.1198   \u001b[0m | \u001b[0m8.535    \u001b[0m | \u001b[0m1.618    \u001b[0m | \u001b[0m13.39    \u001b[0m | \u001b[0m2.171    \u001b[0m | \u001b[0m251.9    \u001b[0m |\n"
     ]
    },
    {
     "name": "stderr",
     "output_type": "stream",
     "text": [
      "/Users/federico.ravenda/anaconda3/envs/fastm/lib/python3.9/site-packages/sklearn/cluster/_kmeans.py:1416: FutureWarning: The default value of `n_init` will change from 10 to 'auto' in 1.4. Set the value of `n_init` explicitly to suppress the warning\n",
      "  super()._check_params_vs_input(X, default_n_init=10)\n"
     ]
    },
    {
     "name": "stdout",
     "output_type": "stream",
     "text": [
      "| \u001b[0m52       \u001b[0m | \u001b[0m0.1472   \u001b[0m | \u001b[0m7.246    \u001b[0m | \u001b[0m1.778    \u001b[0m | \u001b[0m14.95    \u001b[0m | \u001b[0m2.098    \u001b[0m | \u001b[0m251.1    \u001b[0m |\n"
     ]
    },
    {
     "name": "stderr",
     "output_type": "stream",
     "text": [
      "/Users/federico.ravenda/anaconda3/envs/fastm/lib/python3.9/site-packages/sklearn/cluster/_kmeans.py:1416: FutureWarning: The default value of `n_init` will change from 10 to 'auto' in 1.4. Set the value of `n_init` explicitly to suppress the warning\n",
      "  super()._check_params_vs_input(X, default_n_init=10)\n"
     ]
    },
    {
     "name": "stdout",
     "output_type": "stream",
     "text": [
      "| \u001b[0m53       \u001b[0m | \u001b[0m0.1267   \u001b[0m | \u001b[0m5.243    \u001b[0m | \u001b[0m1.822    \u001b[0m | \u001b[0m13.96    \u001b[0m | \u001b[0m2.292    \u001b[0m | \u001b[0m292.7    \u001b[0m |\n"
     ]
    },
    {
     "name": "stderr",
     "output_type": "stream",
     "text": [
      "/Users/federico.ravenda/anaconda3/envs/fastm/lib/python3.9/site-packages/sklearn/cluster/_kmeans.py:1416: FutureWarning: The default value of `n_init` will change from 10 to 'auto' in 1.4. Set the value of `n_init` explicitly to suppress the warning\n",
      "  super()._check_params_vs_input(X, default_n_init=10)\n"
     ]
    },
    {
     "name": "stdout",
     "output_type": "stream",
     "text": [
      "| \u001b[0m54       \u001b[0m | \u001b[0m0.09791  \u001b[0m | \u001b[0m6.101    \u001b[0m | \u001b[0m1.615    \u001b[0m | \u001b[0m13.77    \u001b[0m | \u001b[0m2.655    \u001b[0m | \u001b[0m252.6    \u001b[0m |\n"
     ]
    },
    {
     "name": "stderr",
     "output_type": "stream",
     "text": [
      "/Users/federico.ravenda/anaconda3/envs/fastm/lib/python3.9/site-packages/sklearn/cluster/_kmeans.py:1416: FutureWarning: The default value of `n_init` will change from 10 to 'auto' in 1.4. Set the value of `n_init` explicitly to suppress the warning\n",
      "  super()._check_params_vs_input(X, default_n_init=10)\n",
      "/Users/federico.ravenda/anaconda3/envs/fastm/lib/python3.9/site-packages/sklearn/neural_network/_multilayer_perceptron.py:691: ConvergenceWarning: Stochastic Optimizer: Maximum iterations (200) reached and the optimization hasn't converged yet.\n",
      "  warnings.warn(\n"
     ]
    },
    {
     "name": "stdout",
     "output_type": "stream",
     "text": [
      "| \u001b[0m55       \u001b[0m | \u001b[0m0.1123   \u001b[0m | \u001b[0m6.189    \u001b[0m | \u001b[0m2.242    \u001b[0m | \u001b[0m13.77    \u001b[0m | \u001b[0m3.54     \u001b[0m | \u001b[0m252.3    \u001b[0m |\n"
     ]
    },
    {
     "name": "stderr",
     "output_type": "stream",
     "text": [
      "/Users/federico.ravenda/anaconda3/envs/fastm/lib/python3.9/site-packages/sklearn/cluster/_kmeans.py:1416: FutureWarning: The default value of `n_init` will change from 10 to 'auto' in 1.4. Set the value of `n_init` explicitly to suppress the warning\n",
      "  super()._check_params_vs_input(X, default_n_init=10)\n"
     ]
    },
    {
     "name": "stdout",
     "output_type": "stream",
     "text": [
      "| \u001b[0m56       \u001b[0m | \u001b[0m0.1207   \u001b[0m | \u001b[0m8.784    \u001b[0m | \u001b[0m1.976    \u001b[0m | \u001b[0m15.35    \u001b[0m | \u001b[0m2.838    \u001b[0m | \u001b[0m241.8    \u001b[0m |\n"
     ]
    },
    {
     "name": "stderr",
     "output_type": "stream",
     "text": [
      "/Users/federico.ravenda/anaconda3/envs/fastm/lib/python3.9/site-packages/sklearn/cluster/_kmeans.py:1416: FutureWarning: The default value of `n_init` will change from 10 to 'auto' in 1.4. Set the value of `n_init` explicitly to suppress the warning\n",
      "  super()._check_params_vs_input(X, default_n_init=10)\n"
     ]
    },
    {
     "name": "stdout",
     "output_type": "stream",
     "text": [
      "| \u001b[0m57       \u001b[0m | \u001b[0m0.1316   \u001b[0m | \u001b[0m3.385    \u001b[0m | \u001b[0m1.64     \u001b[0m | \u001b[0m16.95    \u001b[0m | \u001b[0m3.947    \u001b[0m | \u001b[0m256.0    \u001b[0m |\n"
     ]
    },
    {
     "name": "stderr",
     "output_type": "stream",
     "text": [
      "/Users/federico.ravenda/anaconda3/envs/fastm/lib/python3.9/site-packages/sklearn/cluster/_kmeans.py:1416: FutureWarning: The default value of `n_init` will change from 10 to 'auto' in 1.4. Set the value of `n_init` explicitly to suppress the warning\n",
      "  super()._check_params_vs_input(X, default_n_init=10)\n"
     ]
    },
    {
     "name": "stdout",
     "output_type": "stream",
     "text": [
      "| \u001b[95m58       \u001b[0m | \u001b[95m0.1679   \u001b[0m | \u001b[95m7.138    \u001b[0m | \u001b[95m1.189    \u001b[0m | \u001b[95m13.94    \u001b[0m | \u001b[95m2.0      \u001b[0m | \u001b[95m251.8    \u001b[0m |\n"
     ]
    },
    {
     "name": "stderr",
     "output_type": "stream",
     "text": [
      "/Users/federico.ravenda/anaconda3/envs/fastm/lib/python3.9/site-packages/sklearn/cluster/_kmeans.py:1416: FutureWarning: The default value of `n_init` will change from 10 to 'auto' in 1.4. Set the value of `n_init` explicitly to suppress the warning\n",
      "  super()._check_params_vs_input(X, default_n_init=10)\n"
     ]
    },
    {
     "name": "stdout",
     "output_type": "stream",
     "text": [
      "| \u001b[0m59       \u001b[0m | \u001b[0m0.1323   \u001b[0m | \u001b[0m7.416    \u001b[0m | \u001b[0m3.0      \u001b[0m | \u001b[0m13.47    \u001b[0m | \u001b[0m3.199    \u001b[0m | \u001b[0m251.7    \u001b[0m |\n"
     ]
    },
    {
     "name": "stderr",
     "output_type": "stream",
     "text": [
      "/Users/federico.ravenda/anaconda3/envs/fastm/lib/python3.9/site-packages/sklearn/cluster/_kmeans.py:1416: FutureWarning: The default value of `n_init` will change from 10 to 'auto' in 1.4. Set the value of `n_init` explicitly to suppress the warning\n",
      "  super()._check_params_vs_input(X, default_n_init=10)\n"
     ]
    },
    {
     "name": "stdout",
     "output_type": "stream",
     "text": [
      "| \u001b[0m60       \u001b[0m | \u001b[0m0.1015   \u001b[0m | \u001b[0m7.368    \u001b[0m | \u001b[0m2.575    \u001b[0m | \u001b[0m13.47    \u001b[0m | \u001b[0m2.274    \u001b[0m | \u001b[0m251.1    \u001b[0m |\n"
     ]
    },
    {
     "name": "stderr",
     "output_type": "stream",
     "text": [
      "/Users/federico.ravenda/anaconda3/envs/fastm/lib/python3.9/site-packages/sklearn/cluster/_kmeans.py:1416: FutureWarning: The default value of `n_init` will change from 10 to 'auto' in 1.4. Set the value of `n_init` explicitly to suppress the warning\n",
      "  super()._check_params_vs_input(X, default_n_init=10)\n"
     ]
    },
    {
     "name": "stdout",
     "output_type": "stream",
     "text": [
      "| \u001b[0m61       \u001b[0m | \u001b[0m0.1225   \u001b[0m | \u001b[0m4.869    \u001b[0m | \u001b[0m2.125    \u001b[0m | \u001b[0m13.31    \u001b[0m | \u001b[0m3.929    \u001b[0m | \u001b[0m182.7    \u001b[0m |\n"
     ]
    },
    {
     "name": "stderr",
     "output_type": "stream",
     "text": [
      "/Users/federico.ravenda/anaconda3/envs/fastm/lib/python3.9/site-packages/sklearn/cluster/_kmeans.py:1416: FutureWarning: The default value of `n_init` will change from 10 to 'auto' in 1.4. Set the value of `n_init` explicitly to suppress the warning\n",
      "  super()._check_params_vs_input(X, default_n_init=10)\n"
     ]
    },
    {
     "name": "stdout",
     "output_type": "stream",
     "text": [
      "| \u001b[0m62       \u001b[0m | \u001b[0m0.1529   \u001b[0m | \u001b[0m7.056    \u001b[0m | \u001b[0m2.299    \u001b[0m | \u001b[0m14.48    \u001b[0m | \u001b[0m2.04     \u001b[0m | \u001b[0m252.2    \u001b[0m |\n"
     ]
    },
    {
     "name": "stderr",
     "output_type": "stream",
     "text": [
      "/Users/federico.ravenda/anaconda3/envs/fastm/lib/python3.9/site-packages/sklearn/cluster/_kmeans.py:1416: FutureWarning: The default value of `n_init` will change from 10 to 'auto' in 1.4. Set the value of `n_init` explicitly to suppress the warning\n",
      "  super()._check_params_vs_input(X, default_n_init=10)\n"
     ]
    },
    {
     "name": "stdout",
     "output_type": "stream",
     "text": [
      "| \u001b[0m63       \u001b[0m | \u001b[0m0.1298   \u001b[0m | \u001b[0m4.488    \u001b[0m | \u001b[0m1.811    \u001b[0m | \u001b[0m15.36    \u001b[0m | \u001b[0m2.138    \u001b[0m | \u001b[0m292.8    \u001b[0m |\n"
     ]
    },
    {
     "name": "stderr",
     "output_type": "stream",
     "text": [
      "/Users/federico.ravenda/anaconda3/envs/fastm/lib/python3.9/site-packages/sklearn/cluster/_kmeans.py:1416: FutureWarning: The default value of `n_init` will change from 10 to 'auto' in 1.4. Set the value of `n_init` explicitly to suppress the warning\n",
      "  super()._check_params_vs_input(X, default_n_init=10)\n"
     ]
    },
    {
     "name": "stdout",
     "output_type": "stream",
     "text": [
      "| \u001b[0m64       \u001b[0m | \u001b[0m0.1381   \u001b[0m | \u001b[0m7.966    \u001b[0m | \u001b[0m1.169    \u001b[0m | \u001b[0m14.36    \u001b[0m | \u001b[0m2.232    \u001b[0m | \u001b[0m251.9    \u001b[0m |\n"
     ]
    },
    {
     "name": "stderr",
     "output_type": "stream",
     "text": [
      "/Users/federico.ravenda/anaconda3/envs/fastm/lib/python3.9/site-packages/sklearn/cluster/_kmeans.py:1416: FutureWarning: The default value of `n_init` will change from 10 to 'auto' in 1.4. Set the value of `n_init` explicitly to suppress the warning\n",
      "  super()._check_params_vs_input(X, default_n_init=10)\n"
     ]
    },
    {
     "name": "stdout",
     "output_type": "stream",
     "text": [
      "| \u001b[0m65       \u001b[0m | \u001b[0m0.1155   \u001b[0m | \u001b[0m5.337    \u001b[0m | \u001b[0m3.0      \u001b[0m | \u001b[0m12.83    \u001b[0m | \u001b[0m2.44     \u001b[0m | \u001b[0m183.2    \u001b[0m |\n"
     ]
    },
    {
     "name": "stderr",
     "output_type": "stream",
     "text": [
      "/Users/federico.ravenda/anaconda3/envs/fastm/lib/python3.9/site-packages/sklearn/cluster/_kmeans.py:1416: FutureWarning: The default value of `n_init` will change from 10 to 'auto' in 1.4. Set the value of `n_init` explicitly to suppress the warning\n",
      "  super()._check_params_vs_input(X, default_n_init=10)\n"
     ]
    },
    {
     "name": "stdout",
     "output_type": "stream",
     "text": [
      "| \u001b[0m66       \u001b[0m | \u001b[0m0.139    \u001b[0m | \u001b[0m7.041    \u001b[0m | \u001b[0m1.086    \u001b[0m | \u001b[0m12.94    \u001b[0m | \u001b[0m2.014    \u001b[0m | \u001b[0m251.6    \u001b[0m |\n"
     ]
    },
    {
     "name": "stderr",
     "output_type": "stream",
     "text": [
      "/Users/federico.ravenda/anaconda3/envs/fastm/lib/python3.9/site-packages/sklearn/cluster/_kmeans.py:1416: FutureWarning: The default value of `n_init` will change from 10 to 'auto' in 1.4. Set the value of `n_init` explicitly to suppress the warning\n",
      "  super()._check_params_vs_input(X, default_n_init=10)\n"
     ]
    },
    {
     "name": "stdout",
     "output_type": "stream",
     "text": [
      "| \u001b[0m67       \u001b[0m | \u001b[0m0.15     \u001b[0m | \u001b[0m7.264    \u001b[0m | \u001b[0m1.134    \u001b[0m | \u001b[0m15.31    \u001b[0m | \u001b[0m2.543    \u001b[0m | \u001b[0m251.4    \u001b[0m |\n"
     ]
    },
    {
     "name": "stderr",
     "output_type": "stream",
     "text": [
      "/Users/federico.ravenda/anaconda3/envs/fastm/lib/python3.9/site-packages/sklearn/cluster/_kmeans.py:1416: FutureWarning: The default value of `n_init` will change from 10 to 'auto' in 1.4. Set the value of `n_init` explicitly to suppress the warning\n",
      "  super()._check_params_vs_input(X, default_n_init=10)\n"
     ]
    },
    {
     "name": "stdout",
     "output_type": "stream",
     "text": [
      "| \u001b[0m68       \u001b[0m | \u001b[0m0.1436   \u001b[0m | \u001b[0m7.529    \u001b[0m | \u001b[0m1.862    \u001b[0m | \u001b[0m14.27    \u001b[0m | \u001b[0m2.17     \u001b[0m | \u001b[0m251.7    \u001b[0m |\n"
     ]
    },
    {
     "name": "stderr",
     "output_type": "stream",
     "text": [
      "/Users/federico.ravenda/anaconda3/envs/fastm/lib/python3.9/site-packages/sklearn/cluster/_kmeans.py:1416: FutureWarning: The default value of `n_init` will change from 10 to 'auto' in 1.4. Set the value of `n_init` explicitly to suppress the warning\n",
      "  super()._check_params_vs_input(X, default_n_init=10)\n"
     ]
    },
    {
     "name": "stdout",
     "output_type": "stream",
     "text": [
      "| \u001b[0m69       \u001b[0m | \u001b[0m0.1323   \u001b[0m | \u001b[0m8.096    \u001b[0m | \u001b[0m1.014    \u001b[0m | \u001b[0m13.76    \u001b[0m | \u001b[0m2.213    \u001b[0m | \u001b[0m251.0    \u001b[0m |\n"
     ]
    },
    {
     "name": "stderr",
     "output_type": "stream",
     "text": [
      "/Users/federico.ravenda/anaconda3/envs/fastm/lib/python3.9/site-packages/sklearn/cluster/_kmeans.py:1416: FutureWarning: The default value of `n_init` will change from 10 to 'auto' in 1.4. Set the value of `n_init` explicitly to suppress the warning\n",
      "  super()._check_params_vs_input(X, default_n_init=10)\n"
     ]
    },
    {
     "name": "stdout",
     "output_type": "stream",
     "text": [
      "| \u001b[0m70       \u001b[0m | \u001b[0m0.1481   \u001b[0m | \u001b[0m6.585    \u001b[0m | \u001b[0m1.371    \u001b[0m | \u001b[0m14.23    \u001b[0m | \u001b[0m2.505    \u001b[0m | \u001b[0m252.1    \u001b[0m |\n"
     ]
    },
    {
     "name": "stderr",
     "output_type": "stream",
     "text": [
      "/Users/federico.ravenda/anaconda3/envs/fastm/lib/python3.9/site-packages/sklearn/cluster/_kmeans.py:1416: FutureWarning: The default value of `n_init` will change from 10 to 'auto' in 1.4. Set the value of `n_init` explicitly to suppress the warning\n",
      "  super()._check_params_vs_input(X, default_n_init=10)\n"
     ]
    },
    {
     "name": "stdout",
     "output_type": "stream",
     "text": [
      "| \u001b[0m71       \u001b[0m | \u001b[0m0.1222   \u001b[0m | \u001b[0m6.605    \u001b[0m | \u001b[0m2.643    \u001b[0m | \u001b[0m14.22    \u001b[0m | \u001b[0m2.006    \u001b[0m | \u001b[0m251.7    \u001b[0m |\n"
     ]
    },
    {
     "name": "stderr",
     "output_type": "stream",
     "text": [
      "/Users/federico.ravenda/anaconda3/envs/fastm/lib/python3.9/site-packages/sklearn/cluster/_kmeans.py:1416: FutureWarning: The default value of `n_init` will change from 10 to 'auto' in 1.4. Set the value of `n_init` explicitly to suppress the warning\n",
      "  super()._check_params_vs_input(X, default_n_init=10)\n"
     ]
    },
    {
     "name": "stdout",
     "output_type": "stream",
     "text": [
      "| \u001b[0m72       \u001b[0m | \u001b[0m0.15     \u001b[0m | \u001b[0m5.297    \u001b[0m | \u001b[0m1.004    \u001b[0m | \u001b[0m15.31    \u001b[0m | \u001b[0m2.987    \u001b[0m | \u001b[0m293.2    \u001b[0m |\n"
     ]
    },
    {
     "name": "stderr",
     "output_type": "stream",
     "text": [
      "/Users/federico.ravenda/anaconda3/envs/fastm/lib/python3.9/site-packages/sklearn/cluster/_kmeans.py:1416: FutureWarning: The default value of `n_init` will change from 10 to 'auto' in 1.4. Set the value of `n_init` explicitly to suppress the warning\n",
      "  super()._check_params_vs_input(X, default_n_init=10)\n"
     ]
    },
    {
     "name": "stdout",
     "output_type": "stream",
     "text": [
      "| \u001b[0m73       \u001b[0m | \u001b[0m0.1366   \u001b[0m | \u001b[0m5.715    \u001b[0m | \u001b[0m1.115    \u001b[0m | \u001b[0m15.59    \u001b[0m | \u001b[0m2.712    \u001b[0m | \u001b[0m292.6    \u001b[0m |\n"
     ]
    },
    {
     "name": "stderr",
     "output_type": "stream",
     "text": [
      "/Users/federico.ravenda/anaconda3/envs/fastm/lib/python3.9/site-packages/sklearn/cluster/_kmeans.py:1416: FutureWarning: The default value of `n_init` will change from 10 to 'auto' in 1.4. Set the value of `n_init` explicitly to suppress the warning\n",
      "  super()._check_params_vs_input(X, default_n_init=10)\n"
     ]
    },
    {
     "name": "stdout",
     "output_type": "stream",
     "text": [
      "| \u001b[0m74       \u001b[0m | \u001b[0m0.1512   \u001b[0m | \u001b[0m6.956    \u001b[0m | \u001b[0m1.0      \u001b[0m | \u001b[0m15.36    \u001b[0m | \u001b[0m2.0      \u001b[0m | \u001b[0m250.9    \u001b[0m |\n"
     ]
    },
    {
     "name": "stderr",
     "output_type": "stream",
     "text": [
      "/Users/federico.ravenda/anaconda3/envs/fastm/lib/python3.9/site-packages/sklearn/cluster/_kmeans.py:1416: FutureWarning: The default value of `n_init` will change from 10 to 'auto' in 1.4. Set the value of `n_init` explicitly to suppress the warning\n",
      "  super()._check_params_vs_input(X, default_n_init=10)\n"
     ]
    },
    {
     "name": "stdout",
     "output_type": "stream",
     "text": [
      "| \u001b[0m75       \u001b[0m | \u001b[0m0.03492  \u001b[0m | \u001b[0m4.895    \u001b[0m | \u001b[0m1.107    \u001b[0m | \u001b[0m15.79    \u001b[0m | \u001b[0m3.528    \u001b[0m | \u001b[0m292.8    \u001b[0m |\n"
     ]
    },
    {
     "name": "stderr",
     "output_type": "stream",
     "text": [
      "/Users/federico.ravenda/anaconda3/envs/fastm/lib/python3.9/site-packages/sklearn/cluster/_kmeans.py:1416: FutureWarning: The default value of `n_init` will change from 10 to 'auto' in 1.4. Set the value of `n_init` explicitly to suppress the warning\n",
      "  super()._check_params_vs_input(X, default_n_init=10)\n"
     ]
    },
    {
     "name": "stdout",
     "output_type": "stream",
     "text": [
      "| \u001b[0m76       \u001b[0m | \u001b[0m0.1255   \u001b[0m | \u001b[0m5.179    \u001b[0m | \u001b[0m1.681    \u001b[0m | \u001b[0m14.51    \u001b[0m | \u001b[0m3.466    \u001b[0m | \u001b[0m293.7    \u001b[0m |\n"
     ]
    },
    {
     "name": "stderr",
     "output_type": "stream",
     "text": [
      "/Users/federico.ravenda/anaconda3/envs/fastm/lib/python3.9/site-packages/sklearn/cluster/_kmeans.py:1416: FutureWarning: The default value of `n_init` will change from 10 to 'auto' in 1.4. Set the value of `n_init` explicitly to suppress the warning\n",
      "  super()._check_params_vs_input(X, default_n_init=10)\n"
     ]
    },
    {
     "name": "stdout",
     "output_type": "stream",
     "text": [
      "| \u001b[0m77       \u001b[0m | \u001b[0m0.1383   \u001b[0m | \u001b[0m4.675    \u001b[0m | \u001b[0m2.172    \u001b[0m | \u001b[0m16.41    \u001b[0m | \u001b[0m3.016    \u001b[0m | \u001b[0m288.1    \u001b[0m |\n"
     ]
    },
    {
     "name": "stderr",
     "output_type": "stream",
     "text": [
      "/Users/federico.ravenda/anaconda3/envs/fastm/lib/python3.9/site-packages/sklearn/cluster/_kmeans.py:1416: FutureWarning: The default value of `n_init` will change from 10 to 'auto' in 1.4. Set the value of `n_init` explicitly to suppress the warning\n",
      "  super()._check_params_vs_input(X, default_n_init=10)\n"
     ]
    },
    {
     "name": "stdout",
     "output_type": "stream",
     "text": [
      "| \u001b[0m78       \u001b[0m | \u001b[0m0.142    \u001b[0m | \u001b[0m3.21     \u001b[0m | \u001b[0m2.32     \u001b[0m | \u001b[0m11.8     \u001b[0m | \u001b[0m2.285    \u001b[0m | \u001b[0m331.0    \u001b[0m |\n"
     ]
    },
    {
     "name": "stderr",
     "output_type": "stream",
     "text": [
      "/Users/federico.ravenda/anaconda3/envs/fastm/lib/python3.9/site-packages/sklearn/cluster/_kmeans.py:1416: FutureWarning: The default value of `n_init` will change from 10 to 'auto' in 1.4. Set the value of `n_init` explicitly to suppress the warning\n",
      "  super()._check_params_vs_input(X, default_n_init=10)\n"
     ]
    },
    {
     "name": "stdout",
     "output_type": "stream",
     "text": [
      "| \u001b[0m79       \u001b[0m | \u001b[0m0.136    \u001b[0m | \u001b[0m4.261    \u001b[0m | \u001b[0m1.602    \u001b[0m | \u001b[0m15.14    \u001b[0m | \u001b[0m2.097    \u001b[0m | \u001b[0m292.9    \u001b[0m |\n"
     ]
    },
    {
     "name": "stderr",
     "output_type": "stream",
     "text": [
      "/Users/federico.ravenda/anaconda3/envs/fastm/lib/python3.9/site-packages/sklearn/cluster/_kmeans.py:1416: FutureWarning: The default value of `n_init` will change from 10 to 'auto' in 1.4. Set the value of `n_init` explicitly to suppress the warning\n",
      "  super()._check_params_vs_input(X, default_n_init=10)\n"
     ]
    },
    {
     "name": "stdout",
     "output_type": "stream",
     "text": [
      "| \u001b[0m80       \u001b[0m | \u001b[0m0.1203   \u001b[0m | \u001b[0m5.149    \u001b[0m | \u001b[0m1.556    \u001b[0m | \u001b[0m16.05    \u001b[0m | \u001b[0m2.194    \u001b[0m | \u001b[0m293.9    \u001b[0m |\n"
     ]
    },
    {
     "name": "stderr",
     "output_type": "stream",
     "text": [
      "/Users/federico.ravenda/anaconda3/envs/fastm/lib/python3.9/site-packages/sklearn/cluster/_kmeans.py:1416: FutureWarning: The default value of `n_init` will change from 10 to 'auto' in 1.4. Set the value of `n_init` explicitly to suppress the warning\n",
      "  super()._check_params_vs_input(X, default_n_init=10)\n"
     ]
    },
    {
     "name": "stdout",
     "output_type": "stream",
     "text": [
      "| \u001b[0m81       \u001b[0m | \u001b[0m0.08724  \u001b[0m | \u001b[0m8.047    \u001b[0m | \u001b[0m1.399    \u001b[0m | \u001b[0m17.77    \u001b[0m | \u001b[0m3.653    \u001b[0m | \u001b[0m268.2    \u001b[0m |\n"
     ]
    },
    {
     "name": "stderr",
     "output_type": "stream",
     "text": [
      "/Users/federico.ravenda/anaconda3/envs/fastm/lib/python3.9/site-packages/sklearn/cluster/_kmeans.py:1416: FutureWarning: The default value of `n_init` will change from 10 to 'auto' in 1.4. Set the value of `n_init` explicitly to suppress the warning\n",
      "  super()._check_params_vs_input(X, default_n_init=10)\n"
     ]
    },
    {
     "name": "stdout",
     "output_type": "stream",
     "text": [
      "| \u001b[0m82       \u001b[0m | \u001b[0m0.1367   \u001b[0m | \u001b[0m4.481    \u001b[0m | \u001b[0m1.027    \u001b[0m | \u001b[0m14.33    \u001b[0m | \u001b[0m2.107    \u001b[0m | \u001b[0m293.4    \u001b[0m |\n"
     ]
    },
    {
     "name": "stderr",
     "output_type": "stream",
     "text": [
      "/Users/federico.ravenda/anaconda3/envs/fastm/lib/python3.9/site-packages/sklearn/cluster/_kmeans.py:1416: FutureWarning: The default value of `n_init` will change from 10 to 'auto' in 1.4. Set the value of `n_init` explicitly to suppress the warning\n",
      "  super()._check_params_vs_input(X, default_n_init=10)\n"
     ]
    },
    {
     "name": "stdout",
     "output_type": "stream",
     "text": [
      "| \u001b[0m83       \u001b[0m | \u001b[0m0.1158   \u001b[0m | \u001b[0m6.39     \u001b[0m | \u001b[0m1.165    \u001b[0m | \u001b[0m15.5     \u001b[0m | \u001b[0m2.056    \u001b[0m | \u001b[0m293.9    \u001b[0m |\n"
     ]
    },
    {
     "name": "stderr",
     "output_type": "stream",
     "text": [
      "/Users/federico.ravenda/anaconda3/envs/fastm/lib/python3.9/site-packages/sklearn/cluster/_kmeans.py:1416: FutureWarning: The default value of `n_init` will change from 10 to 'auto' in 1.4. Set the value of `n_init` explicitly to suppress the warning\n",
      "  super()._check_params_vs_input(X, default_n_init=10)\n"
     ]
    },
    {
     "name": "stdout",
     "output_type": "stream",
     "text": [
      "| \u001b[0m84       \u001b[0m | \u001b[0m0.1547   \u001b[0m | \u001b[0m7.685    \u001b[0m | \u001b[0m1.2      \u001b[0m | \u001b[0m15.22    \u001b[0m | \u001b[0m2.232    \u001b[0m | \u001b[0m251.3    \u001b[0m |\n"
     ]
    },
    {
     "name": "stderr",
     "output_type": "stream",
     "text": [
      "/Users/federico.ravenda/anaconda3/envs/fastm/lib/python3.9/site-packages/sklearn/cluster/_kmeans.py:1416: FutureWarning: The default value of `n_init` will change from 10 to 'auto' in 1.4. Set the value of `n_init` explicitly to suppress the warning\n",
      "  super()._check_params_vs_input(X, default_n_init=10)\n"
     ]
    },
    {
     "name": "stdout",
     "output_type": "stream",
     "text": [
      "| \u001b[0m85       \u001b[0m | \u001b[0m0.1431   \u001b[0m | \u001b[0m7.69     \u001b[0m | \u001b[0m1.5      \u001b[0m | \u001b[0m16.12    \u001b[0m | \u001b[0m2.175    \u001b[0m | \u001b[0m250.6    \u001b[0m |\n"
     ]
    },
    {
     "name": "stderr",
     "output_type": "stream",
     "text": [
      "/Users/federico.ravenda/anaconda3/envs/fastm/lib/python3.9/site-packages/sklearn/cluster/_kmeans.py:1416: FutureWarning: The default value of `n_init` will change from 10 to 'auto' in 1.4. Set the value of `n_init` explicitly to suppress the warning\n",
      "  super()._check_params_vs_input(X, default_n_init=10)\n"
     ]
    },
    {
     "name": "stdout",
     "output_type": "stream",
     "text": [
      "| \u001b[0m86       \u001b[0m | \u001b[0m0.1288   \u001b[0m | \u001b[0m7.165    \u001b[0m | \u001b[0m1.163    \u001b[0m | \u001b[0m16.53    \u001b[0m | \u001b[0m2.016    \u001b[0m | \u001b[0m250.0    \u001b[0m |\n"
     ]
    },
    {
     "name": "stderr",
     "output_type": "stream",
     "text": [
      "/Users/federico.ravenda/anaconda3/envs/fastm/lib/python3.9/site-packages/sklearn/cluster/_kmeans.py:1416: FutureWarning: The default value of `n_init` will change from 10 to 'auto' in 1.4. Set the value of `n_init` explicitly to suppress the warning\n",
      "  super()._check_params_vs_input(X, default_n_init=10)\n"
     ]
    },
    {
     "name": "stdout",
     "output_type": "stream",
     "text": [
      "| \u001b[0m87       \u001b[0m | \u001b[0m0.1318   \u001b[0m | \u001b[0m4.113    \u001b[0m | \u001b[0m2.644    \u001b[0m | \u001b[0m11.51    \u001b[0m | \u001b[0m2.336    \u001b[0m | \u001b[0m330.6    \u001b[0m |\n"
     ]
    },
    {
     "name": "stderr",
     "output_type": "stream",
     "text": [
      "/Users/federico.ravenda/anaconda3/envs/fastm/lib/python3.9/site-packages/sklearn/cluster/_kmeans.py:1416: FutureWarning: The default value of `n_init` will change from 10 to 'auto' in 1.4. Set the value of `n_init` explicitly to suppress the warning\n",
      "  super()._check_params_vs_input(X, default_n_init=10)\n"
     ]
    },
    {
     "name": "stdout",
     "output_type": "stream",
     "text": [
      "| \u001b[0m88       \u001b[0m | \u001b[0m0.1331   \u001b[0m | \u001b[0m3.194    \u001b[0m | \u001b[0m1.891    \u001b[0m | \u001b[0m11.58    \u001b[0m | \u001b[0m3.224    \u001b[0m | \u001b[0m331.0    \u001b[0m |\n"
     ]
    },
    {
     "name": "stderr",
     "output_type": "stream",
     "text": [
      "/Users/federico.ravenda/anaconda3/envs/fastm/lib/python3.9/site-packages/sklearn/cluster/_kmeans.py:1416: FutureWarning: The default value of `n_init` will change from 10 to 'auto' in 1.4. Set the value of `n_init` explicitly to suppress the warning\n",
      "  super()._check_params_vs_input(X, default_n_init=10)\n"
     ]
    },
    {
     "name": "stdout",
     "output_type": "stream",
     "text": [
      "| \u001b[0m89       \u001b[0m | \u001b[0m0.1377   \u001b[0m | \u001b[0m7.339    \u001b[0m | \u001b[0m1.244    \u001b[0m | \u001b[0m15.34    \u001b[0m | \u001b[0m2.586    \u001b[0m | \u001b[0m250.7    \u001b[0m |\n"
     ]
    },
    {
     "name": "stderr",
     "output_type": "stream",
     "text": [
      "/Users/federico.ravenda/anaconda3/envs/fastm/lib/python3.9/site-packages/sklearn/cluster/_kmeans.py:1416: FutureWarning: The default value of `n_init` will change from 10 to 'auto' in 1.4. Set the value of `n_init` explicitly to suppress the warning\n",
      "  super()._check_params_vs_input(X, default_n_init=10)\n",
      "/Users/federico.ravenda/anaconda3/envs/fastm/lib/python3.9/site-packages/sklearn/neural_network/_multilayer_perceptron.py:691: ConvergenceWarning: Stochastic Optimizer: Maximum iterations (200) reached and the optimization hasn't converged yet.\n",
      "  warnings.warn(\n"
     ]
    },
    {
     "name": "stdout",
     "output_type": "stream",
     "text": [
      "| \u001b[0m90       \u001b[0m | \u001b[0m0.0802   \u001b[0m | \u001b[0m4.18     \u001b[0m | \u001b[0m1.773    \u001b[0m | \u001b[0m15.69    \u001b[0m | \u001b[0m3.597    \u001b[0m | \u001b[0m288.4    \u001b[0m |\n"
     ]
    },
    {
     "name": "stderr",
     "output_type": "stream",
     "text": [
      "/Users/federico.ravenda/anaconda3/envs/fastm/lib/python3.9/site-packages/sklearn/cluster/_kmeans.py:1416: FutureWarning: The default value of `n_init` will change from 10 to 'auto' in 1.4. Set the value of `n_init` explicitly to suppress the warning\n",
      "  super()._check_params_vs_input(X, default_n_init=10)\n"
     ]
    },
    {
     "name": "stdout",
     "output_type": "stream",
     "text": [
      "| \u001b[0m91       \u001b[0m | \u001b[0m0.1222   \u001b[0m | \u001b[0m7.474    \u001b[0m | \u001b[0m1.0      \u001b[0m | \u001b[0m15.88    \u001b[0m | \u001b[0m2.0      \u001b[0m | \u001b[0m251.2    \u001b[0m |\n"
     ]
    },
    {
     "name": "stderr",
     "output_type": "stream",
     "text": [
      "/Users/federico.ravenda/anaconda3/envs/fastm/lib/python3.9/site-packages/sklearn/cluster/_kmeans.py:1416: FutureWarning: The default value of `n_init` will change from 10 to 'auto' in 1.4. Set the value of `n_init` explicitly to suppress the warning\n",
      "  super()._check_params_vs_input(X, default_n_init=10)\n"
     ]
    },
    {
     "name": "stdout",
     "output_type": "stream",
     "text": [
      "| \u001b[0m92       \u001b[0m | \u001b[0m0.1358   \u001b[0m | \u001b[0m5.918    \u001b[0m | \u001b[0m2.807    \u001b[0m | \u001b[0m12.79    \u001b[0m | \u001b[0m3.405    \u001b[0m | \u001b[0m183.3    \u001b[0m |\n"
     ]
    },
    {
     "name": "stderr",
     "output_type": "stream",
     "text": [
      "/Users/federico.ravenda/anaconda3/envs/fastm/lib/python3.9/site-packages/sklearn/cluster/_kmeans.py:1416: FutureWarning: The default value of `n_init` will change from 10 to 'auto' in 1.4. Set the value of `n_init` explicitly to suppress the warning\n",
      "  super()._check_params_vs_input(X, default_n_init=10)\n"
     ]
    },
    {
     "name": "stdout",
     "output_type": "stream",
     "text": [
      "| \u001b[0m93       \u001b[0m | \u001b[0m0.128    \u001b[0m | \u001b[0m3.0      \u001b[0m | \u001b[0m2.206    \u001b[0m | \u001b[0m11.63    \u001b[0m | \u001b[0m2.408    \u001b[0m | \u001b[0m330.1    \u001b[0m |\n"
     ]
    },
    {
     "name": "stderr",
     "output_type": "stream",
     "text": [
      "/Users/federico.ravenda/anaconda3/envs/fastm/lib/python3.9/site-packages/sklearn/cluster/_kmeans.py:1416: FutureWarning: The default value of `n_init` will change from 10 to 'auto' in 1.4. Set the value of `n_init` explicitly to suppress the warning\n",
      "  super()._check_params_vs_input(X, default_n_init=10)\n"
     ]
    },
    {
     "name": "stdout",
     "output_type": "stream",
     "text": [
      "| \u001b[0m94       \u001b[0m | \u001b[0m0.1439   \u001b[0m | \u001b[0m4.822    \u001b[0m | \u001b[0m2.166    \u001b[0m | \u001b[0m14.61    \u001b[0m | \u001b[0m3.94     \u001b[0m | \u001b[0m335.2    \u001b[0m |\n"
     ]
    },
    {
     "name": "stderr",
     "output_type": "stream",
     "text": [
      "/Users/federico.ravenda/anaconda3/envs/fastm/lib/python3.9/site-packages/sklearn/cluster/_kmeans.py:1416: FutureWarning: The default value of `n_init` will change from 10 to 'auto' in 1.4. Set the value of `n_init` explicitly to suppress the warning\n",
      "  super()._check_params_vs_input(X, default_n_init=10)\n"
     ]
    },
    {
     "name": "stdout",
     "output_type": "stream",
     "text": [
      "| \u001b[0m95       \u001b[0m | \u001b[0m0.1163   \u001b[0m | \u001b[0m5.419    \u001b[0m | \u001b[0m2.46     \u001b[0m | \u001b[0m15.08    \u001b[0m | \u001b[0m3.616    \u001b[0m | \u001b[0m335.6    \u001b[0m |\n"
     ]
    },
    {
     "name": "stderr",
     "output_type": "stream",
     "text": [
      "/Users/federico.ravenda/anaconda3/envs/fastm/lib/python3.9/site-packages/sklearn/cluster/_kmeans.py:1416: FutureWarning: The default value of `n_init` will change from 10 to 'auto' in 1.4. Set the value of `n_init` explicitly to suppress the warning\n",
      "  super()._check_params_vs_input(X, default_n_init=10)\n"
     ]
    },
    {
     "name": "stdout",
     "output_type": "stream",
     "text": [
      "| \u001b[0m96       \u001b[0m | \u001b[0m0.1196   \u001b[0m | \u001b[0m4.246    \u001b[0m | \u001b[0m1.882    \u001b[0m | \u001b[0m14.16    \u001b[0m | \u001b[0m4.0      \u001b[0m | \u001b[0m334.9    \u001b[0m |\n"
     ]
    },
    {
     "name": "stderr",
     "output_type": "stream",
     "text": [
      "/Users/federico.ravenda/anaconda3/envs/fastm/lib/python3.9/site-packages/sklearn/cluster/_kmeans.py:1416: FutureWarning: The default value of `n_init` will change from 10 to 'auto' in 1.4. Set the value of `n_init` explicitly to suppress the warning\n",
      "  super()._check_params_vs_input(X, default_n_init=10)\n"
     ]
    },
    {
     "name": "stdout",
     "output_type": "stream",
     "text": [
      "| \u001b[0m97       \u001b[0m | \u001b[0m0.1368   \u001b[0m | \u001b[0m5.589    \u001b[0m | \u001b[0m1.428    \u001b[0m | \u001b[0m14.41    \u001b[0m | \u001b[0m2.777    \u001b[0m | \u001b[0m293.0    \u001b[0m |\n"
     ]
    },
    {
     "name": "stderr",
     "output_type": "stream",
     "text": [
      "/Users/federico.ravenda/anaconda3/envs/fastm/lib/python3.9/site-packages/sklearn/cluster/_kmeans.py:1416: FutureWarning: The default value of `n_init` will change from 10 to 'auto' in 1.4. Set the value of `n_init` explicitly to suppress the warning\n",
      "  super()._check_params_vs_input(X, default_n_init=10)\n"
     ]
    },
    {
     "name": "stdout",
     "output_type": "stream",
     "text": [
      "| \u001b[0m98       \u001b[0m | \u001b[0m0.131    \u001b[0m | \u001b[0m5.232    \u001b[0m | \u001b[0m2.459    \u001b[0m | \u001b[0m16.89    \u001b[0m | \u001b[0m2.533    \u001b[0m | \u001b[0m287.7    \u001b[0m |\n"
     ]
    },
    {
     "name": "stderr",
     "output_type": "stream",
     "text": [
      "/Users/federico.ravenda/anaconda3/envs/fastm/lib/python3.9/site-packages/sklearn/cluster/_kmeans.py:1416: FutureWarning: The default value of `n_init` will change from 10 to 'auto' in 1.4. Set the value of `n_init` explicitly to suppress the warning\n",
      "  super()._check_params_vs_input(X, default_n_init=10)\n"
     ]
    },
    {
     "name": "stdout",
     "output_type": "stream",
     "text": [
      "| \u001b[0m99       \u001b[0m | \u001b[0m0.1444   \u001b[0m | \u001b[0m7.757    \u001b[0m | \u001b[0m1.0      \u001b[0m | \u001b[0m14.81    \u001b[0m | \u001b[0m2.744    \u001b[0m | \u001b[0m251.3    \u001b[0m |\n"
     ]
    },
    {
     "name": "stderr",
     "output_type": "stream",
     "text": [
      "/Users/federico.ravenda/anaconda3/envs/fastm/lib/python3.9/site-packages/sklearn/cluster/_kmeans.py:1416: FutureWarning: The default value of `n_init` will change from 10 to 'auto' in 1.4. Set the value of `n_init` explicitly to suppress the warning\n",
      "  super()._check_params_vs_input(X, default_n_init=10)\n"
     ]
    },
    {
     "name": "stdout",
     "output_type": "stream",
     "text": [
      "| \u001b[0m100      \u001b[0m | \u001b[0m0.1362   \u001b[0m | \u001b[0m3.769    \u001b[0m | \u001b[0m1.923    \u001b[0m | \u001b[0m12.33    \u001b[0m | \u001b[0m2.46     \u001b[0m | \u001b[0m331.3    \u001b[0m |\n"
     ]
    },
    {
     "name": "stderr",
     "output_type": "stream",
     "text": [
      "/Users/federico.ravenda/anaconda3/envs/fastm/lib/python3.9/site-packages/sklearn/cluster/_kmeans.py:1416: FutureWarning: The default value of `n_init` will change from 10 to 'auto' in 1.4. Set the value of `n_init` explicitly to suppress the warning\n",
      "  super()._check_params_vs_input(X, default_n_init=10)\n"
     ]
    },
    {
     "name": "stdout",
     "output_type": "stream",
     "text": [
      "| \u001b[0m101      \u001b[0m | \u001b[0m0.1314   \u001b[0m | \u001b[0m6.973    \u001b[0m | \u001b[0m1.322    \u001b[0m | \u001b[0m14.62    \u001b[0m | \u001b[0m2.0      \u001b[0m | \u001b[0m251.8    \u001b[0m |\n"
     ]
    },
    {
     "name": "stderr",
     "output_type": "stream",
     "text": [
      "/Users/federico.ravenda/anaconda3/envs/fastm/lib/python3.9/site-packages/sklearn/cluster/_kmeans.py:1416: FutureWarning: The default value of `n_init` will change from 10 to 'auto' in 1.4. Set the value of `n_init` explicitly to suppress the warning\n",
      "  super()._check_params_vs_input(X, default_n_init=10)\n"
     ]
    },
    {
     "name": "stdout",
     "output_type": "stream",
     "text": [
      "| \u001b[0m102      \u001b[0m | \u001b[0m0.1051   \u001b[0m | \u001b[0m3.559    \u001b[0m | \u001b[0m2.615    \u001b[0m | \u001b[0m11.11    \u001b[0m | \u001b[0m2.647    \u001b[0m | \u001b[0m331.6    \u001b[0m |\n"
     ]
    },
    {
     "name": "stderr",
     "output_type": "stream",
     "text": [
      "/Users/federico.ravenda/anaconda3/envs/fastm/lib/python3.9/site-packages/sklearn/cluster/_kmeans.py:1416: FutureWarning: The default value of `n_init` will change from 10 to 'auto' in 1.4. Set the value of `n_init` explicitly to suppress the warning\n",
      "  super()._check_params_vs_input(X, default_n_init=10)\n"
     ]
    },
    {
     "name": "stdout",
     "output_type": "stream",
     "text": [
      "| \u001b[0m103      \u001b[0m | \u001b[0m0.1142   \u001b[0m | \u001b[0m8.701    \u001b[0m | \u001b[0m2.153    \u001b[0m | \u001b[0m11.84    \u001b[0m | \u001b[0m2.309    \u001b[0m | \u001b[0m264.8    \u001b[0m |\n"
     ]
    },
    {
     "name": "stderr",
     "output_type": "stream",
     "text": [
      "/Users/federico.ravenda/anaconda3/envs/fastm/lib/python3.9/site-packages/sklearn/cluster/_kmeans.py:1416: FutureWarning: The default value of `n_init` will change from 10 to 'auto' in 1.4. Set the value of `n_init` explicitly to suppress the warning\n",
      "  super()._check_params_vs_input(X, default_n_init=10)\n"
     ]
    },
    {
     "name": "stdout",
     "output_type": "stream",
     "text": [
      "| \u001b[0m104      \u001b[0m | \u001b[0m0.1244   \u001b[0m | \u001b[0m8.978    \u001b[0m | \u001b[0m2.66     \u001b[0m | \u001b[0m14.11    \u001b[0m | \u001b[0m2.364    \u001b[0m | \u001b[0m274.2    \u001b[0m |\n"
     ]
    },
    {
     "name": "stderr",
     "output_type": "stream",
     "text": [
      "/Users/federico.ravenda/anaconda3/envs/fastm/lib/python3.9/site-packages/sklearn/cluster/_kmeans.py:1416: FutureWarning: The default value of `n_init` will change from 10 to 'auto' in 1.4. Set the value of `n_init` explicitly to suppress the warning\n",
      "  super()._check_params_vs_input(X, default_n_init=10)\n"
     ]
    },
    {
     "name": "stdout",
     "output_type": "stream",
     "text": [
      "| \u001b[0m105      \u001b[0m | \u001b[0m0.1329   \u001b[0m | \u001b[0m4.707    \u001b[0m | \u001b[0m2.416    \u001b[0m | \u001b[0m17.08    \u001b[0m | \u001b[0m2.226    \u001b[0m | \u001b[0m288.4    \u001b[0m |\n"
     ]
    },
    {
     "name": "stderr",
     "output_type": "stream",
     "text": [
      "/Users/federico.ravenda/anaconda3/envs/fastm/lib/python3.9/site-packages/sklearn/cluster/_kmeans.py:1416: FutureWarning: The default value of `n_init` will change from 10 to 'auto' in 1.4. Set the value of `n_init` explicitly to suppress the warning\n",
      "  super()._check_params_vs_input(X, default_n_init=10)\n"
     ]
    },
    {
     "name": "stdout",
     "output_type": "stream",
     "text": [
      "| \u001b[0m106      \u001b[0m | \u001b[0m0.1347   \u001b[0m | \u001b[0m4.972    \u001b[0m | \u001b[0m2.056    \u001b[0m | \u001b[0m16.7     \u001b[0m | \u001b[0m3.197    \u001b[0m | \u001b[0m287.3    \u001b[0m |\n"
     ]
    },
    {
     "name": "stderr",
     "output_type": "stream",
     "text": [
      "/Users/federico.ravenda/anaconda3/envs/fastm/lib/python3.9/site-packages/sklearn/cluster/_kmeans.py:1416: FutureWarning: The default value of `n_init` will change from 10 to 'auto' in 1.4. Set the value of `n_init` explicitly to suppress the warning\n",
      "  super()._check_params_vs_input(X, default_n_init=10)\n"
     ]
    },
    {
     "name": "stdout",
     "output_type": "stream",
     "text": [
      "| \u001b[0m107      \u001b[0m | \u001b[0m0.1507   \u001b[0m | \u001b[0m5.339    \u001b[0m | \u001b[0m1.0      \u001b[0m | \u001b[0m15.01    \u001b[0m | \u001b[0m2.488    \u001b[0m | \u001b[0m293.3    \u001b[0m |\n"
     ]
    },
    {
     "name": "stderr",
     "output_type": "stream",
     "text": [
      "/Users/federico.ravenda/anaconda3/envs/fastm/lib/python3.9/site-packages/sklearn/cluster/_kmeans.py:1416: FutureWarning: The default value of `n_init` will change from 10 to 'auto' in 1.4. Set the value of `n_init` explicitly to suppress the warning\n",
      "  super()._check_params_vs_input(X, default_n_init=10)\n"
     ]
    },
    {
     "name": "stdout",
     "output_type": "stream",
     "text": [
      "| \u001b[0m108      \u001b[0m | \u001b[0m0.1368   \u001b[0m | \u001b[0m3.166    \u001b[0m | \u001b[0m1.591    \u001b[0m | \u001b[0m12.45    \u001b[0m | \u001b[0m2.424    \u001b[0m | \u001b[0m330.9    \u001b[0m |\n"
     ]
    },
    {
     "name": "stderr",
     "output_type": "stream",
     "text": [
      "/Users/federico.ravenda/anaconda3/envs/fastm/lib/python3.9/site-packages/sklearn/cluster/_kmeans.py:1416: FutureWarning: The default value of `n_init` will change from 10 to 'auto' in 1.4. Set the value of `n_init` explicitly to suppress the warning\n",
      "  super()._check_params_vs_input(X, default_n_init=10)\n"
     ]
    },
    {
     "name": "stdout",
     "output_type": "stream",
     "text": [
      "| \u001b[0m109      \u001b[0m | \u001b[0m0.1215   \u001b[0m | \u001b[0m8.789    \u001b[0m | \u001b[0m2.384    \u001b[0m | \u001b[0m17.83    \u001b[0m | \u001b[0m3.768    \u001b[0m | \u001b[0m218.2    \u001b[0m |\n"
     ]
    },
    {
     "name": "stderr",
     "output_type": "stream",
     "text": [
      "/Users/federico.ravenda/anaconda3/envs/fastm/lib/python3.9/site-packages/sklearn/cluster/_kmeans.py:1416: FutureWarning: The default value of `n_init` will change from 10 to 'auto' in 1.4. Set the value of `n_init` explicitly to suppress the warning\n",
      "  super()._check_params_vs_input(X, default_n_init=10)\n"
     ]
    },
    {
     "name": "stdout",
     "output_type": "stream",
     "text": [
      "| \u001b[0m110      \u001b[0m | \u001b[0m0.1144   \u001b[0m | \u001b[0m4.039    \u001b[0m | \u001b[0m2.847    \u001b[0m | \u001b[0m15.13    \u001b[0m | \u001b[0m3.964    \u001b[0m | \u001b[0m315.3    \u001b[0m |\n"
     ]
    },
    {
     "name": "stderr",
     "output_type": "stream",
     "text": [
      "/Users/federico.ravenda/anaconda3/envs/fastm/lib/python3.9/site-packages/sklearn/cluster/_kmeans.py:1416: FutureWarning: The default value of `n_init` will change from 10 to 'auto' in 1.4. Set the value of `n_init` explicitly to suppress the warning\n",
      "  super()._check_params_vs_input(X, default_n_init=10)\n"
     ]
    },
    {
     "name": "stdout",
     "output_type": "stream",
     "text": [
      "| \u001b[0m111      \u001b[0m | \u001b[0m0.07422  \u001b[0m | \u001b[0m5.283    \u001b[0m | \u001b[0m1.285    \u001b[0m | \u001b[0m13.92    \u001b[0m | \u001b[0m2.417    \u001b[0m | \u001b[0m293.8    \u001b[0m |\n"
     ]
    },
    {
     "name": "stderr",
     "output_type": "stream",
     "text": [
      "/Users/federico.ravenda/anaconda3/envs/fastm/lib/python3.9/site-packages/sklearn/cluster/_kmeans.py:1416: FutureWarning: The default value of `n_init` will change from 10 to 'auto' in 1.4. Set the value of `n_init` explicitly to suppress the warning\n",
      "  super()._check_params_vs_input(X, default_n_init=10)\n"
     ]
    },
    {
     "name": "stdout",
     "output_type": "stream",
     "text": [
      "| \u001b[0m112      \u001b[0m | \u001b[0m0.1358   \u001b[0m | \u001b[0m6.14     \u001b[0m | \u001b[0m2.197    \u001b[0m | \u001b[0m13.66    \u001b[0m | \u001b[0m3.066    \u001b[0m | \u001b[0m251.6    \u001b[0m |\n"
     ]
    },
    {
     "name": "stderr",
     "output_type": "stream",
     "text": [
      "/Users/federico.ravenda/anaconda3/envs/fastm/lib/python3.9/site-packages/sklearn/cluster/_kmeans.py:1416: FutureWarning: The default value of `n_init` will change from 10 to 'auto' in 1.4. Set the value of `n_init` explicitly to suppress the warning\n",
      "  super()._check_params_vs_input(X, default_n_init=10)\n"
     ]
    },
    {
     "name": "stdout",
     "output_type": "stream",
     "text": [
      "| \u001b[0m113      \u001b[0m | \u001b[0m0.1374   \u001b[0m | \u001b[0m5.565    \u001b[0m | \u001b[0m1.272    \u001b[0m | \u001b[0m14.4     \u001b[0m | \u001b[0m2.547    \u001b[0m | \u001b[0m293.4    \u001b[0m |\n"
     ]
    },
    {
     "name": "stderr",
     "output_type": "stream",
     "text": [
      "/Users/federico.ravenda/anaconda3/envs/fastm/lib/python3.9/site-packages/sklearn/cluster/_kmeans.py:1416: FutureWarning: The default value of `n_init` will change from 10 to 'auto' in 1.4. Set the value of `n_init` explicitly to suppress the warning\n",
      "  super()._check_params_vs_input(X, default_n_init=10)\n"
     ]
    },
    {
     "name": "stdout",
     "output_type": "stream",
     "text": [
      "| \u001b[0m114      \u001b[0m | \u001b[0m0.155    \u001b[0m | \u001b[0m7.956    \u001b[0m | \u001b[0m1.228    \u001b[0m | \u001b[0m14.68    \u001b[0m | \u001b[0m2.078    \u001b[0m | \u001b[0m250.8    \u001b[0m |\n"
     ]
    },
    {
     "name": "stderr",
     "output_type": "stream",
     "text": [
      "/Users/federico.ravenda/anaconda3/envs/fastm/lib/python3.9/site-packages/sklearn/cluster/_kmeans.py:1416: FutureWarning: The default value of `n_init` will change from 10 to 'auto' in 1.4. Set the value of `n_init` explicitly to suppress the warning\n",
      "  super()._check_params_vs_input(X, default_n_init=10)\n"
     ]
    },
    {
     "name": "stdout",
     "output_type": "stream",
     "text": [
      "| \u001b[0m115      \u001b[0m | \u001b[0m0.1283   \u001b[0m | \u001b[0m8.172    \u001b[0m | \u001b[0m1.3      \u001b[0m | \u001b[0m13.75    \u001b[0m | \u001b[0m2.013    \u001b[0m | \u001b[0m251.2    \u001b[0m |\n"
     ]
    },
    {
     "name": "stderr",
     "output_type": "stream",
     "text": [
      "/Users/federico.ravenda/anaconda3/envs/fastm/lib/python3.9/site-packages/sklearn/cluster/_kmeans.py:1416: FutureWarning: The default value of `n_init` will change from 10 to 'auto' in 1.4. Set the value of `n_init` explicitly to suppress the warning\n",
      "  super()._check_params_vs_input(X, default_n_init=10)\n"
     ]
    },
    {
     "name": "stdout",
     "output_type": "stream",
     "text": [
      "| \u001b[0m116      \u001b[0m | \u001b[0m0.1293   \u001b[0m | \u001b[0m3.142    \u001b[0m | \u001b[0m2.056    \u001b[0m | \u001b[0m11.9     \u001b[0m | \u001b[0m3.218    \u001b[0m | \u001b[0m331.1    \u001b[0m |\n"
     ]
    },
    {
     "name": "stderr",
     "output_type": "stream",
     "text": [
      "/Users/federico.ravenda/anaconda3/envs/fastm/lib/python3.9/site-packages/sklearn/cluster/_kmeans.py:1416: FutureWarning: The default value of `n_init` will change from 10 to 'auto' in 1.4. Set the value of `n_init` explicitly to suppress the warning\n",
      "  super()._check_params_vs_input(X, default_n_init=10)\n"
     ]
    },
    {
     "name": "stdout",
     "output_type": "stream",
     "text": [
      "| \u001b[0m117      \u001b[0m | \u001b[0m0.075    \u001b[0m | \u001b[0m9.388    \u001b[0m | \u001b[0m2.967    \u001b[0m | \u001b[0m15.11    \u001b[0m | \u001b[0m2.704    \u001b[0m | \u001b[0m215.1    \u001b[0m |\n"
     ]
    },
    {
     "name": "stderr",
     "output_type": "stream",
     "text": [
      "/Users/federico.ravenda/anaconda3/envs/fastm/lib/python3.9/site-packages/sklearn/cluster/_kmeans.py:1416: FutureWarning: The default value of `n_init` will change from 10 to 'auto' in 1.4. Set the value of `n_init` explicitly to suppress the warning\n",
      "  super()._check_params_vs_input(X, default_n_init=10)\n"
     ]
    },
    {
     "name": "stdout",
     "output_type": "stream",
     "text": [
      "| \u001b[0m118      \u001b[0m | \u001b[0m0.09986  \u001b[0m | \u001b[0m6.979    \u001b[0m | \u001b[0m2.636    \u001b[0m | \u001b[0m16.67    \u001b[0m | \u001b[0m2.519    \u001b[0m | \u001b[0m217.2    \u001b[0m |\n"
     ]
    },
    {
     "name": "stderr",
     "output_type": "stream",
     "text": [
      "/Users/federico.ravenda/anaconda3/envs/fastm/lib/python3.9/site-packages/sklearn/cluster/_kmeans.py:1416: FutureWarning: The default value of `n_init` will change from 10 to 'auto' in 1.4. Set the value of `n_init` explicitly to suppress the warning\n",
      "  super()._check_params_vs_input(X, default_n_init=10)\n"
     ]
    },
    {
     "name": "stdout",
     "output_type": "stream",
     "text": [
      "| \u001b[0m119      \u001b[0m | \u001b[0m0.1354   \u001b[0m | \u001b[0m6.298    \u001b[0m | \u001b[0m1.247    \u001b[0m | \u001b[0m14.56    \u001b[0m | \u001b[0m2.49     \u001b[0m | \u001b[0m292.2    \u001b[0m |\n"
     ]
    },
    {
     "name": "stderr",
     "output_type": "stream",
     "text": [
      "/Users/federico.ravenda/anaconda3/envs/fastm/lib/python3.9/site-packages/sklearn/cluster/_kmeans.py:1416: FutureWarning: The default value of `n_init` will change from 10 to 'auto' in 1.4. Set the value of `n_init` explicitly to suppress the warning\n",
      "  super()._check_params_vs_input(X, default_n_init=10)\n"
     ]
    },
    {
     "name": "stdout",
     "output_type": "stream",
     "text": [
      "| \u001b[0m120      \u001b[0m | \u001b[0m0.1504   \u001b[0m | \u001b[0m4.038    \u001b[0m | \u001b[0m1.392    \u001b[0m | \u001b[0m12.06    \u001b[0m | \u001b[0m2.844    \u001b[0m | \u001b[0m330.6    \u001b[0m |\n"
     ]
    },
    {
     "name": "stderr",
     "output_type": "stream",
     "text": [
      "/Users/federico.ravenda/anaconda3/envs/fastm/lib/python3.9/site-packages/sklearn/cluster/_kmeans.py:1416: FutureWarning: The default value of `n_init` will change from 10 to 'auto' in 1.4. Set the value of `n_init` explicitly to suppress the warning\n",
      "  super()._check_params_vs_input(X, default_n_init=10)\n"
     ]
    },
    {
     "name": "stdout",
     "output_type": "stream",
     "text": [
      "| \u001b[0m121      \u001b[0m | \u001b[0m0.1487   \u001b[0m | \u001b[0m6.704    \u001b[0m | \u001b[0m1.298    \u001b[0m | \u001b[0m14.91    \u001b[0m | \u001b[0m2.0      \u001b[0m | \u001b[0m250.5    \u001b[0m |\n"
     ]
    },
    {
     "name": "stderr",
     "output_type": "stream",
     "text": [
      "/Users/federico.ravenda/anaconda3/envs/fastm/lib/python3.9/site-packages/sklearn/cluster/_kmeans.py:1416: FutureWarning: The default value of `n_init` will change from 10 to 'auto' in 1.4. Set the value of `n_init` explicitly to suppress the warning\n",
      "  super()._check_params_vs_input(X, default_n_init=10)\n"
     ]
    },
    {
     "name": "stdout",
     "output_type": "stream",
     "text": [
      "| \u001b[0m122      \u001b[0m | \u001b[0m0.1383   \u001b[0m | \u001b[0m6.089    \u001b[0m | \u001b[0m2.253    \u001b[0m | \u001b[0m13.72    \u001b[0m | \u001b[0m3.057    \u001b[0m | \u001b[0m252.0    \u001b[0m |\n"
     ]
    },
    {
     "name": "stderr",
     "output_type": "stream",
     "text": [
      "/Users/federico.ravenda/anaconda3/envs/fastm/lib/python3.9/site-packages/sklearn/cluster/_kmeans.py:1416: FutureWarning: The default value of `n_init` will change from 10 to 'auto' in 1.4. Set the value of `n_init` explicitly to suppress the warning\n",
      "  super()._check_params_vs_input(X, default_n_init=10)\n"
     ]
    },
    {
     "name": "stdout",
     "output_type": "stream",
     "text": [
      "| \u001b[0m123      \u001b[0m | \u001b[0m0.105    \u001b[0m | \u001b[0m6.023    \u001b[0m | \u001b[0m2.824    \u001b[0m | \u001b[0m15.01    \u001b[0m | \u001b[0m3.984    \u001b[0m | \u001b[0m271.0    \u001b[0m |\n"
     ]
    },
    {
     "name": "stderr",
     "output_type": "stream",
     "text": [
      "/Users/federico.ravenda/anaconda3/envs/fastm/lib/python3.9/site-packages/sklearn/cluster/_kmeans.py:1416: FutureWarning: The default value of `n_init` will change from 10 to 'auto' in 1.4. Set the value of `n_init` explicitly to suppress the warning\n",
      "  super()._check_params_vs_input(X, default_n_init=10)\n"
     ]
    },
    {
     "name": "stdout",
     "output_type": "stream",
     "text": [
      "| \u001b[0m124      \u001b[0m | \u001b[0m0.1436   \u001b[0m | \u001b[0m3.8      \u001b[0m | \u001b[0m1.479    \u001b[0m | \u001b[0m11.71    \u001b[0m | \u001b[0m2.201    \u001b[0m | \u001b[0m330.6    \u001b[0m |\n"
     ]
    },
    {
     "name": "stderr",
     "output_type": "stream",
     "text": [
      "/Users/federico.ravenda/anaconda3/envs/fastm/lib/python3.9/site-packages/sklearn/cluster/_kmeans.py:1416: FutureWarning: The default value of `n_init` will change from 10 to 'auto' in 1.4. Set the value of `n_init` explicitly to suppress the warning\n",
      "  super()._check_params_vs_input(X, default_n_init=10)\n"
     ]
    },
    {
     "name": "stdout",
     "output_type": "stream",
     "text": [
      "| \u001b[0m125      \u001b[0m | \u001b[0m0.1407   \u001b[0m | \u001b[0m4.249    \u001b[0m | \u001b[0m1.043    \u001b[0m | \u001b[0m12.44    \u001b[0m | \u001b[0m2.939    \u001b[0m | \u001b[0m330.9    \u001b[0m |\n"
     ]
    },
    {
     "name": "stderr",
     "output_type": "stream",
     "text": [
      "/Users/federico.ravenda/anaconda3/envs/fastm/lib/python3.9/site-packages/sklearn/cluster/_kmeans.py:1416: FutureWarning: The default value of `n_init` will change from 10 to 'auto' in 1.4. Set the value of `n_init` explicitly to suppress the warning\n",
      "  super()._check_params_vs_input(X, default_n_init=10)\n"
     ]
    },
    {
     "name": "stdout",
     "output_type": "stream",
     "text": [
      "| \u001b[0m126      \u001b[0m | \u001b[0m0.1012   \u001b[0m | \u001b[0m6.621    \u001b[0m | \u001b[0m2.492    \u001b[0m | \u001b[0m14.53    \u001b[0m | \u001b[0m2.577    \u001b[0m | \u001b[0m252.5    \u001b[0m |\n"
     ]
    },
    {
     "name": "stderr",
     "output_type": "stream",
     "text": [
      "/Users/federico.ravenda/anaconda3/envs/fastm/lib/python3.9/site-packages/sklearn/cluster/_kmeans.py:1416: FutureWarning: The default value of `n_init` will change from 10 to 'auto' in 1.4. Set the value of `n_init` explicitly to suppress the warning\n",
      "  super()._check_params_vs_input(X, default_n_init=10)\n"
     ]
    },
    {
     "name": "stdout",
     "output_type": "stream",
     "text": [
      "| \u001b[0m127      \u001b[0m | \u001b[0m0.08141  \u001b[0m | \u001b[0m5.393    \u001b[0m | \u001b[0m2.528    \u001b[0m | \u001b[0m9.835    \u001b[0m | \u001b[0m3.701    \u001b[0m | \u001b[0m199.9    \u001b[0m |\n"
     ]
    },
    {
     "name": "stderr",
     "output_type": "stream",
     "text": [
      "/Users/federico.ravenda/anaconda3/envs/fastm/lib/python3.9/site-packages/sklearn/cluster/_kmeans.py:1416: FutureWarning: The default value of `n_init` will change from 10 to 'auto' in 1.4. Set the value of `n_init` explicitly to suppress the warning\n",
      "  super()._check_params_vs_input(X, default_n_init=10)\n"
     ]
    },
    {
     "name": "stdout",
     "output_type": "stream",
     "text": [
      "| \u001b[0m128      \u001b[0m | \u001b[0m0.06125  \u001b[0m | \u001b[0m6.2      \u001b[0m | \u001b[0m1.05     \u001b[0m | \u001b[0m16.35    \u001b[0m | \u001b[0m2.692    \u001b[0m | \u001b[0m201.7    \u001b[0m |\n"
     ]
    },
    {
     "name": "stderr",
     "output_type": "stream",
     "text": [
      "/Users/federico.ravenda/anaconda3/envs/fastm/lib/python3.9/site-packages/sklearn/cluster/_kmeans.py:1416: FutureWarning: The default value of `n_init` will change from 10 to 'auto' in 1.4. Set the value of `n_init` explicitly to suppress the warning\n",
      "  super()._check_params_vs_input(X, default_n_init=10)\n"
     ]
    },
    {
     "name": "stdout",
     "output_type": "stream",
     "text": [
      "| \u001b[0m129      \u001b[0m | \u001b[0m0.1288   \u001b[0m | \u001b[0m4.531    \u001b[0m | \u001b[0m1.773    \u001b[0m | \u001b[0m16.27    \u001b[0m | \u001b[0m2.293    \u001b[0m | \u001b[0m218.5    \u001b[0m |\n"
     ]
    },
    {
     "name": "stderr",
     "output_type": "stream",
     "text": [
      "/Users/federico.ravenda/anaconda3/envs/fastm/lib/python3.9/site-packages/sklearn/cluster/_kmeans.py:1416: FutureWarning: The default value of `n_init` will change from 10 to 'auto' in 1.4. Set the value of `n_init` explicitly to suppress the warning\n",
      "  super()._check_params_vs_input(X, default_n_init=10)\n"
     ]
    },
    {
     "name": "stdout",
     "output_type": "stream",
     "text": [
      "| \u001b[0m130      \u001b[0m | \u001b[0m0.1121   \u001b[0m | \u001b[0m4.081    \u001b[0m | \u001b[0m1.809    \u001b[0m | \u001b[0m12.44    \u001b[0m | \u001b[0m2.39     \u001b[0m | \u001b[0m330.3    \u001b[0m |\n"
     ]
    },
    {
     "name": "stderr",
     "output_type": "stream",
     "text": [
      "/Users/federico.ravenda/anaconda3/envs/fastm/lib/python3.9/site-packages/sklearn/cluster/_kmeans.py:1416: FutureWarning: The default value of `n_init` will change from 10 to 'auto' in 1.4. Set the value of `n_init` explicitly to suppress the warning\n",
      "  super()._check_params_vs_input(X, default_n_init=10)\n"
     ]
    },
    {
     "name": "stdout",
     "output_type": "stream",
     "text": [
      "| \u001b[0m131      \u001b[0m | \u001b[0m0.1301   \u001b[0m | \u001b[0m3.528    \u001b[0m | \u001b[0m2.112    \u001b[0m | \u001b[0m12.08    \u001b[0m | \u001b[0m3.08     \u001b[0m | \u001b[0m331.1    \u001b[0m |\n"
     ]
    },
    {
     "name": "stderr",
     "output_type": "stream",
     "text": [
      "/Users/federico.ravenda/anaconda3/envs/fastm/lib/python3.9/site-packages/sklearn/cluster/_kmeans.py:1416: FutureWarning: The default value of `n_init` will change from 10 to 'auto' in 1.4. Set the value of `n_init` explicitly to suppress the warning\n",
      "  super()._check_params_vs_input(X, default_n_init=10)\n"
     ]
    },
    {
     "name": "stdout",
     "output_type": "stream",
     "text": [
      "| \u001b[0m132      \u001b[0m | \u001b[0m0.109    \u001b[0m | \u001b[0m6.22     \u001b[0m | \u001b[0m1.962    \u001b[0m | \u001b[0m14.05    \u001b[0m | \u001b[0m3.596    \u001b[0m | \u001b[0m296.4    \u001b[0m |\n"
     ]
    },
    {
     "name": "stderr",
     "output_type": "stream",
     "text": [
      "/Users/federico.ravenda/anaconda3/envs/fastm/lib/python3.9/site-packages/sklearn/cluster/_kmeans.py:1416: FutureWarning: The default value of `n_init` will change from 10 to 'auto' in 1.4. Set the value of `n_init` explicitly to suppress the warning\n",
      "  super()._check_params_vs_input(X, default_n_init=10)\n"
     ]
    },
    {
     "name": "stdout",
     "output_type": "stream",
     "text": [
      "| \u001b[0m133      \u001b[0m | \u001b[0m0.09131  \u001b[0m | \u001b[0m8.335    \u001b[0m | \u001b[0m2.546    \u001b[0m | \u001b[0m16.72    \u001b[0m | \u001b[0m3.555    \u001b[0m | \u001b[0m240.9    \u001b[0m |\n"
     ]
    },
    {
     "name": "stderr",
     "output_type": "stream",
     "text": [
      "/Users/federico.ravenda/anaconda3/envs/fastm/lib/python3.9/site-packages/sklearn/cluster/_kmeans.py:1416: FutureWarning: The default value of `n_init` will change from 10 to 'auto' in 1.4. Set the value of `n_init` explicitly to suppress the warning\n",
      "  super()._check_params_vs_input(X, default_n_init=10)\n"
     ]
    },
    {
     "name": "stdout",
     "output_type": "stream",
     "text": [
      "| \u001b[0m134      \u001b[0m | \u001b[0m0.09853  \u001b[0m | \u001b[0m4.831    \u001b[0m | \u001b[0m2.768    \u001b[0m | \u001b[0m17.8     \u001b[0m | \u001b[0m3.716    \u001b[0m | \u001b[0m194.3    \u001b[0m |\n"
     ]
    },
    {
     "name": "stderr",
     "output_type": "stream",
     "text": [
      "/Users/federico.ravenda/anaconda3/envs/fastm/lib/python3.9/site-packages/sklearn/cluster/_kmeans.py:1416: FutureWarning: The default value of `n_init` will change from 10 to 'auto' in 1.4. Set the value of `n_init` explicitly to suppress the warning\n",
      "  super()._check_params_vs_input(X, default_n_init=10)\n"
     ]
    },
    {
     "name": "stdout",
     "output_type": "stream",
     "text": [
      "| \u001b[0m135      \u001b[0m | \u001b[0m0.1557   \u001b[0m | \u001b[0m8.885    \u001b[0m | \u001b[0m1.724    \u001b[0m | \u001b[0m8.654    \u001b[0m | \u001b[0m2.804    \u001b[0m | \u001b[0m293.1    \u001b[0m |\n"
     ]
    },
    {
     "name": "stderr",
     "output_type": "stream",
     "text": [
      "/Users/federico.ravenda/anaconda3/envs/fastm/lib/python3.9/site-packages/sklearn/cluster/_kmeans.py:1416: FutureWarning: The default value of `n_init` will change from 10 to 'auto' in 1.4. Set the value of `n_init` explicitly to suppress the warning\n",
      "  super()._check_params_vs_input(X, default_n_init=10)\n"
     ]
    },
    {
     "name": "stdout",
     "output_type": "stream",
     "text": [
      "| \u001b[0m136      \u001b[0m | \u001b[0m0.1175   \u001b[0m | \u001b[0m9.395    \u001b[0m | \u001b[0m1.537    \u001b[0m | \u001b[0m9.538    \u001b[0m | \u001b[0m2.602    \u001b[0m | \u001b[0m292.5    \u001b[0m |\n"
     ]
    },
    {
     "name": "stderr",
     "output_type": "stream",
     "text": [
      "/Users/federico.ravenda/anaconda3/envs/fastm/lib/python3.9/site-packages/sklearn/cluster/_kmeans.py:1416: FutureWarning: The default value of `n_init` will change from 10 to 'auto' in 1.4. Set the value of `n_init` explicitly to suppress the warning\n",
      "  super()._check_params_vs_input(X, default_n_init=10)\n"
     ]
    },
    {
     "name": "stdout",
     "output_type": "stream",
     "text": [
      "| \u001b[0m137      \u001b[0m | \u001b[0m0.07597  \u001b[0m | \u001b[0m6.621    \u001b[0m | \u001b[0m2.105    \u001b[0m | \u001b[0m8.062    \u001b[0m | \u001b[0m2.598    \u001b[0m | \u001b[0m196.9    \u001b[0m |\n"
     ]
    },
    {
     "name": "stderr",
     "output_type": "stream",
     "text": [
      "/Users/federico.ravenda/anaconda3/envs/fastm/lib/python3.9/site-packages/sklearn/cluster/_kmeans.py:1416: FutureWarning: The default value of `n_init` will change from 10 to 'auto' in 1.4. Set the value of `n_init` explicitly to suppress the warning\n",
      "  super()._check_params_vs_input(X, default_n_init=10)\n"
     ]
    },
    {
     "name": "stdout",
     "output_type": "stream",
     "text": [
      "| \u001b[0m138      \u001b[0m | \u001b[0m0.1486   \u001b[0m | \u001b[0m8.262    \u001b[0m | \u001b[0m1.92     \u001b[0m | \u001b[0m9.223    \u001b[0m | \u001b[0m2.212    \u001b[0m | \u001b[0m292.9    \u001b[0m |\n"
     ]
    },
    {
     "name": "stderr",
     "output_type": "stream",
     "text": [
      "/Users/federico.ravenda/anaconda3/envs/fastm/lib/python3.9/site-packages/sklearn/cluster/_kmeans.py:1416: FutureWarning: The default value of `n_init` will change from 10 to 'auto' in 1.4. Set the value of `n_init` explicitly to suppress the warning\n",
      "  super()._check_params_vs_input(X, default_n_init=10)\n"
     ]
    },
    {
     "name": "stdout",
     "output_type": "stream",
     "text": [
      "| \u001b[0m139      \u001b[0m | \u001b[0m0.1489   \u001b[0m | \u001b[0m7.408    \u001b[0m | \u001b[0m1.813    \u001b[0m | \u001b[0m14.67    \u001b[0m | \u001b[0m3.17     \u001b[0m | \u001b[0m251.0    \u001b[0m |\n"
     ]
    },
    {
     "name": "stderr",
     "output_type": "stream",
     "text": [
      "/Users/federico.ravenda/anaconda3/envs/fastm/lib/python3.9/site-packages/sklearn/cluster/_kmeans.py:1416: FutureWarning: The default value of `n_init` will change from 10 to 'auto' in 1.4. Set the value of `n_init` explicitly to suppress the warning\n",
      "  super()._check_params_vs_input(X, default_n_init=10)\n"
     ]
    },
    {
     "name": "stdout",
     "output_type": "stream",
     "text": [
      "| \u001b[0m140      \u001b[0m | \u001b[0m0.139    \u001b[0m | \u001b[0m5.98     \u001b[0m | \u001b[0m1.089    \u001b[0m | \u001b[0m14.8     \u001b[0m | \u001b[0m2.863    \u001b[0m | \u001b[0m293.3    \u001b[0m |\n"
     ]
    },
    {
     "name": "stderr",
     "output_type": "stream",
     "text": [
      "/Users/federico.ravenda/anaconda3/envs/fastm/lib/python3.9/site-packages/sklearn/cluster/_kmeans.py:1416: FutureWarning: The default value of `n_init` will change from 10 to 'auto' in 1.4. Set the value of `n_init` explicitly to suppress the warning\n",
      "  super()._check_params_vs_input(X, default_n_init=10)\n"
     ]
    },
    {
     "name": "stdout",
     "output_type": "stream",
     "text": [
      "| \u001b[0m141      \u001b[0m | \u001b[0m0.1552   \u001b[0m | \u001b[0m8.637    \u001b[0m | \u001b[0m1.339    \u001b[0m | \u001b[0m8.389    \u001b[0m | \u001b[0m2.144    \u001b[0m | \u001b[0m292.4    \u001b[0m |\n"
     ]
    },
    {
     "name": "stderr",
     "output_type": "stream",
     "text": [
      "/Users/federico.ravenda/anaconda3/envs/fastm/lib/python3.9/site-packages/sklearn/cluster/_kmeans.py:1416: FutureWarning: The default value of `n_init` will change from 10 to 'auto' in 1.4. Set the value of `n_init` explicitly to suppress the warning\n",
      "  super()._check_params_vs_input(X, default_n_init=10)\n"
     ]
    },
    {
     "name": "stdout",
     "output_type": "stream",
     "text": [
      "| \u001b[0m142      \u001b[0m | \u001b[0m0.1178   \u001b[0m | \u001b[0m8.17     \u001b[0m | \u001b[0m1.728    \u001b[0m | \u001b[0m8.045    \u001b[0m | \u001b[0m2.515    \u001b[0m | \u001b[0m293.2    \u001b[0m |\n"
     ]
    },
    {
     "name": "stderr",
     "output_type": "stream",
     "text": [
      "/Users/federico.ravenda/anaconda3/envs/fastm/lib/python3.9/site-packages/sklearn/cluster/_kmeans.py:1416: FutureWarning: The default value of `n_init` will change from 10 to 'auto' in 1.4. Set the value of `n_init` explicitly to suppress the warning\n",
      "  super()._check_params_vs_input(X, default_n_init=10)\n"
     ]
    },
    {
     "name": "stdout",
     "output_type": "stream",
     "text": [
      "| \u001b[0m143      \u001b[0m | \u001b[0m0.1105   \u001b[0m | \u001b[0m4.105    \u001b[0m | \u001b[0m2.267    \u001b[0m | \u001b[0m16.61    \u001b[0m | \u001b[0m2.004    \u001b[0m | \u001b[0m340.2    \u001b[0m |\n"
     ]
    },
    {
     "name": "stderr",
     "output_type": "stream",
     "text": [
      "/Users/federico.ravenda/anaconda3/envs/fastm/lib/python3.9/site-packages/sklearn/cluster/_kmeans.py:1416: FutureWarning: The default value of `n_init` will change from 10 to 'auto' in 1.4. Set the value of `n_init` explicitly to suppress the warning\n",
      "  super()._check_params_vs_input(X, default_n_init=10)\n"
     ]
    },
    {
     "name": "stdout",
     "output_type": "stream",
     "text": [
      "| \u001b[0m144      \u001b[0m | \u001b[0m0.05812  \u001b[0m | \u001b[0m8.344    \u001b[0m | \u001b[0m1.007    \u001b[0m | \u001b[0m12.11    \u001b[0m | \u001b[0m2.645    \u001b[0m | \u001b[0m185.8    \u001b[0m |\n"
     ]
    },
    {
     "name": "stderr",
     "output_type": "stream",
     "text": [
      "/Users/federico.ravenda/anaconda3/envs/fastm/lib/python3.9/site-packages/sklearn/cluster/_kmeans.py:1416: FutureWarning: The default value of `n_init` will change from 10 to 'auto' in 1.4. Set the value of `n_init` explicitly to suppress the warning\n",
      "  super()._check_params_vs_input(X, default_n_init=10)\n"
     ]
    },
    {
     "name": "stdout",
     "output_type": "stream",
     "text": [
      "| \u001b[0m145      \u001b[0m | \u001b[0m0.1538   \u001b[0m | \u001b[0m8.23     \u001b[0m | \u001b[0m1.633    \u001b[0m | \u001b[0m8.874    \u001b[0m | \u001b[0m2.612    \u001b[0m | \u001b[0m292.6    \u001b[0m |\n"
     ]
    },
    {
     "name": "stderr",
     "output_type": "stream",
     "text": [
      "/Users/federico.ravenda/anaconda3/envs/fastm/lib/python3.9/site-packages/sklearn/cluster/_kmeans.py:1416: FutureWarning: The default value of `n_init` will change from 10 to 'auto' in 1.4. Set the value of `n_init` explicitly to suppress the warning\n",
      "  super()._check_params_vs_input(X, default_n_init=10)\n"
     ]
    },
    {
     "name": "stdout",
     "output_type": "stream",
     "text": [
      "| \u001b[0m146      \u001b[0m | \u001b[0m0.1549   \u001b[0m | \u001b[0m8.842    \u001b[0m | \u001b[0m2.477    \u001b[0m | \u001b[0m8.827    \u001b[0m | \u001b[0m3.18     \u001b[0m | \u001b[0m293.3    \u001b[0m |\n"
     ]
    },
    {
     "name": "stderr",
     "output_type": "stream",
     "text": [
      "/Users/federico.ravenda/anaconda3/envs/fastm/lib/python3.9/site-packages/sklearn/cluster/_kmeans.py:1416: FutureWarning: The default value of `n_init` will change from 10 to 'auto' in 1.4. Set the value of `n_init` explicitly to suppress the warning\n",
      "  super()._check_params_vs_input(X, default_n_init=10)\n"
     ]
    },
    {
     "name": "stdout",
     "output_type": "stream",
     "text": [
      "| \u001b[0m147      \u001b[0m | \u001b[0m0.1417   \u001b[0m | \u001b[0m8.356    \u001b[0m | \u001b[0m1.613    \u001b[0m | \u001b[0m9.502    \u001b[0m | \u001b[0m2.279    \u001b[0m | \u001b[0m291.7    \u001b[0m |\n"
     ]
    },
    {
     "name": "stderr",
     "output_type": "stream",
     "text": [
      "/Users/federico.ravenda/anaconda3/envs/fastm/lib/python3.9/site-packages/sklearn/cluster/_kmeans.py:1416: FutureWarning: The default value of `n_init` will change from 10 to 'auto' in 1.4. Set the value of `n_init` explicitly to suppress the warning\n",
      "  super()._check_params_vs_input(X, default_n_init=10)\n"
     ]
    },
    {
     "name": "stdout",
     "output_type": "stream",
     "text": [
      "| \u001b[0m148      \u001b[0m | \u001b[0m0.1421   \u001b[0m | \u001b[0m9.016    \u001b[0m | \u001b[0m2.077    \u001b[0m | \u001b[0m8.778    \u001b[0m | \u001b[0m2.745    \u001b[0m | \u001b[0m292.3    \u001b[0m |\n"
     ]
    },
    {
     "name": "stderr",
     "output_type": "stream",
     "text": [
      "/Users/federico.ravenda/anaconda3/envs/fastm/lib/python3.9/site-packages/sklearn/cluster/_kmeans.py:1416: FutureWarning: The default value of `n_init` will change from 10 to 'auto' in 1.4. Set the value of `n_init` explicitly to suppress the warning\n",
      "  super()._check_params_vs_input(X, default_n_init=10)\n"
     ]
    },
    {
     "name": "stdout",
     "output_type": "stream",
     "text": [
      "| \u001b[0m149      \u001b[0m | \u001b[0m0.1468   \u001b[0m | \u001b[0m8.601    \u001b[0m | \u001b[0m1.82     \u001b[0m | \u001b[0m8.37     \u001b[0m | \u001b[0m2.2      \u001b[0m | \u001b[0m292.0    \u001b[0m |\n"
     ]
    },
    {
     "name": "stderr",
     "output_type": "stream",
     "text": [
      "/Users/federico.ravenda/anaconda3/envs/fastm/lib/python3.9/site-packages/sklearn/cluster/_kmeans.py:1416: FutureWarning: The default value of `n_init` will change from 10 to 'auto' in 1.4. Set the value of `n_init` explicitly to suppress the warning\n",
      "  super()._check_params_vs_input(X, default_n_init=10)\n"
     ]
    },
    {
     "name": "stdout",
     "output_type": "stream",
     "text": [
      "| \u001b[0m150      \u001b[0m | \u001b[0m0.1474   \u001b[0m | \u001b[0m8.512    \u001b[0m | \u001b[0m2.692    \u001b[0m | \u001b[0m8.932    \u001b[0m | \u001b[0m2.088    \u001b[0m | \u001b[0m292.3    \u001b[0m |\n"
     ]
    },
    {
     "name": "stderr",
     "output_type": "stream",
     "text": [
      "/Users/federico.ravenda/anaconda3/envs/fastm/lib/python3.9/site-packages/sklearn/cluster/_kmeans.py:1416: FutureWarning: The default value of `n_init` will change from 10 to 'auto' in 1.4. Set the value of `n_init` explicitly to suppress the warning\n",
      "  super()._check_params_vs_input(X, default_n_init=10)\n"
     ]
    },
    {
     "name": "stdout",
     "output_type": "stream",
     "text": [
      "| \u001b[0m151      \u001b[0m | \u001b[0m0.1325   \u001b[0m | \u001b[0m8.782    \u001b[0m | \u001b[0m1.471    \u001b[0m | \u001b[0m9.31     \u001b[0m | \u001b[0m3.273    \u001b[0m | \u001b[0m293.2    \u001b[0m |\n"
     ]
    },
    {
     "name": "stderr",
     "output_type": "stream",
     "text": [
      "/Users/federico.ravenda/anaconda3/envs/fastm/lib/python3.9/site-packages/sklearn/cluster/_kmeans.py:1416: FutureWarning: The default value of `n_init` will change from 10 to 'auto' in 1.4. Set the value of `n_init` explicitly to suppress the warning\n",
      "  super()._check_params_vs_input(X, default_n_init=10)\n"
     ]
    },
    {
     "name": "stdout",
     "output_type": "stream",
     "text": [
      "| \u001b[0m152      \u001b[0m | \u001b[0m0.1505   \u001b[0m | \u001b[0m7.98     \u001b[0m | \u001b[0m2.167    \u001b[0m | \u001b[0m8.891    \u001b[0m | \u001b[0m3.32     \u001b[0m | \u001b[0m291.9    \u001b[0m |\n"
     ]
    },
    {
     "name": "stderr",
     "output_type": "stream",
     "text": [
      "/Users/federico.ravenda/anaconda3/envs/fastm/lib/python3.9/site-packages/sklearn/cluster/_kmeans.py:1416: FutureWarning: The default value of `n_init` will change from 10 to 'auto' in 1.4. Set the value of `n_init` explicitly to suppress the warning\n",
      "  super()._check_params_vs_input(X, default_n_init=10)\n"
     ]
    },
    {
     "name": "stdout",
     "output_type": "stream",
     "text": [
      "| \u001b[0m153      \u001b[0m | \u001b[0m0.1431   \u001b[0m | \u001b[0m8.011    \u001b[0m | \u001b[0m2.715    \u001b[0m | \u001b[0m8.329    \u001b[0m | \u001b[0m2.734    \u001b[0m | \u001b[0m291.8    \u001b[0m |\n"
     ]
    },
    {
     "name": "stderr",
     "output_type": "stream",
     "text": [
      "/Users/federico.ravenda/anaconda3/envs/fastm/lib/python3.9/site-packages/sklearn/cluster/_kmeans.py:1416: FutureWarning: The default value of `n_init` will change from 10 to 'auto' in 1.4. Set the value of `n_init` explicitly to suppress the warning\n",
      "  super()._check_params_vs_input(X, default_n_init=10)\n"
     ]
    },
    {
     "name": "stdout",
     "output_type": "stream",
     "text": [
      "| \u001b[0m154      \u001b[0m | \u001b[0m0.1507   \u001b[0m | \u001b[0m8.235    \u001b[0m | \u001b[0m2.102    \u001b[0m | \u001b[0m8.835    \u001b[0m | \u001b[0m2.81     \u001b[0m | \u001b[0m293.2    \u001b[0m |\n"
     ]
    },
    {
     "name": "stderr",
     "output_type": "stream",
     "text": [
      "/Users/federico.ravenda/anaconda3/envs/fastm/lib/python3.9/site-packages/sklearn/cluster/_kmeans.py:1416: FutureWarning: The default value of `n_init` will change from 10 to 'auto' in 1.4. Set the value of `n_init` explicitly to suppress the warning\n",
      "  super()._check_params_vs_input(X, default_n_init=10)\n"
     ]
    },
    {
     "name": "stdout",
     "output_type": "stream",
     "text": [
      "| \u001b[0m155      \u001b[0m | \u001b[0m0.1369   \u001b[0m | \u001b[0m7.767    \u001b[0m | \u001b[0m2.673    \u001b[0m | \u001b[0m8.757    \u001b[0m | \u001b[0m2.667    \u001b[0m | \u001b[0m292.6    \u001b[0m |\n"
     ]
    },
    {
     "name": "stderr",
     "output_type": "stream",
     "text": [
      "/Users/federico.ravenda/anaconda3/envs/fastm/lib/python3.9/site-packages/sklearn/cluster/_kmeans.py:1416: FutureWarning: The default value of `n_init` will change from 10 to 'auto' in 1.4. Set the value of `n_init` explicitly to suppress the warning\n",
      "  super()._check_params_vs_input(X, default_n_init=10)\n"
     ]
    },
    {
     "name": "stdout",
     "output_type": "stream",
     "text": [
      "| \u001b[0m156      \u001b[0m | \u001b[0m0.1142   \u001b[0m | \u001b[0m8.228    \u001b[0m | \u001b[0m1.978    \u001b[0m | \u001b[0m8.345    \u001b[0m | \u001b[0m3.95     \u001b[0m | \u001b[0m292.9    \u001b[0m |\n"
     ]
    },
    {
     "name": "stderr",
     "output_type": "stream",
     "text": [
      "/Users/federico.ravenda/anaconda3/envs/fastm/lib/python3.9/site-packages/sklearn/cluster/_kmeans.py:1416: FutureWarning: The default value of `n_init` will change from 10 to 'auto' in 1.4. Set the value of `n_init` explicitly to suppress the warning\n",
      "  super()._check_params_vs_input(X, default_n_init=10)\n"
     ]
    },
    {
     "name": "stdout",
     "output_type": "stream",
     "text": [
      "| \u001b[0m157      \u001b[0m | \u001b[0m0.1404   \u001b[0m | \u001b[0m7.699    \u001b[0m | \u001b[0m1.898    \u001b[0m | \u001b[0m8.859    \u001b[0m | \u001b[0m2.488    \u001b[0m | \u001b[0m291.8    \u001b[0m |\n"
     ]
    },
    {
     "name": "stderr",
     "output_type": "stream",
     "text": [
      "/Users/federico.ravenda/anaconda3/envs/fastm/lib/python3.9/site-packages/sklearn/cluster/_kmeans.py:1416: FutureWarning: The default value of `n_init` will change from 10 to 'auto' in 1.4. Set the value of `n_init` explicitly to suppress the warning\n",
      "  super()._check_params_vs_input(X, default_n_init=10)\n"
     ]
    },
    {
     "name": "stdout",
     "output_type": "stream",
     "text": [
      "| \u001b[0m158      \u001b[0m | \u001b[0m0.1078   \u001b[0m | \u001b[0m8.492    \u001b[0m | \u001b[0m2.341    \u001b[0m | \u001b[0m9.847    \u001b[0m | \u001b[0m2.592    \u001b[0m | \u001b[0m292.8    \u001b[0m |\n"
     ]
    },
    {
     "name": "stderr",
     "output_type": "stream",
     "text": [
      "/Users/federico.ravenda/anaconda3/envs/fastm/lib/python3.9/site-packages/sklearn/cluster/_kmeans.py:1416: FutureWarning: The default value of `n_init` will change from 10 to 'auto' in 1.4. Set the value of `n_init` explicitly to suppress the warning\n",
      "  super()._check_params_vs_input(X, default_n_init=10)\n"
     ]
    },
    {
     "name": "stdout",
     "output_type": "stream",
     "text": [
      "| \u001b[0m159      \u001b[0m | \u001b[0m0.1625   \u001b[0m | \u001b[0m4.389    \u001b[0m | \u001b[0m1.594    \u001b[0m | \u001b[0m11.42    \u001b[0m | \u001b[0m3.145    \u001b[0m | \u001b[0m330.8    \u001b[0m |\n"
     ]
    },
    {
     "name": "stderr",
     "output_type": "stream",
     "text": [
      "/Users/federico.ravenda/anaconda3/envs/fastm/lib/python3.9/site-packages/sklearn/cluster/_kmeans.py:1416: FutureWarning: The default value of `n_init` will change from 10 to 'auto' in 1.4. Set the value of `n_init` explicitly to suppress the warning\n",
      "  super()._check_params_vs_input(X, default_n_init=10)\n"
     ]
    },
    {
     "name": "stdout",
     "output_type": "stream",
     "text": [
      "| \u001b[0m160      \u001b[0m | \u001b[0m0.1267   \u001b[0m | \u001b[0m4.896    \u001b[0m | \u001b[0m1.614    \u001b[0m | \u001b[0m11.3     \u001b[0m | \u001b[0m3.533    \u001b[0m | \u001b[0m330.7    \u001b[0m |\n",
      "=====================================================================================\n"
     ]
    }
   ],
   "source": [
    "from bayes_opt import BayesianOptimization\n",
    "\n",
    "optimizer = BayesianOptimization(\n",
    "    f=fed_to_BO,\n",
    "    pbounds=pbounds,\n",
    "    random_state=0,\n",
    ")\n",
    "\n",
    "optimizer.maximize(\n",
    "    init_points=10,\n",
    "    n_iter=150\n",
    ")"
   ]
  },
  {
   "cell_type": "code",
   "execution_count": null,
   "id": "4d0eb371",
   "metadata": {},
   "outputs": [],
   "source": []
  },
  {
   "cell_type": "code",
   "execution_count": null,
   "id": "049e2177",
   "metadata": {},
   "outputs": [],
   "source": []
  },
  {
   "cell_type": "code",
   "execution_count": null,
   "id": "65142dd8",
   "metadata": {},
   "outputs": [],
   "source": []
  },
  {
   "cell_type": "code",
   "execution_count": null,
   "id": "19d75988",
   "metadata": {},
   "outputs": [],
   "source": [
    "def plot_topics(topic_representations):\n",
    "    tt = [topics[:10] for topics in topic_representations]\n",
    "    texts = [' \\n '.join(text) for text in tt]\n",
    "\n",
    "    fig, axs = plt.subplots(4, 5, figsize=(10, 15))\n",
    "\n",
    "    for i, ax in enumerate(axs.flatten()):\n",
    "        if i < len(texts):\n",
    "            ax.text(0.5, 0.5, texts[i], fontsize=12, ha='center', va='center',\n",
    "                  bbox=dict(facecolor='black', edgecolor='black'), color = 'white')\n",
    "            ax.axis('off')\n",
    "        else:\n",
    "            ax.axis('off')\n",
    "    plt.show()\n",
    "plot_topics(topic_representations)"
   ]
  },
  {
   "cell_type": "code",
   "execution_count": null,
   "id": "74e78adb",
   "metadata": {},
   "outputs": [],
   "source": [
    "inp1 = Input(shape=(input1.shape[1], ))\n",
    "inp2 = Input(shape=(input2.shape[1], ))\n",
    "inputs = [inp1, inp2]\n",
    "input_c = Concatenate()(inputs)\n",
    "hidden1 = Dense(256, activation=\"relu\")(input_c)\n",
    "dropout1 = Dropout(0.2)(hidden1, training=True) # MC Dropout after first Dense layer\n",
    "hidden2 = Dense(256, activation=\"relu\")(hidden1)\n",
    "dropout2 = Dropout(0.3)(hidden2, training=True) # MC Dropout after second Dense layer\n",
    "outs = Dense(out.shape[1], activation='softmax')(hidden1)\n",
    "\n",
    "model_softmax = Model(inputs=[inp1, inp2], outputs=outs)\n",
    "model_softmax.compile(keras.optimizers.legacy.Adam(learning_rate=0.01), loss=keras.losses.CategoricalCrossentropy())\n",
    "# model_softmax.summary()\n",
    "\n",
    "model_softmax.fit([input1, input2], out, epochs = 50)\n",
    "predictions = model_softmax.predict([X_pred, X_pred])\n",
    "topic_representations = extract_topic_representations(predictions)\n",
    "documents = [doc.split() for doc in docs]\n",
    "dictionary = corpora.Dictionary(documents)\n",
    "corpus = [dictionary.doc2bow(doc) for doc in documents]\n",
    "cm = CoherenceModel(topics=topic_representations, texts = documents, dictionary = dictionary, coherence='c_npmi')\n",
    "coherence = cm.get_coherence()\n",
    "print(f'Topic Coherence C_NPMI: {coherence}')\n",
    "cm = CoherenceModel(topics=topic_representations, texts = documents, dictionary = dictionary, coherence='c_uci')\n",
    "coherence = cm.get_coherence()\n",
    "print(f'Topic Coherence C_UCI: {coherence}')\n",
    "print('Topic diveristy is: {}'.format(calculate_topic_diversity(topic_representations)))"
   ]
  },
  {
   "cell_type": "code",
   "execution_count": null,
   "id": "515563fc",
   "metadata": {},
   "outputs": [],
   "source": [
    "# n_combinations = 2\n",
    "# NPMI = 0.67\n",
    "# UCI = 1.3"
   ]
  },
  {
   "cell_type": "code",
   "execution_count": null,
   "id": "cbafc484",
   "metadata": {},
   "outputs": [],
   "source": []
  },
  {
   "cell_type": "code",
   "execution_count": null,
   "id": "9c1b4eea",
   "metadata": {},
   "outputs": [],
   "source": []
  },
  {
   "cell_type": "code",
   "execution_count": null,
   "id": "1ae40df9",
   "metadata": {},
   "outputs": [],
   "source": []
  },
  {
   "cell_type": "code",
   "execution_count": null,
   "id": "67292b04",
   "metadata": {},
   "outputs": [],
   "source": []
  },
  {
   "cell_type": "code",
   "execution_count": null,
   "id": "4171245a",
   "metadata": {},
   "outputs": [],
   "source": []
  },
  {
   "cell_type": "code",
   "execution_count": null,
   "id": "0365751c",
   "metadata": {},
   "outputs": [],
   "source": []
  },
  {
   "cell_type": "code",
   "execution_count": null,
   "id": "f8b37062",
   "metadata": {},
   "outputs": [],
   "source": [
    "topics = [\n",
    "    \"Components and Features of Bicycles\",\n",
    "    \"Sexual Orientation and Morality\",\n",
    "    \"Computer Hardware and Configuration\",\n",
    "    \"Understanding Human Behavior and Thought\",\n",
    "    \"Medical Conditions and Treatments\",\n",
    "    \"Cryptography and Data Security\",\n",
    "    \"Sports and Gameplay\",\n",
    "    \"Space Exploration and Celestial Bodies\",\n",
    "    \"Homes and Domestic Incidents\",\n",
    "    \"Law, Crime, and Governance\",\n",
    "    \"Christian Theology and Beliefs\",\n",
    "    \"Communication and Distribution\",\n",
    "    \"Reading, Communication, and Experience\",\n",
    "    \"Religion, Existence, and Philosophy\",\n",
    "    \"Computer Software and User Interface\",\n",
    "    \"Educational Institutions and Personnel\",\n",
    "    \"Christian Teachings and Concepts\",\n",
    "    \"Marketplace, Product Conditions, and Sales\",\n",
    "    \"Technology Performance and Specifications\",\n",
    "    \"Software Development and File Management\"\n",
    "]\n"
   ]
  },
  {
   "cell_type": "code",
   "execution_count": null,
   "id": "e47fb244",
   "metadata": {},
   "outputs": [],
   "source": [
    "topics = [\n",
    "    \"Bicycles\",\n",
    "    \"Sexuality\",\n",
    "    \"Hardware\",\n",
    "    \"Behavior\",\n",
    "    \"Medicine\",\n",
    "    \"Cryptography\",\n",
    "    \"Sports\",\n",
    "    \"Space\",\n",
    "    \"Domesticity\",\n",
    "    \"Governance\",\n",
    "    \"Theology\",\n",
    "    \"Communication\",\n",
    "    \"Experience\",\n",
    "    \"Philosophy\",\n",
    "    \"Software\",\n",
    "    \"Education\",\n",
    "    \"Faith\",\n",
    "    \"Commerce\",\n",
    "    \"Performance\",\n",
    "    \"Development\"\n",
    "]\n"
   ]
  },
  {
   "cell_type": "code",
   "execution_count": null,
   "id": "e613223b",
   "metadata": {},
   "outputs": [],
   "source": []
  },
  {
   "cell_type": "code",
   "execution_count": null,
   "id": "d0545d47",
   "metadata": {},
   "outputs": [],
   "source": []
  },
  {
   "cell_type": "code",
   "execution_count": null,
   "id": "a52c4189",
   "metadata": {},
   "outputs": [],
   "source": []
  },
  {
   "cell_type": "code",
   "execution_count": null,
   "id": "af18139c",
   "metadata": {},
   "outputs": [],
   "source": []
  },
  {
   "cell_type": "code",
   "execution_count": null,
   "id": "749a2f3f",
   "metadata": {},
   "outputs": [],
   "source": []
  },
  {
   "cell_type": "code",
   "execution_count": null,
   "id": "8bcaa02f",
   "metadata": {},
   "outputs": [],
   "source": [
    "topic_representations"
   ]
  },
  {
   "cell_type": "code",
   "execution_count": null,
   "id": "0b2502ac",
   "metadata": {},
   "outputs": [],
   "source": [
    "import torch\n",
    "from transformers import AutoModelForSequenceClassification, AutoTokenizer, pipeline\n",
    "\n",
    "class ZeroShotClassifier:\n",
    "    def __init__(self):\n",
    "        # Caricamento del modello e del tokenizer\n",
    "        model_name = \"facebook/bart-large-mnli\"\n",
    "        self.tokenizer = AutoTokenizer.from_pretrained(model_name)\n",
    "        self.model = AutoModelForSequenceClassification.from_pretrained(model_name)\n",
    "        self.classifier = pipeline(\"zero-shot-classification\", model=self.model, tokenizer=self.tokenizer)\n",
    "\n",
    "    def predict(self, text, labels):\n",
    "        \"\"\"\n",
    "        Classifica il testo nelle etichette fornite.\n",
    "        \n",
    "        Args:\n",
    "        - text (str): Il testo da classificare.\n",
    "        - labels (list): Una lista di etichette possibili.\n",
    "        \n",
    "        Returns:\n",
    "        - dict: Un dizionario con 'sequence', 'labels', e 'scores'.\n",
    "        \"\"\"\n",
    "        return self.classifier(text, labels)\n"
   ]
  },
  {
   "cell_type": "code",
   "execution_count": null,
   "id": "d003c5c8",
   "metadata": {},
   "outputs": [],
   "source": [
    "topics = []\n",
    "for topic in topic_representations:\n",
    "    string = ''\n",
    "    for word in topic:\n",
    "        string = string + ', ' + word\n",
    "    topics.append(string[2:])"
   ]
  },
  {
   "cell_type": "code",
   "execution_count": null,
   "id": "c396c6fb",
   "metadata": {},
   "outputs": [],
   "source": [
    "topics"
   ]
  },
  {
   "cell_type": "code",
   "execution_count": null,
   "id": "8f7955db",
   "metadata": {},
   "outputs": [],
   "source": [
    "documents = [doc.lower() for doc in data['data']]\n",
    "\n",
    "# Remove punctuation and trailing lines\n",
    "# documents_processed = [re.sub(r'[^\\w\\s]', '', doc).strip().lower() for doc in documents]\n",
    "documents_processed = [re.sub('[\\t\\n]', ' ', doc).strip() for doc in documents]"
   ]
  },
  {
   "cell_type": "code",
   "execution_count": null,
   "id": "bc0b9142",
   "metadata": {},
   "outputs": [],
   "source": [
    "import random\n",
    "iid = random.sample(range(len(documents_processed)), 650)\n",
    "sample = np.array(documents_processed)[iid]"
   ]
  },
  {
   "cell_type": "code",
   "execution_count": null,
   "id": "9273c700",
   "metadata": {},
   "outputs": [],
   "source": [
    "sample_filtered = []\n",
    "for samp in sample: \n",
    "    if len(samp) > 20:\n",
    "        sample_filtered.append(samp)"
   ]
  },
  {
   "cell_type": "code",
   "execution_count": null,
   "id": "85daf1bb",
   "metadata": {},
   "outputs": [],
   "source": [
    "pd.DataFrame(np.array(sample_filtered)[:600], columns = ['Text']).to_csv('samples.csv')"
   ]
  },
  {
   "cell_type": "code",
   "execution_count": null,
   "id": "89d78831",
   "metadata": {},
   "outputs": [],
   "source": [
    "scores = []\n",
    "out_labels = []\n",
    "if __name__ == \"__main__\":\n",
    "    classifier = ZeroShotClassifier()\n",
    "    for k, doc_ in enumerate(sample):\n",
    "        print('********************************')\n",
    "        print(k)\n",
    "        text = doc_\n",
    "        labels = topics\n",
    "        predictions = classifier.predict(text, labels)\n",
    "        out_labels.append(predictions['labels'])\n",
    "        scores.append(predictions['scores'])\n",
    "        print(doc_)\n",
    "        print(predictions['labels'])\n",
    "        print(predictions['scores'])\n"
   ]
  },
  {
   "cell_type": "code",
   "execution_count": null,
   "id": "217a0794",
   "metadata": {},
   "outputs": [],
   "source": [
    "documents_processed[0]"
   ]
  },
  {
   "cell_type": "code",
   "execution_count": null,
   "id": "8e70bfc7",
   "metadata": {},
   "outputs": [],
   "source": [
    "classifier = ZeroShotClassifier()\n",
    "text = documents_processed[120]\n",
    "labels = topics\n",
    "predictions = classifier.predict(text, labels)"
   ]
  },
  {
   "cell_type": "code",
   "execution_count": null,
   "id": "fc7aa760",
   "metadata": {},
   "outputs": [],
   "source": [
    "documents_processed[120]"
   ]
  },
  {
   "cell_type": "code",
   "execution_count": null,
   "id": "62df1f4c",
   "metadata": {},
   "outputs": [],
   "source": [
    "predictions"
   ]
  },
  {
   "cell_type": "code",
   "execution_count": null,
   "id": "2f8ca833",
   "metadata": {},
   "outputs": [],
   "source": [
    "topics"
   ]
  },
  {
   "cell_type": "code",
   "execution_count": null,
   "id": "6693c636",
   "metadata": {},
   "outputs": [],
   "source": [
    "dic_topics = {}\n",
    "for i, top in enumerate(topics):\n",
    "    dic_topics[top] = i"
   ]
  },
  {
   "cell_type": "code",
   "execution_count": null,
   "id": "60972aa6",
   "metadata": {},
   "outputs": [],
   "source": [
    "lab_zeroshot = []\n",
    "for lab in out_labels:\n",
    "    lab_zeroshot.append(dic_topics[lab[0]])"
   ]
  },
  {
   "cell_type": "code",
   "execution_count": null,
   "id": "ba82435a",
   "metadata": {},
   "outputs": [],
   "source": [
    "len(lab_zeroshot)"
   ]
  },
  {
   "cell_type": "code",
   "execution_count": null,
   "id": "a42f72c0",
   "metadata": {},
   "outputs": [],
   "source": [
    "out_labels"
   ]
  },
  {
   "cell_type": "code",
   "execution_count": null,
   "id": "6e76e0d1",
   "metadata": {},
   "outputs": [],
   "source": [
    "scores"
   ]
  },
  {
   "cell_type": "code",
   "execution_count": null,
   "id": "12909ee0",
   "metadata": {},
   "outputs": [],
   "source": [
    "np.column_stack((lab_zeroshot, data['target'][:63]))"
   ]
  },
  {
   "cell_type": "code",
   "execution_count": null,
   "id": "c88f5866",
   "metadata": {},
   "outputs": [],
   "source": [
    "adjusted_rand_score(data['target'][:63], lab_zeroshot)"
   ]
  },
  {
   "cell_type": "code",
   "execution_count": null,
   "id": "acf977d5",
   "metadata": {},
   "outputs": [],
   "source": [
    "length = 15\n",
    "def remove_few_words_docs(length, dd):\n",
    "    docs = []\n",
    "    for i, d in enumerate(dd):\n",
    "        if len(d)>length:\n",
    "            docs.append(d)\n",
    "    return docs\n",
    "documents_processed = remove_few_words_docs(15, documents_processed)"
   ]
  }
 ],
 "metadata": {
  "kernelspec": {
   "display_name": "Python 3 (ipykernel)",
   "language": "python",
   "name": "python3"
  },
  "language_info": {
   "codemirror_mode": {
    "name": "ipython",
    "version": 3
   },
   "file_extension": ".py",
   "mimetype": "text/x-python",
   "name": "python",
   "nbconvert_exporter": "python",
   "pygments_lexer": "ipython3",
   "version": "3.9.18"
  }
 },
 "nbformat": 4,
 "nbformat_minor": 5
}
